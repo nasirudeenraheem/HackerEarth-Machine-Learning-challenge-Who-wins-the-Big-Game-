{
 "cells": [
  {
   "cell_type": "code",
   "execution_count": 1,
   "metadata": {},
   "outputs": [],
   "source": [
    "import pandas as pd\n",
    "import numpy as np\n",
    "import os, random, math, glob\n",
    "from IPython.display import Image as IM\n",
    "from IPython.display import clear_output\n",
    "from matplotlib import pyplot as plt\n",
    "%matplotlib inline\n",
    "plt.rcParams['figure.figsize'] = [16, 10]"
   ]
  },
  {
   "cell_type": "code",
   "execution_count": 98,
   "metadata": {},
   "outputs": [],
   "source": [
    "train = pd.read_csv('train.csv')\n",
    "test = pd.read_csv('test.csv')\n",
    "sub = pd.read_csv('sample_submission.csv')"
   ]
  },
  {
   "cell_type": "code",
   "execution_count": 99,
   "metadata": {},
   "outputs": [
    {
     "data": {
      "text/html": [
       "<div>\n",
       "<style scoped>\n",
       "    .dataframe tbody tr th:only-of-type {\n",
       "        vertical-align: middle;\n",
       "    }\n",
       "\n",
       "    .dataframe tbody tr th {\n",
       "        vertical-align: top;\n",
       "    }\n",
       "\n",
       "    .dataframe thead th {\n",
       "        text-align: right;\n",
       "    }\n",
       "</style>\n",
       "<table border=\"1\" class=\"dataframe\">\n",
       "  <thead>\n",
       "    <tr style=\"text-align: right;\">\n",
       "      <th></th>\n",
       "      <th>Won_Championship</th>\n",
       "      <th>Previous_SB_Wins</th>\n",
       "      <th>Number_Of_Wins_This_Season</th>\n",
       "      <th>Number_Of_First_Round_Draft_Picks</th>\n",
       "      <th>Team_Value</th>\n",
       "      <th>Playing_Style</th>\n",
       "      <th>Average_Player_Age</th>\n",
       "      <th>Number_Of_Injured_Players</th>\n",
       "      <th>Coach_Experience_Level</th>\n",
       "      <th>ID</th>\n",
       "    </tr>\n",
       "  </thead>\n",
       "  <tbody>\n",
       "    <tr>\n",
       "      <td>0</td>\n",
       "      <td>0</td>\n",
       "      <td>3</td>\n",
       "      <td>13</td>\n",
       "      <td>2</td>\n",
       "      <td>Less_Than_Four_Billion</td>\n",
       "      <td>Balanced</td>\n",
       "      <td>27</td>\n",
       "      <td>five</td>\n",
       "      <td>Intermediate</td>\n",
       "      <td>6056</td>\n",
       "    </tr>\n",
       "    <tr>\n",
       "      <td>1</td>\n",
       "      <td>0</td>\n",
       "      <td>2</td>\n",
       "      <td>14</td>\n",
       "      <td>2</td>\n",
       "      <td>Less_Than_Four_Billion</td>\n",
       "      <td>Aggressive_Offense</td>\n",
       "      <td>26</td>\n",
       "      <td>five</td>\n",
       "      <td>Intermediate</td>\n",
       "      <td>9702</td>\n",
       "    </tr>\n",
       "    <tr>\n",
       "      <td>2</td>\n",
       "      <td>1</td>\n",
       "      <td>2</td>\n",
       "      <td>13</td>\n",
       "      <td>1</td>\n",
       "      <td>Less_Than_Four_Billion</td>\n",
       "      <td>Aggressive_Defense</td>\n",
       "      <td>27</td>\n",
       "      <td>four</td>\n",
       "      <td>Intermediate</td>\n",
       "      <td>1745</td>\n",
       "    </tr>\n",
       "    <tr>\n",
       "      <td>3</td>\n",
       "      <td>0</td>\n",
       "      <td>2</td>\n",
       "      <td>12</td>\n",
       "      <td>2</td>\n",
       "      <td>Above_Four_Billion</td>\n",
       "      <td>Balanced</td>\n",
       "      <td>27</td>\n",
       "      <td>six</td>\n",
       "      <td>Intermediate</td>\n",
       "      <td>4757</td>\n",
       "    </tr>\n",
       "    <tr>\n",
       "      <td>4</td>\n",
       "      <td>0</td>\n",
       "      <td>1</td>\n",
       "      <td>15</td>\n",
       "      <td>2</td>\n",
       "      <td>Less_Than_Four_Billion</td>\n",
       "      <td>Balanced</td>\n",
       "      <td>26</td>\n",
       "      <td>five</td>\n",
       "      <td>Intermediate</td>\n",
       "      <td>7242</td>\n",
       "    </tr>\n",
       "  </tbody>\n",
       "</table>\n",
       "</div>"
      ],
      "text/plain": [
       "   Won_Championship  Previous_SB_Wins  Number_Of_Wins_This_Season  \\\n",
       "0                 0                 3                          13   \n",
       "1                 0                 2                          14   \n",
       "2                 1                 2                          13   \n",
       "3                 0                 2                          12   \n",
       "4                 0                 1                          15   \n",
       "\n",
       "   Number_Of_First_Round_Draft_Picks              Team_Value  \\\n",
       "0                                  2  Less_Than_Four_Billion   \n",
       "1                                  2  Less_Than_Four_Billion   \n",
       "2                                  1  Less_Than_Four_Billion   \n",
       "3                                  2      Above_Four_Billion   \n",
       "4                                  2  Less_Than_Four_Billion   \n",
       "\n",
       "        Playing_Style  Average_Player_Age Number_Of_Injured_Players  \\\n",
       "0            Balanced                  27                      five   \n",
       "1  Aggressive_Offense                  26                      five   \n",
       "2  Aggressive_Defense                  27                      four   \n",
       "3            Balanced                  27                       six   \n",
       "4            Balanced                  26                      five   \n",
       "\n",
       "  Coach_Experience_Level    ID  \n",
       "0           Intermediate  6056  \n",
       "1           Intermediate  9702  \n",
       "2           Intermediate  1745  \n",
       "3           Intermediate  4757  \n",
       "4           Intermediate  7242  "
      ]
     },
     "execution_count": 99,
     "metadata": {},
     "output_type": "execute_result"
    }
   ],
   "source": [
    "train.head()"
   ]
  },
  {
   "cell_type": "code",
   "execution_count": 100,
   "metadata": {},
   "outputs": [
    {
     "data": {
      "text/plain": [
       "1    3255\n",
       "0    3245\n",
       "Name: Won_Championship, dtype: int64"
      ]
     },
     "execution_count": 100,
     "metadata": {},
     "output_type": "execute_result"
    }
   ],
   "source": [
    "train['Won_Championship'].value_counts()"
   ]
  },
  {
   "cell_type": "code",
   "execution_count": 101,
   "metadata": {},
   "outputs": [],
   "source": [
    "test_id = test['ID']"
   ]
  },
  {
   "cell_type": "code",
   "execution_count": 102,
   "metadata": {},
   "outputs": [],
   "source": [
    "test = test.drop(['ID', 'Playing_Style'], axis=1)"
   ]
  },
  {
   "cell_type": "code",
   "execution_count": 103,
   "metadata": {},
   "outputs": [],
   "source": [
    "train = train.drop(['ID', 'Playing_Style'], axis=1)"
   ]
  },
  {
   "cell_type": "code",
   "execution_count": 76,
   "metadata": {},
   "outputs": [
    {
     "data": {
      "text/html": [
       "<div>\n",
       "<style scoped>\n",
       "    .dataframe tbody tr th:only-of-type {\n",
       "        vertical-align: middle;\n",
       "    }\n",
       "\n",
       "    .dataframe tbody tr th {\n",
       "        vertical-align: top;\n",
       "    }\n",
       "\n",
       "    .dataframe thead th {\n",
       "        text-align: right;\n",
       "    }\n",
       "</style>\n",
       "<table border=\"1\" class=\"dataframe\">\n",
       "  <thead>\n",
       "    <tr style=\"text-align: right;\">\n",
       "      <th></th>\n",
       "      <th>Won_Championship</th>\n",
       "      <th>Previous_SB_Wins</th>\n",
       "      <th>Number_Of_Wins_This_Season</th>\n",
       "      <th>Number_Of_First_Round_Draft_Picks</th>\n",
       "      <th>Team_Value</th>\n",
       "      <th>Average_Player_Age</th>\n",
       "      <th>Number_Of_Injured_Players</th>\n",
       "      <th>Coach_Experience_Level</th>\n",
       "    </tr>\n",
       "  </thead>\n",
       "  <tbody>\n",
       "    <tr>\n",
       "      <td>0</td>\n",
       "      <td>0</td>\n",
       "      <td>3</td>\n",
       "      <td>13</td>\n",
       "      <td>2</td>\n",
       "      <td>Less_Than_Four_Billion</td>\n",
       "      <td>27</td>\n",
       "      <td>five</td>\n",
       "      <td>Intermediate</td>\n",
       "    </tr>\n",
       "    <tr>\n",
       "      <td>1</td>\n",
       "      <td>0</td>\n",
       "      <td>2</td>\n",
       "      <td>14</td>\n",
       "      <td>2</td>\n",
       "      <td>Less_Than_Four_Billion</td>\n",
       "      <td>26</td>\n",
       "      <td>five</td>\n",
       "      <td>Intermediate</td>\n",
       "    </tr>\n",
       "    <tr>\n",
       "      <td>2</td>\n",
       "      <td>1</td>\n",
       "      <td>2</td>\n",
       "      <td>13</td>\n",
       "      <td>1</td>\n",
       "      <td>Less_Than_Four_Billion</td>\n",
       "      <td>27</td>\n",
       "      <td>four</td>\n",
       "      <td>Intermediate</td>\n",
       "    </tr>\n",
       "    <tr>\n",
       "      <td>3</td>\n",
       "      <td>0</td>\n",
       "      <td>2</td>\n",
       "      <td>12</td>\n",
       "      <td>2</td>\n",
       "      <td>Above_Four_Billion</td>\n",
       "      <td>27</td>\n",
       "      <td>six</td>\n",
       "      <td>Intermediate</td>\n",
       "    </tr>\n",
       "    <tr>\n",
       "      <td>4</td>\n",
       "      <td>0</td>\n",
       "      <td>1</td>\n",
       "      <td>15</td>\n",
       "      <td>2</td>\n",
       "      <td>Less_Than_Four_Billion</td>\n",
       "      <td>26</td>\n",
       "      <td>five</td>\n",
       "      <td>Intermediate</td>\n",
       "    </tr>\n",
       "  </tbody>\n",
       "</table>\n",
       "</div>"
      ],
      "text/plain": [
       "   Won_Championship  Previous_SB_Wins  Number_Of_Wins_This_Season  \\\n",
       "0                 0                 3                          13   \n",
       "1                 0                 2                          14   \n",
       "2                 1                 2                          13   \n",
       "3                 0                 2                          12   \n",
       "4                 0                 1                          15   \n",
       "\n",
       "   Number_Of_First_Round_Draft_Picks              Team_Value  \\\n",
       "0                                  2  Less_Than_Four_Billion   \n",
       "1                                  2  Less_Than_Four_Billion   \n",
       "2                                  1  Less_Than_Four_Billion   \n",
       "3                                  2      Above_Four_Billion   \n",
       "4                                  2  Less_Than_Four_Billion   \n",
       "\n",
       "   Average_Player_Age Number_Of_Injured_Players Coach_Experience_Level  \n",
       "0                  27                      five           Intermediate  \n",
       "1                  26                      five           Intermediate  \n",
       "2                  27                      four           Intermediate  \n",
       "3                  27                       six           Intermediate  \n",
       "4                  26                      five           Intermediate  "
      ]
     },
     "execution_count": 76,
     "metadata": {},
     "output_type": "execute_result"
    }
   ],
   "source": [
    "train.head()"
   ]
  },
  {
   "cell_type": "code",
   "execution_count": 79,
   "metadata": {},
   "outputs": [],
   "source": [
    "#train['level+Value'] = train['Coach_Experience_Level'] + '_' + train['Team_Value']\n",
    "#test['level+Value'] = test['Coach_Experience_Level'] + '_' + test['Team_Value']"
   ]
  },
  {
   "cell_type": "code",
   "execution_count": 104,
   "metadata": {},
   "outputs": [],
   "source": [
    "X = train.drop('Won_Championship', axis=1)\n",
    "y = train['Won_Championship']"
   ]
  },
  {
   "cell_type": "code",
   "execution_count": 105,
   "metadata": {},
   "outputs": [],
   "source": [
    "from catboost import CatBoostClassifier\n",
    "from lightgbm import LGBMClassifier"
   ]
  },
  {
   "cell_type": "code",
   "execution_count": 106,
   "metadata": {},
   "outputs": [],
   "source": [
    "from sklearn.model_selection import train_test_split, StratifiedKFold"
   ]
  },
  {
   "cell_type": "code",
   "execution_count": 107,
   "metadata": {},
   "outputs": [],
   "source": [
    "# Split the data into 30% validation and 70% training\n",
    "X_train, X_test, y_train, y_test = train_test_split(X, y, test_size=0.15, random_state=1234)"
   ]
  },
  {
   "cell_type": "code",
   "execution_count": 108,
   "metadata": {},
   "outputs": [],
   "source": [
    "categorical_features_indices = np.where(X.dtypes != np.float)[0]"
   ]
  },
  {
   "cell_type": "code",
   "execution_count": 109,
   "metadata": {},
   "outputs": [],
   "source": [
    "model = CatBoostClassifier(#reg_lambda=5,#learning_rate=0.1,#200 best so far\n",
    "                          loss_function='Logloss', eval_metric='F1',\n",
    "                           #learning_rate=0.03,\n",
    "                       metric_period=20)#5"
   ]
  },
  {
   "cell_type": "code",
   "execution_count": 110,
   "metadata": {},
   "outputs": [],
   "source": [
    "#model.fit(X_train, y_train, cat_features=categorical_features_indices)"
   ]
  },
  {
   "cell_type": "code",
   "execution_count": 111,
   "metadata": {},
   "outputs": [
    {
     "name": "stdout",
     "output_type": "stream",
     "text": [
      "Learning rate set to 0.09472\n",
      "0:\tlearn: 0.5420254\ttest: 0.5411862\ttest1: 0.5123967\tbest: 0.5123967 (0)\ttotal: 15.2ms\tremaining: 15.2s\n"
     ]
    },
    {
     "name": "stderr",
     "output_type": "stream",
     "text": [
      "Warning: Overfitting detector is active, thus evaluation metric is calculated on every iteration. 'metric_period' is ignored for evaluation metric.\n"
     ]
    },
    {
     "name": "stdout",
     "output_type": "stream",
     "text": [
      "20:\tlearn: 0.7514879\ttest: 0.7614358\ttest1: 0.7672956\tbest: 0.7701863 (10)\ttotal: 213ms\tremaining: 9.91s\n",
      "40:\tlearn: 0.7611988\ttest: 0.7697463\ttest1: 0.7701863\tbest: 0.7721519 (21)\ttotal: 478ms\tremaining: 11.2s\n",
      "60:\tlearn: 0.7658004\ttest: 0.7704082\ttest1: 0.7777778\tbest: 0.7777778 (59)\ttotal: 705ms\tremaining: 10.8s\n",
      "80:\tlearn: 0.7702162\ttest: 0.7737226\ttest1: 0.7926829\tbest: 0.7926829 (74)\ttotal: 965ms\tremaining: 10.9s\n",
      "100:\tlearn: 0.7719974\ttest: 0.7750040\ttest1: 0.7926829\tbest: 0.7926829 (74)\ttotal: 1.21s\tremaining: 10.8s\n",
      "120:\tlearn: 0.7761051\ttest: 0.7751348\ttest1: 0.7926829\tbest: 0.7926829 (74)\ttotal: 1.49s\tremaining: 10.8s\n",
      "140:\tlearn: 0.7773150\ttest: 0.7743166\ttest1: 0.7926829\tbest: 0.7926829 (74)\ttotal: 1.78s\tremaining: 10.9s\n",
      "160:\tlearn: 0.7799648\ttest: 0.7748092\ttest1: 0.7852761\tbest: 0.7926829 (74)\ttotal: 2.06s\tremaining: 10.7s\n",
      "Stopped by overfitting detector  (100 iterations wait)\n",
      "\n",
      "bestTest = 0.7926829268\n",
      "bestIteration = 74\n",
      "\n",
      "Shrink model to first 75 iterations.\n",
      "err:  0.7926829268292683\n",
      "Learning rate set to 0.09472\n",
      "0:\tlearn: 0.5438165\ttest: 0.5426867\ttest1: 0.4482759\tbest: 0.4482759 (0)\ttotal: 15.9ms\tremaining: 15.9s\n"
     ]
    },
    {
     "name": "stderr",
     "output_type": "stream",
     "text": [
      "Warning: Overfitting detector is active, thus evaluation metric is calculated on every iteration. 'metric_period' is ignored for evaluation metric.\n"
     ]
    },
    {
     "name": "stdout",
     "output_type": "stream",
     "text": [
      "20:\tlearn: 0.7572199\ttest: 0.7671534\ttest1: 0.7261146\tbest: 0.7261146 (16)\ttotal: 217ms\tremaining: 10.1s\n",
      "40:\tlearn: 0.7645740\ttest: 0.7719911\ttest1: 0.7320261\tbest: 0.7320261 (23)\ttotal: 428ms\tremaining: 10s\n",
      "60:\tlearn: 0.7679487\ttest: 0.7736417\ttest1: 0.7320261\tbest: 0.7320261 (23)\ttotal: 651ms\tremaining: 10s\n",
      "80:\tlearn: 0.7702897\ttest: 0.7747235\ttest1: 0.7320261\tbest: 0.7320261 (23)\ttotal: 885ms\tremaining: 10s\n",
      "100:\tlearn: 0.7749242\ttest: 0.7774976\ttest1: 0.7354839\tbest: 0.7354839 (99)\ttotal: 1.13s\tremaining: 10.1s\n",
      "120:\tlearn: 0.7784850\ttest: 0.7777603\ttest1: 0.7354839\tbest: 0.7354839 (99)\ttotal: 1.41s\tremaining: 10.3s\n",
      "140:\tlearn: 0.7802005\ttest: 0.7767266\ttest1: 0.7354839\tbest: 0.7354839 (99)\ttotal: 1.7s\tremaining: 10.3s\n",
      "160:\tlearn: 0.7829544\ttest: 0.7807086\ttest1: 0.7225806\tbest: 0.7354839 (99)\ttotal: 2s\tremaining: 10.4s\n",
      "180:\tlearn: 0.7868801\ttest: 0.7814838\ttest1: 0.7225806\tbest: 0.7354839 (99)\ttotal: 2.39s\tremaining: 10.8s\n",
      "Stopped by overfitting detector  (100 iterations wait)\n",
      "\n",
      "bestTest = 0.735483871\n",
      "bestIteration = 99\n",
      "\n",
      "Shrink model to first 100 iterations.\n",
      "err:  0.75\n",
      "Learning rate set to 0.09472\n",
      "0:\tlearn: 0.5431554\ttest: 0.5430809\ttest1: 0.5538462\tbest: 0.5538462 (0)\ttotal: 15ms\tremaining: 15s\n"
     ]
    },
    {
     "name": "stderr",
     "output_type": "stream",
     "text": [
      "Warning: Overfitting detector is active, thus evaluation metric is calculated on every iteration. 'metric_period' is ignored for evaluation metric.\n"
     ]
    },
    {
     "name": "stdout",
     "output_type": "stream",
     "text": [
      "20:\tlearn: 0.7557972\ttest: 0.7694958\ttest1: 0.7836257\tbest: 0.7836257 (18)\ttotal: 289ms\tremaining: 13.5s\n",
      "40:\tlearn: 0.7622108\ttest: 0.7742540\ttest1: 0.7790698\tbest: 0.7836257 (18)\ttotal: 573ms\tremaining: 13.4s\n",
      "60:\tlearn: 0.7652620\ttest: 0.7747184\ttest1: 0.7790698\tbest: 0.7836257 (18)\ttotal: 761ms\tremaining: 11.7s\n",
      "80:\tlearn: 0.7681484\ttest: 0.7729926\ttest1: 0.7882353\tbest: 0.7882353 (65)\ttotal: 974ms\tremaining: 11s\n",
      "100:\tlearn: 0.7717565\ttest: 0.7781051\ttest1: 0.7976879\tbest: 0.7976879 (98)\ttotal: 1.21s\tremaining: 10.7s\n",
      "120:\tlearn: 0.7756594\ttest: 0.7775365\ttest1: 0.7906977\tbest: 0.7976879 (98)\ttotal: 1.44s\tremaining: 10.4s\n",
      "140:\tlearn: 0.7775837\ttest: 0.7771731\ttest1: 0.7906977\tbest: 0.7976879 (98)\ttotal: 1.73s\tremaining: 10.6s\n",
      "160:\tlearn: 0.7792907\ttest: 0.7776735\ttest1: 0.7906977\tbest: 0.7976879 (98)\ttotal: 2.03s\tremaining: 10.6s\n",
      "180:\tlearn: 0.7811608\ttest: 0.7781070\ttest1: 0.7976879\tbest: 0.7976879 (98)\ttotal: 2.35s\tremaining: 10.6s\n",
      "Stopped by overfitting detector  (100 iterations wait)\n",
      "\n",
      "bestTest = 0.7976878613\n",
      "bestIteration = 98\n",
      "\n",
      "Shrink model to first 99 iterations.\n",
      "err:  0.7865853658536586\n",
      "Learning rate set to 0.09472\n",
      "0:\tlearn: 0.5407407\ttest: 0.5421984\ttest1: 0.4576271\tbest: 0.4576271 (0)\ttotal: 20.8ms\tremaining: 20.8s\n"
     ]
    },
    {
     "name": "stderr",
     "output_type": "stream",
     "text": [
      "Warning: Overfitting detector is active, thus evaluation metric is calculated on every iteration. 'metric_period' is ignored for evaluation metric.\n"
     ]
    },
    {
     "name": "stdout",
     "output_type": "stream",
     "text": [
      "20:\tlearn: 0.7574984\ttest: 0.7677277\ttest1: 0.7450980\tbest: 0.7450980 (15)\ttotal: 248ms\tremaining: 11.6s\n",
      "40:\tlearn: 0.7657125\ttest: 0.7738411\ttest1: 0.7402597\tbest: 0.7450980 (15)\ttotal: 469ms\tremaining: 11s\n",
      "60:\tlearn: 0.7675052\ttest: 0.7722804\ttest1: 0.7368421\tbest: 0.7450980 (15)\ttotal: 751ms\tremaining: 11.6s\n",
      "80:\tlearn: 0.7693541\ttest: 0.7727705\ttest1: 0.7368421\tbest: 0.7450980 (15)\ttotal: 1s\tremaining: 11.4s\n",
      "100:\tlearn: 0.7732865\ttest: 0.7738869\ttest1: 0.7368421\tbest: 0.7450980 (15)\ttotal: 1.26s\tremaining: 11.2s\n",
      "Stopped by overfitting detector  (100 iterations wait)\n",
      "\n",
      "bestTest = 0.7450980392\n",
      "bestIteration = 15\n",
      "\n",
      "Shrink model to first 16 iterations.\n",
      "err:  0.7621951219512195\n",
      "Learning rate set to 0.09472\n",
      "0:\tlearn: 0.5427524\ttest: 0.5394601\ttest1: 0.5806452\tbest: 0.5806452 (0)\ttotal: 15.7ms\tremaining: 15.7s\n"
     ]
    },
    {
     "name": "stderr",
     "output_type": "stream",
     "text": [
      "Warning: Overfitting detector is active, thus evaluation metric is calculated on every iteration. 'metric_period' is ignored for evaluation metric.\n"
     ]
    },
    {
     "name": "stdout",
     "output_type": "stream",
     "text": [
      "20:\tlearn: 0.7552403\ttest: 0.7646873\ttest1: 0.7500000\tbest: 0.7573964 (10)\ttotal: 191ms\tremaining: 8.92s\n",
      "40:\tlearn: 0.7611155\ttest: 0.7674568\ttest1: 0.7500000\tbest: 0.7647059 (24)\ttotal: 360ms\tremaining: 8.42s\n",
      "60:\tlearn: 0.7658420\ttest: 0.7710959\ttest1: 0.7500000\tbest: 0.7647059 (24)\ttotal: 619ms\tremaining: 9.54s\n",
      "80:\tlearn: 0.7693780\ttest: 0.7733418\ttest1: 0.7544910\tbest: 0.7647059 (24)\ttotal: 869ms\tremaining: 9.86s\n",
      "100:\tlearn: 0.7708732\ttest: 0.7730959\ttest1: 0.7692308\tbest: 0.7692308 (84)\ttotal: 1.16s\tremaining: 10.3s\n",
      "120:\tlearn: 0.7749324\ttest: 0.7736390\ttest1: 0.7544910\tbest: 0.7692308 (84)\ttotal: 1.47s\tremaining: 10.7s\n",
      "140:\tlearn: 0.7794024\ttest: 0.7745316\ttest1: 0.7544910\tbest: 0.7692308 (84)\ttotal: 1.75s\tremaining: 10.7s\n",
      "160:\tlearn: 0.7803560\ttest: 0.7759632\ttest1: 0.7619048\tbest: 0.7692308 (84)\ttotal: 2.01s\tremaining: 10.5s\n",
      "180:\tlearn: 0.7837967\ttest: 0.7761761\ttest1: 0.7619048\tbest: 0.7692308 (84)\ttotal: 2.28s\tremaining: 10.3s\n",
      "200:\tlearn: 0.7852508\ttest: 0.7799469\ttest1: 0.7790698\tbest: 0.7790698 (183)\ttotal: 2.6s\tremaining: 10.3s\n",
      "220:\tlearn: 0.7874289\ttest: 0.7784394\ttest1: 0.7647059\tbest: 0.7790698 (183)\ttotal: 2.89s\tremaining: 10.2s\n",
      "240:\tlearn: 0.7911532\ttest: 0.7823794\ttest1: 0.7719298\tbest: 0.7790698 (183)\ttotal: 3.21s\tremaining: 10.1s\n",
      "260:\tlearn: 0.7931689\ttest: 0.7828110\ttest1: 0.7861272\tbest: 0.7861272 (252)\ttotal: 3.54s\tremaining: 10s\n",
      "280:\tlearn: 0.7941176\ttest: 0.7819174\ttest1: 0.7861272\tbest: 0.7861272 (252)\ttotal: 3.85s\tremaining: 9.86s\n",
      "300:\tlearn: 0.7969022\ttest: 0.7833800\ttest1: 0.7719298\tbest: 0.7906977 (285)\ttotal: 4.16s\tremaining: 9.66s\n",
      "320:\tlearn: 0.7986078\ttest: 0.7837039\ttest1: 0.7719298\tbest: 0.7906977 (285)\ttotal: 4.54s\tremaining: 9.6s\n",
      "340:\tlearn: 0.8005698\ttest: 0.7842833\ttest1: 0.7719298\tbest: 0.7906977 (285)\ttotal: 4.85s\tremaining: 9.37s\n",
      "360:\tlearn: 0.8022134\ttest: 0.7845390\ttest1: 0.7719298\tbest: 0.7906977 (285)\ttotal: 5.15s\tremaining: 9.12s\n",
      "380:\tlearn: 0.8024104\ttest: 0.7840397\ttest1: 0.7719298\tbest: 0.7906977 (285)\ttotal: 5.43s\tremaining: 8.82s\n",
      "Stopped by overfitting detector  (100 iterations wait)\n",
      "\n",
      "bestTest = 0.7906976744\n",
      "bestIteration = 285\n",
      "\n",
      "Shrink model to first 286 iterations.\n",
      "err:  0.7804878048780488\n",
      "Learning rate set to 0.094722\n",
      "0:\tlearn: 0.5358658\ttest: 0.5429374\ttest1: 0.5600000\tbest: 0.5600000 (0)\ttotal: 15ms\tremaining: 14.9s\n"
     ]
    },
    {
     "name": "stderr",
     "output_type": "stream",
     "text": [
      "Warning: Overfitting detector is active, thus evaluation metric is calculated on every iteration. 'metric_period' is ignored for evaluation metric.\n"
     ]
    },
    {
     "name": "stdout",
     "output_type": "stream",
     "text": [
      "20:\tlearn: 0.7452178\ttest: 0.7438206\ttest1: 0.7712418\tbest: 0.8176101 (16)\ttotal: 229ms\tremaining: 10.7s\n",
      "40:\tlearn: 0.7638254\ttest: 0.7656250\ttest1: 0.8322981\tbest: 0.8395062 (23)\ttotal: 437ms\tremaining: 10.2s\n",
      "60:\tlearn: 0.7664935\ttest: 0.7657415\ttest1: 0.8322981\tbest: 0.8395062 (23)\ttotal: 644ms\tremaining: 9.92s\n",
      "80:\tlearn: 0.7696443\ttest: 0.7659371\ttest1: 0.8322981\tbest: 0.8395062 (23)\ttotal: 881ms\tremaining: 10s\n",
      "100:\tlearn: 0.7736028\ttest: 0.7667518\ttest1: 0.8322981\tbest: 0.8395062 (23)\ttotal: 1.11s\tremaining: 9.85s\n",
      "120:\tlearn: 0.7747435\ttest: 0.7674641\ttest1: 0.8322981\tbest: 0.8395062 (23)\ttotal: 1.36s\tremaining: 9.91s\n",
      "Stopped by overfitting detector  (100 iterations wait)\n",
      "\n",
      "bestTest = 0.8395061728\n",
      "bestIteration = 23\n",
      "\n",
      "Shrink model to first 24 iterations.\n",
      "err:  0.8404907975460123\n",
      "Learning rate set to 0.094722\n",
      "0:\tlearn: 0.5419753\ttest: 0.5412976\ttest1: 0.4958678\tbest: 0.4958678 (0)\ttotal: 15ms\tremaining: 15s\n"
     ]
    },
    {
     "name": "stderr",
     "output_type": "stream",
     "text": [
      "Warning: Overfitting detector is active, thus evaluation metric is calculated on every iteration. 'metric_period' is ignored for evaluation metric.\n"
     ]
    },
    {
     "name": "stdout",
     "output_type": "stream",
     "text": [
      "20:\tlearn: 0.7599053\ttest: 0.7645386\ttest1: 0.7125000\tbest: 0.7204969 (17)\ttotal: 236ms\tremaining: 11s\n",
      "40:\tlearn: 0.7652119\ttest: 0.7594022\ttest1: 0.7012987\tbest: 0.7215190 (28)\ttotal: 506ms\tremaining: 11.8s\n",
      "60:\tlearn: 0.7692796\ttest: 0.7727848\ttest1: 0.7250000\tbest: 0.7250000 (51)\ttotal: 726ms\tremaining: 11.2s\n",
      "80:\tlearn: 0.7722521\ttest: 0.7730159\ttest1: 0.7329193\tbest: 0.7329193 (67)\ttotal: 932ms\tremaining: 10.6s\n",
      "100:\tlearn: 0.7752845\ttest: 0.7809642\ttest1: 0.7361963\tbest: 0.7361963 (93)\ttotal: 1.19s\tremaining: 10.6s\n",
      "120:\tlearn: 0.7776374\ttest: 0.7802983\ttest1: 0.7283951\tbest: 0.7361963 (93)\ttotal: 1.46s\tremaining: 10.6s\n",
      "140:\tlearn: 0.7807960\ttest: 0.7810117\ttest1: 0.7283951\tbest: 0.7361963 (93)\ttotal: 1.72s\tremaining: 10.5s\n",
      "160:\tlearn: 0.7828147\ttest: 0.7813910\ttest1: 0.7283951\tbest: 0.7361963 (93)\ttotal: 2.02s\tremaining: 10.5s\n",
      "180:\tlearn: 0.7853535\ttest: 0.7828501\ttest1: 0.7361963\tbest: 0.7361963 (93)\ttotal: 2.34s\tremaining: 10.6s\n",
      "Stopped by overfitting detector  (100 iterations wait)\n",
      "\n",
      "bestTest = 0.736196319\n",
      "bestIteration = 93\n",
      "\n",
      "Shrink model to first 94 iterations.\n",
      "err:  0.7361963190184049\n",
      "Learning rate set to 0.094722\n",
      "0:\tlearn: 0.5407743\ttest: 0.5406186\ttest1: 0.5238095\tbest: 0.5238095 (0)\ttotal: 16.1ms\tremaining: 16.1s\n",
      "20:\tlearn: 0.7614852\ttest: 0.7687988\ttest1: 0.7380952\tbest: 0.7469880 (10)\ttotal: 193ms\tremaining: 9s\n"
     ]
    },
    {
     "name": "stderr",
     "output_type": "stream",
     "text": [
      "Warning: Overfitting detector is active, thus evaluation metric is calculated on every iteration. 'metric_period' is ignored for evaluation metric.\n"
     ]
    },
    {
     "name": "stdout",
     "output_type": "stream",
     "text": [
      "40:\tlearn: 0.7682620\ttest: 0.7691331\ttest1: 0.7607362\tbest: 0.7607362 (40)\ttotal: 344ms\tremaining: 8.05s\n",
      "60:\tlearn: 0.7731066\ttest: 0.7707705\ttest1: 0.7530864\tbest: 0.7607362 (40)\ttotal: 547ms\tremaining: 8.42s\n",
      "80:\tlearn: 0.7768335\ttest: 0.7707937\ttest1: 0.7530864\tbest: 0.7607362 (40)\ttotal: 742ms\tremaining: 8.42s\n",
      "100:\tlearn: 0.7767449\ttest: 0.7717236\ttest1: 0.7530864\tbest: 0.7607362 (40)\ttotal: 948ms\tremaining: 8.43s\n",
      "120:\tlearn: 0.7812795\ttest: 0.7738152\ttest1: 0.7530864\tbest: 0.7607362 (40)\ttotal: 1.22s\tremaining: 8.84s\n",
      "140:\tlearn: 0.7828553\ttest: 0.7750832\ttest1: 0.7530864\tbest: 0.7607362 (40)\ttotal: 1.49s\tremaining: 9.08s\n",
      "Stopped by overfitting detector  (100 iterations wait)\n",
      "\n",
      "bestTest = 0.7607361963\n",
      "bestIteration = 40\n",
      "\n",
      "Shrink model to first 41 iterations.\n",
      "err:  0.7607361963190185\n",
      "Learning rate set to 0.094722\n",
      "0:\tlearn: 0.5326425\ttest: 0.5394927\ttest1: 0.5781250\tbest: 0.5781250 (0)\ttotal: 15ms\tremaining: 15s\n"
     ]
    },
    {
     "name": "stderr",
     "output_type": "stream",
     "text": [
      "Warning: Overfitting detector is active, thus evaluation metric is calculated on every iteration. 'metric_period' is ignored for evaluation metric.\n"
     ]
    },
    {
     "name": "stdout",
     "output_type": "stream",
     "text": [
      "20:\tlearn: 0.7425404\ttest: 0.7555055\ttest1: 0.8024691\tbest: 0.8098160 (16)\ttotal: 184ms\tremaining: 8.58s\n",
      "40:\tlearn: 0.7584333\ttest: 0.7677246\ttest1: 0.8192771\tbest: 0.8192771 (25)\ttotal: 402ms\tremaining: 9.41s\n",
      "60:\tlearn: 0.7646777\ttest: 0.7707736\ttest1: 0.8148148\tbest: 0.8192771 (25)\ttotal: 616ms\tremaining: 9.48s\n",
      "80:\tlearn: 0.7707504\ttest: 0.7722867\ttest1: 0.8148148\tbest: 0.8192771 (25)\ttotal: 864ms\tremaining: 9.81s\n",
      "100:\tlearn: 0.7737944\ttest: 0.7760539\ttest1: 0.8220859\tbest: 0.8220859 (97)\ttotal: 1.13s\tremaining: 10.1s\n",
      "120:\tlearn: 0.7763325\ttest: 0.7765074\ttest1: 0.8242424\tbest: 0.8292683 (107)\ttotal: 1.49s\tremaining: 10.8s\n",
      "140:\tlearn: 0.7811512\ttest: 0.7789343\ttest1: 0.8292683\tbest: 0.8292683 (107)\ttotal: 1.75s\tremaining: 10.7s\n",
      "160:\tlearn: 0.7839924\ttest: 0.7806462\ttest1: 0.8242424\tbest: 0.8292683 (107)\ttotal: 2.06s\tremaining: 10.7s\n",
      "180:\tlearn: 0.7870399\ttest: 0.7808198\ttest1: 0.8242424\tbest: 0.8292683 (107)\ttotal: 2.35s\tremaining: 10.6s\n",
      "200:\tlearn: 0.7928268\ttest: 0.7799720\ttest1: 0.8292683\tbest: 0.8292683 (107)\ttotal: 2.65s\tremaining: 10.5s\n",
      "Stopped by overfitting detector  (100 iterations wait)\n",
      "\n",
      "bestTest = 0.8292682927\n",
      "bestIteration = 107\n",
      "\n",
      "Shrink model to first 108 iterations.\n",
      "err:  0.8282208588957055\n",
      "Learning rate set to 0.094722\n",
      "0:\tlearn: 0.5422776\ttest: 0.5442886\ttest1: 0.5042017\tbest: 0.5042017 (0)\ttotal: 12.5ms\tremaining: 12.5s\n"
     ]
    },
    {
     "name": "stderr",
     "output_type": "stream",
     "text": [
      "Warning: Overfitting detector is active, thus evaluation metric is calculated on every iteration. 'metric_period' is ignored for evaluation metric.\n"
     ]
    },
    {
     "name": "stdout",
     "output_type": "stream",
     "text": [
      "20:\tlearn: 0.7485908\ttest: 0.7643831\ttest1: 0.7577640\tbest: 0.7577640 (20)\ttotal: 183ms\tremaining: 8.54s\n",
      "40:\tlearn: 0.7558647\ttest: 0.7707485\ttest1: 0.7530864\tbest: 0.7577640 (20)\ttotal: 388ms\tremaining: 9.07s\n",
      "60:\tlearn: 0.7597476\ttest: 0.7732168\ttest1: 0.7590361\tbest: 0.7636364 (55)\ttotal: 616ms\tremaining: 9.48s\n",
      "80:\tlearn: 0.7626873\ttest: 0.7744960\ttest1: 0.7515152\tbest: 0.7636364 (55)\ttotal: 863ms\tremaining: 9.79s\n",
      "100:\tlearn: 0.7678227\ttest: 0.7776557\ttest1: 0.7560976\tbest: 0.7636364 (55)\ttotal: 1.12s\tremaining: 10s\n",
      "120:\tlearn: 0.7702162\ttest: 0.7773419\ttest1: 0.7560976\tbest: 0.7636364 (55)\ttotal: 1.41s\tremaining: 10.3s\n",
      "140:\tlearn: 0.7767643\ttest: 0.7763965\ttest1: 0.7453416\tbest: 0.7636364 (55)\ttotal: 1.7s\tremaining: 10.3s\n",
      "Stopped by overfitting detector  (100 iterations wait)\n",
      "\n",
      "bestTest = 0.7636363636\n",
      "bestIteration = 55\n",
      "\n",
      "Shrink model to first 56 iterations.\n",
      "err:  0.7607361963190185\n",
      "Learning rate set to 0.094722\n",
      "0:\tlearn: 0.5433433\ttest: 0.5423865\ttest1: 0.5801527\tbest: 0.5801527 (0)\ttotal: 15.3ms\tremaining: 15.3s\n"
     ]
    },
    {
     "name": "stderr",
     "output_type": "stream",
     "text": [
      "Warning: Overfitting detector is active, thus evaluation metric is calculated on every iteration. 'metric_period' is ignored for evaluation metric.\n"
     ]
    },
    {
     "name": "stdout",
     "output_type": "stream",
     "text": [
      "20:\tlearn: 0.7574468\ttest: 0.7668961\ttest1: 0.7852761\tbest: 0.7901235 (16)\ttotal: 243ms\tremaining: 11.3s\n",
      "40:\tlearn: 0.7673431\ttest: 0.7686509\ttest1: 0.7852761\tbest: 0.7901235 (16)\ttotal: 453ms\tremaining: 10.6s\n",
      "60:\tlearn: 0.7703727\ttest: 0.7695486\ttest1: 0.7875000\tbest: 0.7950311 (44)\ttotal: 645ms\tremaining: 9.92s\n",
      "80:\tlearn: 0.7720019\ttest: 0.7702317\ttest1: 0.7875000\tbest: 0.7950311 (44)\ttotal: 875ms\tremaining: 9.92s\n",
      "100:\tlearn: 0.7768254\ttest: 0.7703539\ttest1: 0.7924528\tbest: 0.7950311 (44)\ttotal: 1.14s\tremaining: 10.2s\n",
      "120:\tlearn: 0.7794514\ttest: 0.7713787\ttest1: 0.7924528\tbest: 0.7950311 (44)\ttotal: 1.43s\tremaining: 10.4s\n",
      "140:\tlearn: 0.7812153\ttest: 0.7722143\ttest1: 0.7924528\tbest: 0.7950311 (44)\ttotal: 1.7s\tremaining: 10.3s\n",
      "Stopped by overfitting detector  (100 iterations wait)\n",
      "\n",
      "bestTest = 0.7950310559\n",
      "bestIteration = 44\n",
      "\n",
      "Shrink model to first 45 iterations.\n",
      "err:  0.7975460122699386\n",
      "Learning rate set to 0.094722\n",
      "0:\tlearn: 0.5730068\ttest: 0.5398722\ttest1: 0.5528455\tbest: 0.5528455 (0)\ttotal: 15.1ms\tremaining: 15.1s\n"
     ]
    },
    {
     "name": "stderr",
     "output_type": "stream",
     "text": [
      "Warning: Overfitting detector is active, thus evaluation metric is calculated on every iteration. 'metric_period' is ignored for evaluation metric.\n"
     ]
    },
    {
     "name": "stdout",
     "output_type": "stream",
     "text": [
      "20:\tlearn: 0.7595492\ttest: 0.7659508\ttest1: 0.7272727\tbest: 0.7272727 (18)\ttotal: 216ms\tremaining: 10.1s\n",
      "40:\tlearn: 0.7671924\ttest: 0.7733375\ttest1: 0.7349398\tbest: 0.7439024 (25)\ttotal: 462ms\tremaining: 10.8s\n",
      "60:\tlearn: 0.7685244\ttest: 0.7757595\ttest1: 0.7425150\tbest: 0.7469880 (44)\ttotal: 692ms\tremaining: 10.6s\n",
      "80:\tlearn: 0.7713787\ttest: 0.7754011\ttest1: 0.7469880\tbest: 0.7515152 (65)\ttotal: 939ms\tremaining: 10.6s\n",
      "100:\tlearn: 0.7760342\ttest: 0.7770580\ttest1: 0.7544910\tbest: 0.7544910 (85)\ttotal: 1.18s\tremaining: 10.5s\n",
      "120:\tlearn: 0.7772136\ttest: 0.7752257\ttest1: 0.7544910\tbest: 0.7544910 (85)\ttotal: 1.44s\tremaining: 10.4s\n",
      "140:\tlearn: 0.7785192\ttest: 0.7756847\ttest1: 0.7544910\tbest: 0.7544910 (85)\ttotal: 1.71s\tremaining: 10.4s\n",
      "160:\tlearn: 0.7805887\ttest: 0.7755682\ttest1: 0.7544910\tbest: 0.7544910 (85)\ttotal: 2.01s\tremaining: 10.5s\n",
      "180:\tlearn: 0.7834953\ttest: 0.7774612\ttest1: 0.7469880\tbest: 0.7544910 (85)\ttotal: 2.35s\tremaining: 10.6s\n",
      "Stopped by overfitting detector  (100 iterations wait)\n",
      "\n",
      "bestTest = 0.754491018\n",
      "bestIteration = 85\n",
      "\n",
      "Shrink model to first 86 iterations.\n",
      "err:  0.7484662576687117\n",
      "Learning rate set to 0.094722\n",
      "0:\tlearn: 0.5388109\ttest: 0.5402844\ttest1: 0.5365854\tbest: 0.5365854 (0)\ttotal: 17.7ms\tremaining: 17.6s\n"
     ]
    },
    {
     "name": "stderr",
     "output_type": "stream",
     "text": [
      "Warning: Overfitting detector is active, thus evaluation metric is calculated on every iteration. 'metric_period' is ignored for evaluation metric.\n"
     ]
    },
    {
     "name": "stdout",
     "output_type": "stream",
     "text": [
      "20:\tlearn: 0.7572970\ttest: 0.7531881\ttest1: 0.6928105\tbest: 0.7012987 (18)\ttotal: 213ms\tremaining: 9.91s\n",
      "40:\tlearn: 0.7644812\ttest: 0.7683508\ttest1: 0.6754967\tbest: 0.7012987 (18)\ttotal: 520ms\tremaining: 12.2s\n",
      "60:\tlearn: 0.7717287\ttest: 0.7736028\ttest1: 0.6797386\tbest: 0.7012987 (18)\ttotal: 851ms\tremaining: 13.1s\n",
      "80:\tlearn: 0.7772316\ttest: 0.7751181\ttest1: 0.6753247\tbest: 0.7012987 (18)\ttotal: 1.15s\tremaining: 13s\n",
      "100:\tlearn: 0.7793769\ttest: 0.7753304\ttest1: 0.6753247\tbest: 0.7012987 (18)\ttotal: 1.41s\tremaining: 12.6s\n",
      "Stopped by overfitting detector  (100 iterations wait)\n",
      "\n",
      "bestTest = 0.7012987013\n",
      "bestIteration = 18\n",
      "\n",
      "Shrink model to first 19 iterations.\n",
      "err:  0.7177914110429447\n",
      "Learning rate set to 0.094722\n",
      "0:\tlearn: 0.5464654\ttest: 0.5414742\ttest1: 0.6153846\tbest: 0.6153846 (0)\ttotal: 13.8ms\tremaining: 13.8s\n"
     ]
    },
    {
     "name": "stderr",
     "output_type": "stream",
     "text": [
      "Warning: Overfitting detector is active, thus evaluation metric is calculated on every iteration. 'metric_period' is ignored for evaluation metric.\n"
     ]
    },
    {
     "name": "stdout",
     "output_type": "stream",
     "text": [
      "20:\tlearn: 0.7607497\ttest: 0.7687716\ttest1: 0.8121212\tbest: 0.8121212 (13)\ttotal: 237ms\tremaining: 11s\n",
      "40:\tlearn: 0.7646314\ttest: 0.7699382\ttest1: 0.8072289\tbest: 0.8121212 (13)\ttotal: 505ms\tremaining: 11.8s\n",
      "60:\tlearn: 0.7683777\ttest: 0.7726053\ttest1: 0.8143713\tbest: 0.8263473 (47)\ttotal: 757ms\tremaining: 11.7s\n",
      "80:\tlearn: 0.7705518\ttest: 0.7734006\ttest1: 0.8192771\tbest: 0.8263473 (47)\ttotal: 985ms\tremaining: 11.2s\n",
      "100:\tlearn: 0.7738342\ttest: 0.7743460\ttest1: 0.8263473\tbest: 0.8263473 (47)\ttotal: 1.23s\tremaining: 11s\n",
      "120:\tlearn: 0.7768937\ttest: 0.7743356\ttest1: 0.8242424\tbest: 0.8263473 (47)\ttotal: 1.5s\tremaining: 10.9s\n",
      "140:\tlearn: 0.7771046\ttest: 0.7752597\ttest1: 0.8363636\tbest: 0.8363636 (134)\ttotal: 1.83s\tremaining: 11.2s\n",
      "160:\tlearn: 0.7811363\ttest: 0.7799753\ttest1: 0.8363636\tbest: 0.8363636 (134)\ttotal: 2.15s\tremaining: 11.2s\n",
      "180:\tlearn: 0.7851852\ttest: 0.7798023\ttest1: 0.8263473\tbest: 0.8363636 (134)\ttotal: 2.46s\tremaining: 11.2s\n",
      "200:\tlearn: 0.7863894\ttest: 0.7803522\ttest1: 0.8313253\tbest: 0.8363636 (134)\ttotal: 2.79s\tremaining: 11.1s\n",
      "220:\tlearn: 0.7895482\ttest: 0.7818042\ttest1: 0.8214286\tbest: 0.8363636 (134)\ttotal: 3.27s\tremaining: 11.5s\n",
      "Stopped by overfitting detector  (100 iterations wait)\n",
      "\n",
      "bestTest = 0.8363636364\n",
      "bestIteration = 134\n",
      "\n",
      "Shrink model to first 135 iterations.\n",
      "err:  0.8343558282208589\n",
      "Learning rate set to 0.094722\n"
     ]
    },
    {
     "name": "stderr",
     "output_type": "stream",
     "text": [
      "Warning: Overfitting detector is active, thus evaluation metric is calculated on every iteration. 'metric_period' is ignored for evaluation metric.\n"
     ]
    },
    {
     "name": "stdout",
     "output_type": "stream",
     "text": [
      "0:\tlearn: 0.5359070\ttest: 0.5409532\ttest1: 0.5230769\tbest: 0.5230769 (0)\ttotal: 23ms\tremaining: 23s\n",
      "20:\tlearn: 0.7554779\ttest: 0.7562891\ttest1: 0.7125000\tbest: 0.7125000 (19)\ttotal: 202ms\tremaining: 9.42s\n",
      "40:\tlearn: 0.7631034\ttest: 0.7740422\ttest1: 0.7151515\tbest: 0.7195122 (21)\ttotal: 474ms\tremaining: 11.1s\n",
      "60:\tlearn: 0.7674456\ttest: 0.7754337\ttest1: 0.7151515\tbest: 0.7195122 (21)\ttotal: 710ms\tremaining: 10.9s\n",
      "80:\tlearn: 0.7727417\ttest: 0.7772912\ttest1: 0.7151515\tbest: 0.7195122 (21)\ttotal: 984ms\tremaining: 11.2s\n",
      "100:\tlearn: 0.7747148\ttest: 0.7767787\ttest1: 0.7239264\tbest: 0.7239264 (83)\ttotal: 1.22s\tremaining: 10.9s\n",
      "120:\tlearn: 0.7788172\ttest: 0.7764966\ttest1: 0.7239264\tbest: 0.7239264 (83)\ttotal: 1.52s\tremaining: 11s\n",
      "140:\tlearn: 0.7796287\ttest: 0.7765487\ttest1: 0.7239264\tbest: 0.7239264 (83)\ttotal: 1.85s\tremaining: 11.3s\n",
      "160:\tlearn: 0.7813244\ttest: 0.7765487\ttest1: 0.7239264\tbest: 0.7239264 (83)\ttotal: 2.18s\tremaining: 11.3s\n",
      "180:\tlearn: 0.7867449\ttest: 0.7765672\ttest1: 0.7239264\tbest: 0.7317073 (168)\ttotal: 2.49s\tremaining: 11.3s\n",
      "200:\tlearn: 0.7887815\ttest: 0.7761807\ttest1: 0.7239264\tbest: 0.7317073 (168)\ttotal: 2.78s\tremaining: 11s\n",
      "220:\tlearn: 0.7899240\ttest: 0.7766898\ttest1: 0.7239264\tbest: 0.7317073 (168)\ttotal: 3.11s\tremaining: 11s\n",
      "240:\tlearn: 0.7922675\ttest: 0.7762183\ttest1: 0.7239264\tbest: 0.7317073 (168)\ttotal: 3.44s\tremaining: 10.8s\n",
      "260:\tlearn: 0.7939778\ttest: 0.7767266\ttest1: 0.7239264\tbest: 0.7317073 (168)\ttotal: 3.73s\tremaining: 10.6s\n",
      "Stopped by overfitting detector  (100 iterations wait)\n",
      "\n",
      "bestTest = 0.7317073171\n",
      "bestIteration = 168\n",
      "\n",
      "Shrink model to first 169 iterations.\n",
      "err:  0.7300613496932515\n",
      "Learning rate set to 0.094723\n",
      "0:\tlearn: 0.5468436\ttest: 0.5573178\ttest1: 0.5511811\tbest: 0.5511811 (0)\ttotal: 15.5ms\tremaining: 15.4s\n"
     ]
    },
    {
     "name": "stderr",
     "output_type": "stream",
     "text": [
      "Warning: Overfitting detector is active, thus evaluation metric is calculated on every iteration. 'metric_period' is ignored for evaluation metric.\n"
     ]
    },
    {
     "name": "stdout",
     "output_type": "stream",
     "text": [
      "20:\tlearn: 0.7555132\ttest: 0.7576792\ttest1: 0.7152318\tbest: 0.7564103 (11)\ttotal: 205ms\tremaining: 9.54s\n",
      "40:\tlearn: 0.7663373\ttest: 0.7687649\ttest1: 0.7564103\tbest: 0.7612903 (28)\ttotal: 375ms\tremaining: 8.78s\n",
      "60:\tlearn: 0.7705463\ttest: 0.7709160\ttest1: 0.7692308\tbest: 0.7692308 (57)\ttotal: 594ms\tremaining: 9.14s\n",
      "80:\tlearn: 0.7726192\ttest: 0.7721358\ttest1: 0.7692308\tbest: 0.7692308 (57)\ttotal: 812ms\tremaining: 9.21s\n",
      "100:\tlearn: 0.7745720\ttest: 0.7734053\ttest1: 0.7612903\tbest: 0.7692308 (57)\ttotal: 1.08s\tremaining: 9.64s\n",
      "120:\tlearn: 0.7786574\ttest: 0.7733333\ttest1: 0.7612903\tbest: 0.7692308 (57)\ttotal: 1.38s\tremaining: 10.1s\n",
      "140:\tlearn: 0.7812450\ttest: 0.7734053\ttest1: 0.7612903\tbest: 0.7692308 (57)\ttotal: 1.66s\tremaining: 10.1s\n",
      "Stopped by overfitting detector  (100 iterations wait)\n",
      "\n",
      "bestTest = 0.7692307692\n",
      "bestIteration = 57\n",
      "\n",
      "Shrink model to first 58 iterations.\n",
      "err:  0.7777777777777778\n",
      "Learning rate set to 0.094723\n",
      "0:\tlearn: 0.5433313\ttest: 0.5421637\ttest1: 0.4695652\tbest: 0.4695652 (0)\ttotal: 16.8ms\tremaining: 16.8s\n"
     ]
    },
    {
     "name": "stderr",
     "output_type": "stream",
     "text": [
      "Warning: Overfitting detector is active, thus evaluation metric is calculated on every iteration. 'metric_period' is ignored for evaluation metric.\n"
     ]
    },
    {
     "name": "stdout",
     "output_type": "stream",
     "text": [
      "20:\tlearn: 0.7416938\ttest: 0.7569899\ttest1: 0.7169811\tbest: 0.7272727 (11)\ttotal: 214ms\tremaining: 9.96s\n",
      "40:\tlearn: 0.7625439\ttest: 0.7676541\ttest1: 0.7088608\tbest: 0.7272727 (11)\ttotal: 427ms\tremaining: 10s\n",
      "60:\tlearn: 0.7666083\ttest: 0.7690339\ttest1: 0.7088608\tbest: 0.7272727 (11)\ttotal: 706ms\tremaining: 10.9s\n",
      "80:\tlearn: 0.7685924\ttest: 0.7711498\ttest1: 0.7125000\tbest: 0.7272727 (11)\ttotal: 1.02s\tremaining: 11.6s\n",
      "100:\tlearn: 0.7734437\ttest: 0.7735999\ttest1: 0.7204969\tbest: 0.7272727 (11)\ttotal: 1.3s\tremaining: 11.6s\n",
      "Stopped by overfitting detector  (100 iterations wait)\n",
      "\n",
      "bestTest = 0.7272727273\n",
      "bestIteration = 11\n",
      "\n",
      "Shrink model to first 12 iterations.\n",
      "err:  0.7407407407407407\n",
      "Learning rate set to 0.094723\n",
      "0:\tlearn: 0.5290898\ttest: 0.5436269\ttest1: 0.5223881\tbest: 0.5223881 (0)\ttotal: 12.9ms\tremaining: 12.9s\n"
     ]
    },
    {
     "name": "stderr",
     "output_type": "stream",
     "text": [
      "Warning: Overfitting detector is active, thus evaluation metric is calculated on every iteration. 'metric_period' is ignored for evaluation metric.\n"
     ]
    },
    {
     "name": "stdout",
     "output_type": "stream",
     "text": [
      "20:\tlearn: 0.7588908\ttest: 0.7663317\ttest1: 0.7573964\tbest: 0.7619048 (8)\ttotal: 211ms\tremaining: 9.86s\n",
      "40:\tlearn: 0.7645843\ttest: 0.7679311\ttest1: 0.7757576\tbest: 0.7757576 (29)\ttotal: 441ms\tremaining: 10.3s\n",
      "60:\tlearn: 0.7668361\ttest: 0.7694272\ttest1: 0.7804878\tbest: 0.7804878 (48)\ttotal: 696ms\tremaining: 10.7s\n",
      "80:\tlearn: 0.7707209\ttest: 0.7710690\ttest1: 0.7852761\tbest: 0.7852761 (77)\ttotal: 908ms\tremaining: 10.3s\n",
      "100:\tlearn: 0.7740606\ttest: 0.7716561\ttest1: 0.7852761\tbest: 0.7852761 (77)\ttotal: 1.18s\tremaining: 10.5s\n",
      "120:\tlearn: 0.7766929\ttest: 0.7765957\ttest1: 0.7926829\tbest: 0.7926829 (109)\ttotal: 1.49s\tremaining: 10.8s\n",
      "140:\tlearn: 0.7802733\ttest: 0.7775000\ttest1: 0.7878788\tbest: 0.7926829 (109)\ttotal: 1.73s\tremaining: 10.5s\n",
      "160:\tlearn: 0.7820472\ttest: 0.7775695\ttest1: 0.7878788\tbest: 0.7926829 (109)\ttotal: 2.01s\tremaining: 10.5s\n",
      "180:\tlearn: 0.7848380\ttest: 0.7781943\ttest1: 0.7878788\tbest: 0.7926829 (109)\ttotal: 2.36s\tremaining: 10.7s\n",
      "200:\tlearn: 0.7859164\ttest: 0.7784206\ttest1: 0.7878788\tbest: 0.7926829 (109)\ttotal: 2.65s\tremaining: 10.6s\n",
      "Stopped by overfitting detector  (100 iterations wait)\n",
      "\n",
      "bestTest = 0.7926829268\n",
      "bestIteration = 109\n",
      "\n",
      "Shrink model to first 110 iterations.\n",
      "err:  0.7901234567901234\n",
      "Learning rate set to 0.094723\n"
     ]
    },
    {
     "name": "stderr",
     "output_type": "stream",
     "text": [
      "Warning: Overfitting detector is active, thus evaluation metric is calculated on every iteration. 'metric_period' is ignored for evaluation metric.\n"
     ]
    },
    {
     "name": "stdout",
     "output_type": "stream",
     "text": [
      "0:\tlearn: 0.6585594\ttest: 0.6810559\ttest1: 0.6000000\tbest: 0.6000000 (0)\ttotal: 23.9ms\tremaining: 23.9s\n",
      "20:\tlearn: 0.7591288\ttest: 0.7636599\ttest1: 0.7160494\tbest: 0.7317073 (16)\ttotal: 241ms\tremaining: 11.3s\n",
      "40:\tlearn: 0.7673975\ttest: 0.7725403\ttest1: 0.7204969\tbest: 0.7317073 (16)\ttotal: 455ms\tremaining: 10.7s\n",
      "60:\tlearn: 0.7702532\ttest: 0.7742139\ttest1: 0.7283951\tbest: 0.7317073 (16)\ttotal: 619ms\tremaining: 9.53s\n",
      "80:\tlearn: 0.7733333\ttest: 0.7743565\ttest1: 0.7283951\tbest: 0.7317073 (16)\ttotal: 844ms\tremaining: 9.58s\n",
      "100:\tlearn: 0.7738454\ttest: 0.7747947\ttest1: 0.7283951\tbest: 0.7317073 (16)\ttotal: 1.08s\tremaining: 9.65s\n",
      "Stopped by overfitting detector  (100 iterations wait)\n",
      "\n",
      "bestTest = 0.7317073171\n",
      "bestIteration = 16\n",
      "\n",
      "Shrink model to first 17 iterations.\n",
      "err:  0.7283950617283951\n",
      "Learning rate set to 0.094723\n",
      "0:\tlearn: 0.5516832\ttest: 0.5453451\ttest1: 0.5210084\tbest: 0.5210084 (0)\ttotal: 27.9ms\tremaining: 27.9s\n"
     ]
    },
    {
     "name": "stderr",
     "output_type": "stream",
     "text": [
      "Warning: Overfitting detector is active, thus evaluation metric is calculated on every iteration. 'metric_period' is ignored for evaluation metric.\n"
     ]
    },
    {
     "name": "stdout",
     "output_type": "stream",
     "text": [
      "20:\tlearn: 0.7545555\ttest: 0.7673584\ttest1: 0.8148148\tbest: 0.8148148 (14)\ttotal: 250ms\tremaining: 11.7s\n",
      "40:\tlearn: 0.7640556\ttest: 0.7736549\ttest1: 0.8170732\tbest: 0.8170732 (30)\ttotal: 520ms\tremaining: 12.2s\n",
      "60:\tlearn: 0.7682308\ttest: 0.7750349\ttest1: 0.8192771\tbest: 0.8242424 (57)\ttotal: 843ms\tremaining: 13s\n",
      "80:\tlearn: 0.7718408\ttest: 0.7726346\ttest1: 0.8242424\tbest: 0.8242424 (57)\ttotal: 1.1s\tremaining: 12.5s\n",
      "100:\tlearn: 0.7752969\ttest: 0.7735049\ttest1: 0.8242424\tbest: 0.8242424 (57)\ttotal: 1.42s\tremaining: 12.7s\n",
      "120:\tlearn: 0.7772843\ttest: 0.7733291\ttest1: 0.8292683\tbest: 0.8292683 (107)\ttotal: 1.74s\tremaining: 12.7s\n",
      "140:\tlearn: 0.7799461\ttest: 0.7738884\ttest1: 0.8292683\tbest: 0.8343558 (130)\ttotal: 2.05s\tremaining: 12.5s\n",
      "160:\tlearn: 0.7827051\ttest: 0.7738377\ttest1: 0.8343558\tbest: 0.8343558 (130)\ttotal: 2.31s\tremaining: 12.1s\n",
      "180:\tlearn: 0.7843448\ttest: 0.7740817\ttest1: 0.8343558\tbest: 0.8343558 (130)\ttotal: 2.63s\tremaining: 11.9s\n",
      "200:\tlearn: 0.7852392\ttest: 0.7745701\ttest1: 0.8343558\tbest: 0.8343558 (130)\ttotal: 2.94s\tremaining: 11.7s\n",
      "220:\tlearn: 0.7862571\ttest: 0.7747322\ttest1: 0.8343558\tbest: 0.8343558 (130)\ttotal: 3.23s\tremaining: 11.4s\n",
      "Stopped by overfitting detector  (100 iterations wait)\n",
      "\n",
      "bestTest = 0.8343558282\n",
      "bestIteration = 130\n",
      "\n",
      "Shrink model to first 131 iterations.\n",
      "err:  0.8333333333333334\n",
      "Learning rate set to 0.094723\n",
      "0:\tlearn: 0.5384299\ttest: 0.5394927\ttest1: 0.5669291\tbest: 0.5669291 (0)\ttotal: 20.6ms\tremaining: 20.6s\n"
     ]
    },
    {
     "name": "stderr",
     "output_type": "stream",
     "text": [
      "Warning: Overfitting detector is active, thus evaluation metric is calculated on every iteration. 'metric_period' is ignored for evaluation metric.\n"
     ]
    },
    {
     "name": "stdout",
     "output_type": "stream",
     "text": [
      "20:\tlearn: 0.7566879\ttest: 0.7650394\ttest1: 0.7721519\tbest: 0.7721519 (17)\ttotal: 237ms\tremaining: 11s\n",
      "40:\tlearn: 0.7658298\ttest: 0.7738928\ttest1: 0.7770701\tbest: 0.7820513 (33)\ttotal: 485ms\tremaining: 11.3s\n",
      "60:\tlearn: 0.7663165\ttest: 0.7745251\ttest1: 0.7820513\tbest: 0.7820513 (33)\ttotal: 723ms\tremaining: 11.1s\n",
      "80:\tlearn: 0.7688634\ttest: 0.7757272\ttest1: 0.7948718\tbest: 0.7948718 (71)\ttotal: 993ms\tremaining: 11.3s\n",
      "100:\tlearn: 0.7718964\ttest: 0.7767355\ttest1: 0.7948718\tbest: 0.7948718 (71)\ttotal: 1.22s\tremaining: 10.9s\n",
      "120:\tlearn: 0.7762803\ttest: 0.7764669\ttest1: 0.7866667\tbest: 0.7948718 (71)\ttotal: 1.48s\tremaining: 10.8s\n",
      "140:\tlearn: 0.7761526\ttest: 0.7771141\ttest1: 0.7733333\tbest: 0.7948718 (71)\ttotal: 1.75s\tremaining: 10.6s\n",
      "160:\tlearn: 0.7795100\ttest: 0.7773063\ttest1: 0.7733333\tbest: 0.7948718 (71)\ttotal: 2.05s\tremaining: 10.7s\n",
      "Stopped by overfitting detector  (100 iterations wait)\n",
      "\n",
      "bestTest = 0.7948717949\n",
      "bestIteration = 71\n",
      "\n",
      "Shrink model to first 72 iterations.\n",
      "err:  0.8024691358024691\n",
      "Learning rate set to 0.094723\n",
      "0:\tlearn: 0.6654735\ttest: 0.6857710\ttest1: 0.6666667\tbest: 0.6666667 (0)\ttotal: 25.2ms\tremaining: 25.2s\n"
     ]
    },
    {
     "name": "stderr",
     "output_type": "stream",
     "text": [
      "Warning: Overfitting detector is active, thus evaluation metric is calculated on every iteration. 'metric_period' is ignored for evaluation metric.\n"
     ]
    },
    {
     "name": "stdout",
     "output_type": "stream",
     "text": [
      "20:\tlearn: 0.7612620\ttest: 0.7667087\ttest1: 0.7500000\tbest: 0.7500000 (13)\ttotal: 223ms\tremaining: 10.4s\n",
      "40:\tlearn: 0.7667139\ttest: 0.7720013\ttest1: 0.7500000\tbest: 0.7500000 (13)\ttotal: 463ms\tremaining: 10.8s\n",
      "60:\tlearn: 0.7704170\ttest: 0.7748511\ttest1: 0.7573964\tbest: 0.7573964 (60)\ttotal: 680ms\tremaining: 10.5s\n",
      "80:\tlearn: 0.7739596\ttest: 0.7749726\ttest1: 0.7573964\tbest: 0.7573964 (60)\ttotal: 925ms\tremaining: 10.5s\n",
      "100:\tlearn: 0.7765002\ttest: 0.7759837\ttest1: 0.7573964\tbest: 0.7573964 (60)\ttotal: 1.15s\tremaining: 10.2s\n",
      "120:\tlearn: 0.7795325\ttest: 0.7761054\ttest1: 0.7573964\tbest: 0.7573964 (60)\ttotal: 1.47s\tremaining: 10.6s\n",
      "140:\tlearn: 0.7808588\ttest: 0.7758242\ttest1: 0.7573964\tbest: 0.7573964 (60)\ttotal: 1.76s\tremaining: 10.7s\n",
      "160:\tlearn: 0.7835738\ttest: 0.7765522\ttest1: 0.7619048\tbest: 0.7619048 (156)\ttotal: 2.04s\tremaining: 10.6s\n",
      "180:\tlearn: 0.7843448\ttest: 0.7750635\ttest1: 0.7738095\tbest: 0.7738095 (178)\ttotal: 2.34s\tremaining: 10.6s\n",
      "200:\tlearn: 0.7858161\ttest: 0.7741322\ttest1: 0.7692308\tbest: 0.7738095 (178)\ttotal: 2.62s\tremaining: 10.4s\n",
      "220:\tlearn: 0.7889415\ttest: 0.7791152\ttest1: 0.7836257\tbest: 0.7882353 (214)\ttotal: 2.92s\tremaining: 10.3s\n",
      "240:\tlearn: 0.7905138\ttest: 0.7755812\ttest1: 0.7928994\tbest: 0.7928994 (225)\ttotal: 3.27s\tremaining: 10.3s\n",
      "260:\tlearn: 0.7926617\ttest: 0.7760392\ttest1: 0.7928994\tbest: 0.7928994 (225)\ttotal: 3.58s\tremaining: 10.1s\n",
      "280:\tlearn: 0.7942432\ttest: 0.7742140\ttest1: 0.7710843\tbest: 0.7928994 (225)\ttotal: 3.88s\tremaining: 9.93s\n",
      "300:\tlearn: 0.7964602\ttest: 0.7763740\ttest1: 0.7810651\tbest: 0.7928994 (225)\ttotal: 4.23s\tremaining: 9.83s\n",
      "320:\tlearn: 0.7962729\ttest: 0.7754714\ttest1: 0.7664671\tbest: 0.7928994 (225)\ttotal: 4.54s\tremaining: 9.61s\n",
      "Stopped by overfitting detector  (100 iterations wait)\n",
      "\n",
      "bestTest = 0.7928994083\n",
      "bestIteration = 225\n",
      "\n",
      "Shrink model to first 226 iterations.\n",
      "err:  0.7839506172839507\n",
      "Learning rate set to 0.094723\n",
      "0:\tlearn: 0.5546614\ttest: 0.5556002\ttest1: 0.5967742\tbest: 0.5967742 (0)\ttotal: 15.1ms\tremaining: 15.1s\n"
     ]
    },
    {
     "name": "stderr",
     "output_type": "stream",
     "text": [
      "Warning: Overfitting detector is active, thus evaluation metric is calculated on every iteration. 'metric_period' is ignored for evaluation metric.\n"
     ]
    },
    {
     "name": "stdout",
     "output_type": "stream",
     "text": [
      "20:\tlearn: 0.7524095\ttest: 0.7546445\ttest1: 0.7388535\tbest: 0.7468354 (17)\ttotal: 199ms\tremaining: 9.28s\n",
      "40:\tlearn: 0.7634579\ttest: 0.7664537\ttest1: 0.7225806\tbest: 0.7468354 (17)\ttotal: 340ms\tremaining: 7.95s\n",
      "60:\tlearn: 0.7682791\ttest: 0.7674641\ttest1: 0.7307692\tbest: 0.7468354 (17)\ttotal: 559ms\tremaining: 8.61s\n",
      "80:\tlearn: 0.7740095\ttest: 0.7725620\ttest1: 0.7179487\tbest: 0.7468354 (17)\ttotal: 799ms\tremaining: 9.07s\n",
      "100:\tlearn: 0.7760013\ttest: 0.7744681\ttest1: 0.7341772\tbest: 0.7468354 (17)\ttotal: 1.04s\tremaining: 9.23s\n",
      "Stopped by overfitting detector  (100 iterations wait)\n",
      "\n",
      "bestTest = 0.746835443\n",
      "bestIteration = 17\n",
      "\n",
      "Shrink model to first 18 iterations.\n",
      "err:  0.7530864197530864\n",
      "Learning rate set to 0.094723\n",
      "0:\tlearn: 0.5424212\ttest: 0.5411086\ttest1: 0.5161290\tbest: 0.5161290 (0)\ttotal: 14.9ms\tremaining: 14.9s\n"
     ]
    },
    {
     "name": "stderr",
     "output_type": "stream",
     "text": [
      "Warning: Overfitting detector is active, thus evaluation metric is calculated on every iteration. 'metric_period' is ignored for evaluation metric.\n"
     ]
    },
    {
     "name": "stdout",
     "output_type": "stream",
     "text": [
      "20:\tlearn: 0.7578518\ttest: 0.7671406\ttest1: 0.7484663\tbest: 0.7484663 (18)\ttotal: 225ms\tremaining: 10.5s\n",
      "40:\tlearn: 0.7643732\ttest: 0.7689149\ttest1: 0.7484663\tbest: 0.7484663 (18)\ttotal: 386ms\tremaining: 9.03s\n",
      "60:\tlearn: 0.7674638\ttest: 0.7705177\ttest1: 0.7484663\tbest: 0.7484663 (18)\ttotal: 582ms\tremaining: 8.96s\n",
      "80:\tlearn: 0.7716758\ttest: 0.7733671\ttest1: 0.7439024\tbest: 0.7484663 (18)\ttotal: 840ms\tremaining: 9.53s\n",
      "100:\tlearn: 0.7745392\ttest: 0.7741834\ttest1: 0.7361963\tbest: 0.7484663 (18)\ttotal: 1.1s\tremaining: 9.79s\n",
      "Stopped by overfitting detector  (100 iterations wait)\n",
      "\n",
      "bestTest = 0.7484662577\n",
      "bestIteration = 18\n",
      "\n",
      "Shrink model to first 19 iterations.\n",
      "err:  0.7469135802469136\n",
      "Learning rate set to 0.094723\n",
      "0:\tlearn: 0.6513954\ttest: 0.6855920\ttest1: 0.7071823\tbest: 0.7071823 (0)\ttotal: 25.4ms\tremaining: 25.4s\n"
     ]
    },
    {
     "name": "stderr",
     "output_type": "stream",
     "text": [
      "Warning: Overfitting detector is active, thus evaluation metric is calculated on every iteration. 'metric_period' is ignored for evaluation metric.\n"
     ]
    },
    {
     "name": "stdout",
     "output_type": "stream",
     "text": [
      "20:\tlearn: 0.7560587\ttest: 0.7656766\ttest1: 0.7469880\tbest: 0.7469880 (19)\ttotal: 284ms\tremaining: 13.2s\n",
      "40:\tlearn: 0.7662860\ttest: 0.7699650\ttest1: 0.7349398\tbest: 0.7500000 (22)\ttotal: 584ms\tremaining: 13.7s\n",
      "60:\tlearn: 0.7693295\ttest: 0.7725689\ttest1: 0.7349398\tbest: 0.7500000 (22)\ttotal: 841ms\tremaining: 13s\n",
      "80:\tlearn: 0.7717444\ttest: 0.7729653\ttest1: 0.7439024\tbest: 0.7500000 (22)\ttotal: 1.1s\tremaining: 12.5s\n",
      "100:\tlearn: 0.7746998\ttest: 0.7726984\ttest1: 0.7439024\tbest: 0.7500000 (22)\ttotal: 1.3s\tremaining: 11.6s\n",
      "120:\tlearn: 0.7770130\ttest: 0.7730159\ttest1: 0.7439024\tbest: 0.7500000 (22)\ttotal: 1.55s\tremaining: 11.2s\n",
      "Stopped by overfitting detector  (100 iterations wait)\n",
      "\n",
      "bestTest = 0.75\n",
      "bestIteration = 22\n",
      "\n",
      "Shrink model to first 23 iterations.\n",
      "err:  0.7407407407407407\n",
      "Learning rate set to 0.094723\n",
      "0:\tlearn: 0.5395930\ttest: 0.5414565\ttest1: 0.6074074\tbest: 0.6074074 (0)\ttotal: 19ms\tremaining: 19s\n"
     ]
    },
    {
     "name": "stderr",
     "output_type": "stream",
     "text": [
      "Warning: Overfitting detector is active, thus evaluation metric is calculated on every iteration. 'metric_period' is ignored for evaluation metric.\n"
     ]
    },
    {
     "name": "stdout",
     "output_type": "stream",
     "text": [
      "20:\tlearn: 0.7530507\ttest: 0.7576792\ttest1: 0.7577640\tbest: 0.7777778 (14)\ttotal: 277ms\tremaining: 12.9s\n",
      "40:\tlearn: 0.7648843\ttest: 0.7696227\ttest1: 0.8000000\tbest: 0.8000000 (37)\ttotal: 562ms\tremaining: 13.1s\n",
      "60:\tlearn: 0.7678855\ttest: 0.7695977\ttest1: 0.7848101\tbest: 0.8000000 (37)\ttotal: 772ms\tremaining: 11.9s\n",
      "80:\tlearn: 0.7726115\ttest: 0.7695506\ttest1: 0.7770701\tbest: 0.8000000 (37)\ttotal: 1.01s\tremaining: 11.4s\n",
      "100:\tlearn: 0.7765079\ttest: 0.7722143\ttest1: 0.7924528\tbest: 0.8000000 (37)\ttotal: 1.2s\tremaining: 10.7s\n",
      "120:\tlearn: 0.7799841\ttest: 0.7719968\ttest1: 0.7898089\tbest: 0.8000000 (37)\ttotal: 1.48s\tremaining: 10.8s\n",
      "Stopped by overfitting detector  (100 iterations wait)\n",
      "\n",
      "bestTest = 0.8\n",
      "bestIteration = 37\n",
      "\n",
      "Shrink model to first 38 iterations.\n",
      "err:  0.8024691358024691\n",
      "Learning rate set to 0.094723\n",
      "0:\tlearn: 0.5376522\ttest: 0.5393351\ttest1: 0.5820896\tbest: 0.5820896 (0)\ttotal: 24.2ms\tremaining: 24.1s\n"
     ]
    },
    {
     "name": "stderr",
     "output_type": "stream",
     "text": [
      "Warning: Overfitting detector is active, thus evaluation metric is calculated on every iteration. 'metric_period' is ignored for evaluation metric.\n"
     ]
    },
    {
     "name": "stdout",
     "output_type": "stream",
     "text": [
      "20:\tlearn: 0.7582071\ttest: 0.7647803\ttest1: 0.7810651\tbest: 0.7810651 (15)\ttotal: 227ms\tremaining: 10.6s\n",
      "40:\tlearn: 0.7638955\ttest: 0.7645172\ttest1: 0.7810651\tbest: 0.7810651 (15)\ttotal: 468ms\tremaining: 10.9s\n",
      "60:\tlearn: 0.7706133\ttest: 0.7689358\ttest1: 0.7882353\tbest: 0.7882353 (47)\ttotal: 707ms\tremaining: 10.9s\n",
      "80:\tlearn: 0.7743258\ttest: 0.7716285\ttest1: 0.8000000\tbest: 0.8045977 (66)\ttotal: 967ms\tremaining: 11s\n",
      "100:\tlearn: 0.7777078\ttest: 0.7727779\ttest1: 0.8068182\tbest: 0.8068182 (85)\ttotal: 1.21s\tremaining: 10.8s\n",
      "120:\tlearn: 0.7800346\ttest: 0.7727779\ttest1: 0.8068182\tbest: 0.8068182 (85)\ttotal: 1.53s\tremaining: 11.1s\n",
      "140:\tlearn: 0.7824721\ttest: 0.7737830\ttest1: 0.8068182\tbest: 0.8068182 (85)\ttotal: 1.86s\tremaining: 11.3s\n",
      "160:\tlearn: 0.7854785\ttest: 0.7733206\ttest1: 0.8068182\tbest: 0.8068182 (85)\ttotal: 2.19s\tremaining: 11.4s\n",
      "180:\tlearn: 0.7857143\ttest: 0.7734437\ttest1: 0.8068182\tbest: 0.8068182 (85)\ttotal: 2.54s\tremaining: 11.5s\n",
      "Stopped by overfitting detector  (100 iterations wait)\n",
      "\n",
      "bestTest = 0.8068181818\n",
      "bestIteration = 85\n",
      "\n",
      "Shrink model to first 86 iterations.\n",
      "err:  0.7901234567901234\n",
      "Learning rate set to 0.094723\n",
      "0:\tlearn: 0.6674606\ttest: 0.6794216\ttest1: 0.6592179\tbest: 0.6592179 (0)\ttotal: 15.1ms\tremaining: 15.1s\n"
     ]
    },
    {
     "name": "stderr",
     "output_type": "stream",
     "text": [
      "Warning: Overfitting detector is active, thus evaluation metric is calculated on every iteration. 'metric_period' is ignored for evaluation metric.\n"
     ]
    },
    {
     "name": "stdout",
     "output_type": "stream",
     "text": [
      "20:\tlearn: 0.7513971\ttest: 0.7570259\ttest1: 0.7710843\tbest: 0.7710843 (20)\ttotal: 207ms\tremaining: 9.65s\n",
      "40:\tlearn: 0.7595593\ttest: 0.7608519\ttest1: 0.7852761\tbest: 0.7852761 (28)\ttotal: 507ms\tremaining: 11.8s\n",
      "60:\tlearn: 0.7635135\ttest: 0.7682985\ttest1: 0.7951807\tbest: 0.7951807 (48)\ttotal: 841ms\tremaining: 12.9s\n",
      "80:\tlearn: 0.7653291\ttest: 0.7708433\ttest1: 0.7878788\tbest: 0.7951807 (48)\ttotal: 1.12s\tremaining: 12.7s\n",
      "100:\tlearn: 0.7690091\ttest: 0.7722143\ttest1: 0.7878788\tbest: 0.7951807 (48)\ttotal: 1.4s\tremaining: 12.5s\n",
      "120:\tlearn: 0.7738114\ttest: 0.7659506\ttest1: 0.7852761\tbest: 0.7951807 (48)\ttotal: 1.71s\tremaining: 12.4s\n",
      "140:\tlearn: 0.7761433\ttest: 0.7661499\ttest1: 0.7852761\tbest: 0.7951807 (48)\ttotal: 2.03s\tremaining: 12.4s\n",
      "Stopped by overfitting detector  (100 iterations wait)\n",
      "\n",
      "bestTest = 0.7951807229\n",
      "bestIteration = 48\n",
      "\n",
      "Shrink model to first 49 iterations.\n",
      "err:  0.7901234567901234\n",
      "Learning rate set to 0.094723\n",
      "0:\tlearn: 0.6715392\ttest: 0.6841657\ttest1: 0.7329843\tbest: 0.7329843 (0)\ttotal: 17.3ms\tremaining: 17.3s\n"
     ]
    },
    {
     "name": "stderr",
     "output_type": "stream",
     "text": [
      "Warning: Overfitting detector is active, thus evaluation metric is calculated on every iteration. 'metric_period' is ignored for evaluation metric.\n"
     ]
    },
    {
     "name": "stdout",
     "output_type": "stream",
     "text": [
      "20:\tlearn: 0.7633323\ttest: 0.7665143\ttest1: 0.8047337\tbest: 0.8047337 (15)\ttotal: 287ms\tremaining: 13.4s\n",
      "40:\tlearn: 0.7678117\ttest: 0.7653012\ttest1: 0.7951807\tbest: 0.8047337 (15)\ttotal: 555ms\tremaining: 13s\n",
      "60:\tlearn: 0.7697221\ttest: 0.7680437\ttest1: 0.7951807\tbest: 0.8047337 (15)\ttotal: 858ms\tremaining: 13.2s\n",
      "80:\tlearn: 0.7743475\ttest: 0.7683398\ttest1: 0.7951807\tbest: 0.8047337 (15)\ttotal: 1.11s\tremaining: 12.6s\n",
      "100:\tlearn: 0.7778664\ttest: 0.7687852\ttest1: 0.7951807\tbest: 0.8047337 (15)\ttotal: 1.41s\tremaining: 12.5s\n",
      "Stopped by overfitting detector  (100 iterations wait)\n",
      "\n",
      "bestTest = 0.8047337278\n",
      "bestIteration = 15\n",
      "\n",
      "Shrink model to first 16 iterations.\n",
      "err:  0.7962962962962963\n",
      "Learning rate set to 0.094723\n",
      "0:\tlearn: 0.5437131\ttest: 0.5429864\ttest1: 0.4347826\tbest: 0.4347826 (0)\ttotal: 19.5ms\tremaining: 19.5s\n"
     ]
    },
    {
     "name": "stderr",
     "output_type": "stream",
     "text": [
      "Warning: Overfitting detector is active, thus evaluation metric is calculated on every iteration. 'metric_period' is ignored for evaluation metric.\n"
     ]
    },
    {
     "name": "stdout",
     "output_type": "stream",
     "text": [
      "20:\tlearn: 0.7613493\ttest: 0.7665879\ttest1: 0.7142857\tbest: 0.7225806 (13)\ttotal: 287ms\tremaining: 13.4s\n",
      "40:\tlearn: 0.7679848\ttest: 0.7707348\ttest1: 0.7307692\tbest: 0.7307692 (38)\ttotal: 581ms\tremaining: 13.6s\n",
      "60:\tlearn: 0.7700620\ttest: 0.7713160\ttest1: 0.7388535\tbest: 0.7388535 (47)\ttotal: 873ms\tremaining: 13.4s\n",
      "80:\tlearn: 0.7749604\ttest: 0.7723898\ttest1: 0.7388535\tbest: 0.7388535 (47)\ttotal: 1.16s\tremaining: 13.2s\n",
      "100:\tlearn: 0.7811118\ttest: 0.7751256\ttest1: 0.7468354\tbest: 0.7468354 (94)\ttotal: 1.4s\tremaining: 12.5s\n",
      "120:\tlearn: 0.7817867\ttest: 0.7783682\ttest1: 0.7484663\tbest: 0.7530864 (116)\ttotal: 1.74s\tremaining: 12.6s\n",
      "140:\tlearn: 0.7855907\ttest: 0.7819247\ttest1: 0.7439024\tbest: 0.7530864 (116)\ttotal: 2.07s\tremaining: 12.6s\n",
      "160:\tlearn: 0.7869729\ttest: 0.7823810\ttest1: 0.7361963\tbest: 0.7530864 (116)\ttotal: 2.45s\tremaining: 12.8s\n",
      "180:\tlearn: 0.7894323\ttest: 0.7828228\ttest1: 0.7283951\tbest: 0.7530864 (116)\ttotal: 2.79s\tremaining: 12.6s\n",
      "200:\tlearn: 0.7908219\ttest: 0.7831436\ttest1: 0.7361963\tbest: 0.7530864 (116)\ttotal: 3.1s\tremaining: 12.3s\n",
      "Stopped by overfitting detector  (100 iterations wait)\n",
      "\n",
      "bestTest = 0.7530864198\n",
      "bestIteration = 116\n",
      "\n",
      "Shrink model to first 117 iterations.\n",
      "err:  0.7530864197530864\n",
      "Learning rate set to 0.094723\n",
      "0:\tlearn: 0.5391733\ttest: 0.5382553\ttest1: 0.6141732\tbest: 0.6141732 (0)\ttotal: 12.4ms\tremaining: 12.4s\n"
     ]
    },
    {
     "name": "stderr",
     "output_type": "stream",
     "text": [
      "Warning: Overfitting detector is active, thus evaluation metric is calculated on every iteration. 'metric_period' is ignored for evaluation metric.\n"
     ]
    },
    {
     "name": "stdout",
     "output_type": "stream",
     "text": [
      "20:\tlearn: 0.7600563\ttest: 0.7642992\ttest1: 0.8313253\tbest: 0.8343558 (9)\ttotal: 260ms\tremaining: 12.1s\n",
      "40:\tlearn: 0.7630662\ttest: 0.7677950\ttest1: 0.8192771\tbest: 0.8343558 (9)\ttotal: 570ms\tremaining: 13.3s\n",
      "60:\tlearn: 0.7674013\ttest: 0.7694734\ttest1: 0.8192771\tbest: 0.8343558 (9)\ttotal: 845ms\tremaining: 13s\n",
      "80:\tlearn: 0.7700603\ttest: 0.7702255\ttest1: 0.8214286\tbest: 0.8343558 (9)\ttotal: 1.14s\tremaining: 12.9s\n",
      "100:\tlearn: 0.7714692\ttest: 0.7731619\ttest1: 0.8214286\tbest: 0.8343558 (9)\ttotal: 1.4s\tremaining: 12.4s\n",
      "Stopped by overfitting detector  (100 iterations wait)\n",
      "\n",
      "bestTest = 0.8343558282\n",
      "bestIteration = 9\n",
      "\n",
      "Shrink model to first 10 iterations.\n",
      "err:  0.8333333333333334\n",
      "Learning rate set to 0.094723\n",
      "0:\tlearn: 0.5448000\ttest: 0.5434783\ttest1: 0.5390071\tbest: 0.5390071 (0)\ttotal: 17.6ms\tremaining: 17.6s\n"
     ]
    },
    {
     "name": "stderr",
     "output_type": "stream",
     "text": [
      "Warning: Overfitting detector is active, thus evaluation metric is calculated on every iteration. 'metric_period' is ignored for evaluation metric.\n"
     ]
    },
    {
     "name": "stdout",
     "output_type": "stream",
     "text": [
      "20:\tlearn: 0.7530247\ttest: 0.7654321\ttest1: 0.7386364\tbest: 0.7386364 (16)\ttotal: 244ms\tremaining: 11.4s\n",
      "40:\tlearn: 0.7605314\ttest: 0.7727633\ttest1: 0.7485380\tbest: 0.7500000 (37)\ttotal: 506ms\tremaining: 11.8s\n",
      "60:\tlearn: 0.7667042\ttest: 0.7813609\ttest1: 0.7683616\tbest: 0.7683616 (48)\ttotal: 762ms\tremaining: 11.7s\n",
      "80:\tlearn: 0.7699952\ttest: 0.7761052\ttest1: 0.7701149\tbest: 0.7701149 (75)\ttotal: 1.03s\tremaining: 11.7s\n",
      "100:\tlearn: 0.7717114\ttest: 0.7773215\ttest1: 0.7701149\tbest: 0.7701149 (75)\ttotal: 1.27s\tremaining: 11.3s\n",
      "120:\tlearn: 0.7743893\ttest: 0.7779533\ttest1: 0.7701149\tbest: 0.7701149 (75)\ttotal: 1.61s\tremaining: 11.7s\n",
      "140:\tlearn: 0.7785042\ttest: 0.7789142\ttest1: 0.7701149\tbest: 0.7701149 (75)\ttotal: 1.92s\tremaining: 11.7s\n",
      "160:\tlearn: 0.7814042\ttest: 0.7830130\ttest1: 0.7709497\tbest: 0.7727273 (156)\ttotal: 2.21s\tremaining: 11.5s\n",
      "180:\tlearn: 0.7858390\ttest: 0.7831475\ttest1: 0.7666667\tbest: 0.7727273 (156)\ttotal: 2.55s\tremaining: 11.5s\n",
      "200:\tlearn: 0.7879269\ttest: 0.7826357\ttest1: 0.7666667\tbest: 0.7727273 (156)\ttotal: 2.91s\tremaining: 11.6s\n",
      "220:\tlearn: 0.7895989\ttest: 0.7830277\ttest1: 0.7640449\tbest: 0.7727273 (156)\ttotal: 3.23s\tremaining: 11.4s\n",
      "240:\tlearn: 0.7913099\ttest: 0.7824463\ttest1: 0.7640449\tbest: 0.7727273 (156)\ttotal: 3.51s\tremaining: 11.1s\n",
      "Stopped by overfitting detector  (100 iterations wait)\n",
      "\n",
      "bestTest = 0.7727272727\n",
      "bestIteration = 156\n",
      "\n",
      "Shrink model to first 157 iterations.\n",
      "err:  0.7530864197530864\n",
      "Learning rate set to 0.094723\n",
      "0:\tlearn: 0.6806567\ttest: 0.6858357\ttest1: 0.6629213\tbest: 0.6629213 (0)\ttotal: 18.1ms\tremaining: 18.1s\n"
     ]
    },
    {
     "name": "stderr",
     "output_type": "stream",
     "text": [
      "Warning: Overfitting detector is active, thus evaluation metric is calculated on every iteration. 'metric_period' is ignored for evaluation metric.\n"
     ]
    },
    {
     "name": "stdout",
     "output_type": "stream",
     "text": [
      "20:\tlearn: 0.7586963\ttest: 0.7626239\ttest1: 0.8198758\tbest: 0.8198758 (20)\ttotal: 245ms\tremaining: 11.4s\n",
      "40:\tlearn: 0.7681388\ttest: 0.7691095\ttest1: 0.8098160\tbest: 0.8198758 (20)\ttotal: 507ms\tremaining: 11.9s\n",
      "60:\tlearn: 0.7704009\ttest: 0.7704918\ttest1: 0.8074534\tbest: 0.8198758 (20)\ttotal: 831ms\tremaining: 12.8s\n",
      "80:\tlearn: 0.7722584\ttest: 0.7717082\ttest1: 0.8074534\tbest: 0.8198758 (20)\ttotal: 1.14s\tremaining: 12.9s\n",
      "100:\tlearn: 0.7733333\ttest: 0.7716361\ttest1: 0.8074534\tbest: 0.8198758 (20)\ttotal: 1.38s\tremaining: 12.3s\n",
      "120:\tlearn: 0.7762238\ttest: 0.7722363\ttest1: 0.7974684\tbest: 0.8198758 (20)\ttotal: 1.64s\tremaining: 11.9s\n",
      "Stopped by overfitting detector  (100 iterations wait)\n",
      "\n",
      "bestTest = 0.8198757764\n",
      "bestIteration = 20\n",
      "\n",
      "Shrink model to first 21 iterations.\n",
      "err:  0.8209876543209876\n",
      "Learning rate set to 0.094723\n",
      "0:\tlearn: 0.5407286\ttest: 0.5405183\ttest1: 0.5391304\tbest: 0.5391304 (0)\ttotal: 32ms\tremaining: 32s\n"
     ]
    },
    {
     "name": "stderr",
     "output_type": "stream",
     "text": [
      "Warning: Overfitting detector is active, thus evaluation metric is calculated on every iteration. 'metric_period' is ignored for evaluation metric.\n"
     ]
    },
    {
     "name": "stdout",
     "output_type": "stream",
     "text": [
      "20:\tlearn: 0.7576381\ttest: 0.7656225\ttest1: 0.7421384\tbest: 0.7421384 (12)\ttotal: 252ms\tremaining: 11.8s\n",
      "40:\tlearn: 0.7661470\ttest: 0.7701606\ttest1: 0.7483871\tbest: 0.7515924 (30)\ttotal: 447ms\tremaining: 10.5s\n",
      "60:\tlearn: 0.7692553\ttest: 0.7725254\ttest1: 0.7388535\tbest: 0.7515924 (30)\ttotal: 690ms\tremaining: 10.6s\n",
      "80:\tlearn: 0.7725609\ttest: 0.7742549\ttest1: 0.7354839\tbest: 0.7515924 (30)\ttotal: 916ms\tremaining: 10.4s\n",
      "100:\tlearn: 0.7753738\ttest: 0.7750832\ttest1: 0.7354839\tbest: 0.7515924 (30)\ttotal: 1.11s\tremaining: 9.92s\n",
      "120:\tlearn: 0.7762238\ttest: 0.7749604\ttest1: 0.7354839\tbest: 0.7515924 (30)\ttotal: 1.35s\tremaining: 9.81s\n",
      "Stopped by overfitting detector  (100 iterations wait)\n",
      "\n",
      "bestTest = 0.7515923567\n",
      "bestIteration = 30\n",
      "\n",
      "Shrink model to first 31 iterations.\n",
      "err:  0.7592592592592593\n",
      "Learning rate set to 0.094723\n",
      "0:\tlearn: 0.5428917\ttest: 0.5440675\ttest1: 0.5441176\tbest: 0.5441176 (0)\ttotal: 14.9ms\tremaining: 14.9s\n"
     ]
    },
    {
     "name": "stderr",
     "output_type": "stream",
     "text": [
      "Warning: Overfitting detector is active, thus evaluation metric is calculated on every iteration. 'metric_period' is ignored for evaluation metric.\n"
     ]
    },
    {
     "name": "stdout",
     "output_type": "stream",
     "text": [
      "20:\tlearn: 0.7614997\ttest: 0.7681890\ttest1: 0.7547170\tbest: 0.7625000 (18)\ttotal: 202ms\tremaining: 9.4s\n",
      "40:\tlearn: 0.7661406\ttest: 0.7685937\ttest1: 0.7564103\tbest: 0.7625000 (18)\ttotal: 389ms\tremaining: 9.09s\n",
      "60:\tlearn: 0.7698691\ttest: 0.7708201\ttest1: 0.7612903\tbest: 0.7692308 (52)\ttotal: 649ms\tremaining: 9.99s\n",
      "80:\tlearn: 0.7749007\ttest: 0.7723306\ttest1: 0.7643312\tbest: 0.7692308 (52)\ttotal: 895ms\tremaining: 10.1s\n",
      "100:\tlearn: 0.7767206\ttest: 0.7718686\ttest1: 0.7643312\tbest: 0.7692308 (52)\ttotal: 1.09s\tremaining: 9.67s\n",
      "120:\tlearn: 0.7779188\ttest: 0.7728932\ttest1: 0.7643312\tbest: 0.7692308 (52)\ttotal: 1.37s\tremaining: 9.93s\n",
      "140:\tlearn: 0.7809433\ttest: 0.7735579\ttest1: 0.7643312\tbest: 0.7692308 (52)\ttotal: 1.67s\tremaining: 10.2s\n",
      "Stopped by overfitting detector  (100 iterations wait)\n",
      "\n",
      "bestTest = 0.7692307692\n",
      "bestIteration = 52\n",
      "\n",
      "Shrink model to first 53 iterations.\n",
      "err:  0.7777777777777778\n",
      "Learning rate set to 0.094723\n",
      "0:\tlearn: 0.5418800\ttest: 0.5408753\ttest1: 0.5151515\tbest: 0.5151515 (0)\ttotal: 16.2ms\tremaining: 16.2s\n"
     ]
    },
    {
     "name": "stderr",
     "output_type": "stream",
     "text": [
      "Warning: Overfitting detector is active, thus evaluation metric is calculated on every iteration. 'metric_period' is ignored for evaluation metric.\n"
     ]
    },
    {
     "name": "stdout",
     "output_type": "stream",
     "text": [
      "20:\tlearn: 0.7561758\ttest: 0.7542839\ttest1: 0.7455621\tbest: 0.7529412 (19)\ttotal: 202ms\tremaining: 9.4s\n",
      "40:\tlearn: 0.7633004\ttest: 0.7657886\ttest1: 0.7573964\tbest: 0.7573964 (37)\ttotal: 421ms\tremaining: 9.85s\n",
      "60:\tlearn: 0.7666402\ttest: 0.7727344\ttest1: 0.7816092\tbest: 0.7816092 (49)\ttotal: 665ms\tremaining: 10.2s\n",
      "80:\tlearn: 0.7707006\ttest: 0.7722267\ttest1: 0.7682927\tbest: 0.7836257 (67)\ttotal: 882ms\tremaining: 10s\n",
      "100:\tlearn: 0.7737319\ttest: 0.7730879\ttest1: 0.7764706\tbest: 0.7836257 (67)\ttotal: 1.12s\tremaining: 10s\n",
      "120:\tlearn: 0.7758868\ttest: 0.7741117\ttest1: 0.7764706\tbest: 0.7836257 (67)\ttotal: 1.36s\tremaining: 9.88s\n",
      "140:\tlearn: 0.7802093\ttest: 0.7776386\ttest1: 0.7745665\tbest: 0.7836257 (67)\ttotal: 1.62s\tremaining: 9.86s\n",
      "160:\tlearn: 0.7814234\ttest: 0.7774471\ttest1: 0.7745665\tbest: 0.7836257 (67)\ttotal: 1.87s\tremaining: 9.73s\n",
      "Stopped by overfitting detector  (100 iterations wait)\n",
      "\n",
      "bestTest = 0.783625731\n",
      "bestIteration = 67\n",
      "\n",
      "Shrink model to first 68 iterations.\n",
      "err:  0.7716049382716049\n",
      "Learning rate set to 0.094723\n",
      "0:\tlearn: 0.6827469\ttest: 0.6850672\ttest1: 0.7011494\tbest: 0.7011494 (0)\ttotal: 16.4ms\tremaining: 16.4s\n"
     ]
    },
    {
     "name": "stderr",
     "output_type": "stream",
     "text": [
      "Warning: Overfitting detector is active, thus evaluation metric is calculated on every iteration. 'metric_period' is ignored for evaluation metric.\n"
     ]
    },
    {
     "name": "stdout",
     "output_type": "stream",
     "text": [
      "20:\tlearn: 0.7619348\ttest: 0.7644331\ttest1: 0.7333333\tbest: 0.7435897 (9)\ttotal: 200ms\tremaining: 9.31s\n",
      "40:\tlearn: 0.7646966\ttest: 0.7679000\ttest1: 0.7500000\tbest: 0.7500000 (21)\ttotal: 389ms\tremaining: 9.09s\n",
      "60:\tlearn: 0.7693039\ttest: 0.7714878\ttest1: 0.7500000\tbest: 0.7500000 (21)\ttotal: 618ms\tremaining: 9.51s\n",
      "80:\tlearn: 0.7724750\ttest: 0.7717565\ttest1: 0.7500000\tbest: 0.7581699 (74)\ttotal: 800ms\tremaining: 9.08s\n",
      "100:\tlearn: 0.7758838\ttest: 0.7782466\ttest1: 0.7547170\tbest: 0.7594937 (93)\ttotal: 1.06s\tremaining: 9.4s\n",
      "120:\tlearn: 0.7775677\ttest: 0.7780556\ttest1: 0.7468354\tbest: 0.7594937 (93)\ttotal: 1.32s\tremaining: 9.61s\n",
      "140:\tlearn: 0.7793353\ttest: 0.7777604\ttest1: 0.7515924\tbest: 0.7594937 (93)\ttotal: 1.62s\tremaining: 9.85s\n",
      "160:\tlearn: 0.7804878\ttest: 0.7783682\ttest1: 0.7468354\tbest: 0.7594937 (93)\ttotal: 1.9s\tremaining: 9.92s\n",
      "180:\tlearn: 0.7822530\ttest: 0.7790625\ttest1: 0.7547170\tbest: 0.7594937 (93)\ttotal: 2.23s\tremaining: 10.1s\n",
      "200:\tlearn: 0.7842089\ttest: 0.7800778\ttest1: 0.7547170\tbest: 0.7625000 (190)\ttotal: 2.59s\tremaining: 10.3s\n",
      "220:\tlearn: 0.7856468\ttest: 0.7805335\ttest1: 0.7625000\tbest: 0.7625000 (190)\ttotal: 2.98s\tremaining: 10.5s\n",
      "240:\tlearn: 0.7861526\ttest: 0.7810356\ttest1: 0.7625000\tbest: 0.7625000 (190)\ttotal: 3.3s\tremaining: 10.4s\n",
      "260:\tlearn: 0.7901273\ttest: 0.7820672\ttest1: 0.7701863\tbest: 0.7701863 (248)\ttotal: 3.64s\tremaining: 10.3s\n",
      "280:\tlearn: 0.7918893\ttest: 0.7814982\ttest1: 0.7701863\tbest: 0.7701863 (248)\ttotal: 3.97s\tremaining: 10.2s\n",
      "300:\tlearn: 0.7945895\ttest: 0.7818238\ttest1: 0.7701863\tbest: 0.7701863 (248)\ttotal: 4.26s\tremaining: 9.89s\n",
      "320:\tlearn: 0.7950897\ttest: 0.7818917\ttest1: 0.7701863\tbest: 0.7701863 (248)\ttotal: 4.6s\tremaining: 9.74s\n",
      "340:\tlearn: 0.7969830\ttest: 0.7824333\ttest1: 0.7701863\tbest: 0.7701863 (248)\ttotal: 5.05s\tremaining: 9.75s\n",
      "Stopped by overfitting detector  (100 iterations wait)\n",
      "\n",
      "bestTest = 0.7701863354\n",
      "bestIteration = 248\n",
      "\n",
      "Shrink model to first 249 iterations.\n",
      "err:  0.7716049382716049\n",
      "Learning rate set to 0.094723\n",
      "0:\tlearn: 0.5387870\ttest: 0.5423865\ttest1: 0.5692308\tbest: 0.5692308 (0)\ttotal: 11.1ms\tremaining: 11.1s\n"
     ]
    },
    {
     "name": "stderr",
     "output_type": "stream",
     "text": [
      "Warning: Overfitting detector is active, thus evaluation metric is calculated on every iteration. 'metric_period' is ignored for evaluation metric.\n"
     ]
    },
    {
     "name": "stdout",
     "output_type": "stream",
     "text": [
      "20:\tlearn: 0.7573123\ttest: 0.7654282\ttest1: 0.8363636\tbest: 0.8363636 (19)\ttotal: 249ms\tremaining: 11.6s\n",
      "40:\tlearn: 0.7613437\ttest: 0.7674529\ttest1: 0.8518519\tbest: 0.8518519 (40)\ttotal: 447ms\tremaining: 10.5s\n",
      "60:\tlearn: 0.7662835\ttest: 0.7671537\ttest1: 0.8518519\tbest: 0.8518519 (40)\ttotal: 822ms\tremaining: 12.6s\n",
      "80:\tlearn: 0.7700398\ttest: 0.7685215\ttest1: 0.8447205\tbest: 0.8518519 (40)\ttotal: 1.06s\tremaining: 12s\n",
      "100:\tlearn: 0.7723940\ttest: 0.7699143\ttest1: 0.8447205\tbest: 0.8518519 (40)\ttotal: 1.31s\tremaining: 11.7s\n",
      "120:\tlearn: 0.7752827\ttest: 0.7705724\ttest1: 0.8447205\tbest: 0.8518519 (40)\ttotal: 1.59s\tremaining: 11.6s\n",
      "140:\tlearn: 0.7798822\ttest: 0.7706946\ttest1: 0.8447205\tbest: 0.8518519 (40)\ttotal: 1.86s\tremaining: 11.4s\n",
      "Stopped by overfitting detector  (100 iterations wait)\n",
      "\n",
      "bestTest = 0.8518518519\n",
      "bestIteration = 40\n",
      "\n",
      "Shrink model to first 41 iterations.\n",
      "err:  0.8518518518518519\n",
      "Learning rate set to 0.094723\n",
      "0:\tlearn: 0.5439968\ttest: 0.5442150\ttest1: 0.4958678\tbest: 0.4958678 (0)\ttotal: 13.9ms\tremaining: 13.9s\n"
     ]
    },
    {
     "name": "stderr",
     "output_type": "stream",
     "text": [
      "Warning: Overfitting detector is active, thus evaluation metric is calculated on every iteration. 'metric_period' is ignored for evaluation metric.\n"
     ]
    },
    {
     "name": "stdout",
     "output_type": "stream",
     "text": [
      "20:\tlearn: 0.7579821\ttest: 0.7645850\ttest1: 0.7515924\tbest: 0.7515924 (8)\ttotal: 218ms\tremaining: 10.2s\n",
      "40:\tlearn: 0.7649123\ttest: 0.7684574\ttest1: 0.7594937\tbest: 0.7594937 (34)\ttotal: 389ms\tremaining: 9.09s\n",
      "60:\tlearn: 0.7691819\ttest: 0.7725711\ttest1: 0.7654321\tbest: 0.7654321 (53)\ttotal: 639ms\tremaining: 9.83s\n",
      "80:\tlearn: 0.7723150\ttest: 0.7779839\ttest1: 0.7515152\tbest: 0.7654321 (53)\ttotal: 873ms\tremaining: 9.9s\n",
      "100:\tlearn: 0.7765941\ttest: 0.7796088\ttest1: 0.7590361\tbest: 0.7654321 (53)\ttotal: 1.11s\tremaining: 9.84s\n",
      "120:\tlearn: 0.7773537\ttest: 0.7791003\ttest1: 0.7590361\tbest: 0.7654321 (53)\ttotal: 1.37s\tremaining: 9.93s\n",
      "140:\tlearn: 0.7788232\ttest: 0.7807453\ttest1: 0.7636364\tbest: 0.7654321 (53)\ttotal: 1.68s\tremaining: 10.2s\n",
      "Stopped by overfitting detector  (100 iterations wait)\n",
      "\n",
      "bestTest = 0.7654320988\n",
      "bestIteration = 53\n",
      "\n",
      "Shrink model to first 54 iterations.\n",
      "err:  0.7654320987654321\n",
      "Learning rate set to 0.094723\n",
      "0:\tlearn: 0.5403292\ttest: 0.5408416\ttest1: 0.5156250\tbest: 0.5156250 (0)\ttotal: 15.1ms\tremaining: 15.1s\n"
     ]
    },
    {
     "name": "stderr",
     "output_type": "stream",
     "text": [
      "Warning: Overfitting detector is active, thus evaluation metric is calculated on every iteration. 'metric_period' is ignored for evaluation metric.\n"
     ]
    },
    {
     "name": "stdout",
     "output_type": "stream",
     "text": [
      "20:\tlearn: 0.7549413\ttest: 0.7659105\ttest1: 0.7530864\tbest: 0.7530864 (12)\ttotal: 218ms\tremaining: 10.2s\n",
      "40:\tlearn: 0.7606620\ttest: 0.7707516\ttest1: 0.7530864\tbest: 0.7577640 (23)\ttotal: 493ms\tremaining: 11.5s\n",
      "60:\tlearn: 0.7638288\ttest: 0.7713332\ttest1: 0.7547170\tbest: 0.7577640 (23)\ttotal: 770ms\tremaining: 11.9s\n",
      "80:\tlearn: 0.7658686\ttest: 0.7705518\ttest1: 0.7594937\tbest: 0.7594937 (74)\ttotal: 1s\tremaining: 11.3s\n",
      "100:\tlearn: 0.7688846\ttest: 0.7702616\ttest1: 0.7594937\tbest: 0.7594937 (74)\ttotal: 1.28s\tremaining: 11.4s\n",
      "120:\tlearn: 0.7716485\ttest: 0.7728069\ttest1: 0.7594937\tbest: 0.7594937 (74)\ttotal: 1.54s\tremaining: 11.2s\n",
      "140:\tlearn: 0.7747402\ttest: 0.7750317\ttest1: 0.7594937\tbest: 0.7594937 (74)\ttotal: 1.86s\tremaining: 11.3s\n",
      "160:\tlearn: 0.7761099\ttest: 0.7745921\ttest1: 0.7594937\tbest: 0.7594937 (74)\ttotal: 2.19s\tremaining: 11.4s\n",
      "Stopped by overfitting detector  (100 iterations wait)\n",
      "\n",
      "bestTest = 0.7594936709\n",
      "bestIteration = 74\n",
      "\n",
      "Shrink model to first 75 iterations.\n",
      "err:  0.7654320987654321\n"
     ]
    }
   ],
   "source": [
    "from sklearn.metrics import accuracy_score,confusion_matrix,roc_auc_score, mean_absolute_error, mean_squared_error\n",
    "errcb=[]\n",
    "y_pred_totcb=[]\n",
    "from sklearn.model_selection import KFold,StratifiedKFold, TimeSeriesSplit, GroupKFold\n",
    "fold=StratifiedKFold(n_splits=40,shuffle=True, random_state=101)#101\n",
    "i=1\n",
    "for train_index, test_index in fold.split(X,y):\n",
    "    X_train, X_test = X.iloc[train_index], X.iloc[test_index],\n",
    "    y_train, y_test = y[train_index], y[test_index]\n",
    "    m=model#LGBMRegressor(**params)\n",
    "    #LGBMRegressor(**params)\n",
    "    m.fit(X_train,y_train,eval_set=[(X_train,y_train),(X_test, y_test)],cat_features=categorical_features_indices, early_stopping_rounds=100)\n",
    "    preds=m.predict(X_test)\n",
    "    print(\"err: \",accuracy_score(y_test,preds))\n",
    "    errcb.append(accuracy_score(y_test,preds))\n",
    "    p = m.predict(test)\n",
    "    y_pred_totcb.append(p)"
   ]
  },
  {
   "cell_type": "code",
   "execution_count": 112,
   "metadata": {},
   "outputs": [
    {
     "data": {
      "text/plain": [
       "0.7781638111626515"
      ]
     },
     "execution_count": 112,
     "metadata": {},
     "output_type": "execute_result"
    }
   ],
   "source": [
    "np.mean(errcb)"
   ]
  },
  {
   "cell_type": "code",
   "execution_count": 60,
   "metadata": {},
   "outputs": [],
   "source": [
    "#model.fit(X, y,cat_features=categorical_features_indices, early_stopping_rounds=100)"
   ]
  },
  {
   "cell_type": "code",
   "execution_count": 61,
   "metadata": {},
   "outputs": [],
   "source": [
    "#preds = model.predict(test)"
   ]
  },
  {
   "cell_type": "code",
   "execution_count": 62,
   "metadata": {},
   "outputs": [],
   "source": [
    "#pd.DataFrame({'ID':test_id, 'Won_Championship':preds.astype(int)}).to_csv('win27.csv', index=False)"
   ]
  },
  {
   "cell_type": "code",
   "execution_count": 120,
   "metadata": {},
   "outputs": [],
   "source": [
    "preds = np.mean(y_pred_totcb, 0)"
   ]
  },
  {
   "cell_type": "code",
   "execution_count": 121,
   "metadata": {},
   "outputs": [],
   "source": [
    "pred = pd.DataFrame(preds, columns=['Won_Championship'])"
   ]
  },
  {
   "cell_type": "code",
   "execution_count": 122,
   "metadata": {},
   "outputs": [
    {
     "data": {
      "text/plain": [
       "0.000    1587\n",
       "1.000    1405\n",
       "0.900      94\n",
       "0.950      86\n",
       "0.150      33\n",
       "0.975      29\n",
       "0.125      27\n",
       "0.475      25\n",
       "0.875      23\n",
       "0.525      20\n",
       "0.825      16\n",
       "0.175      15\n",
       "0.050      15\n",
       "0.925      14\n",
       "0.500      10\n",
       "0.350      10\n",
       "0.400      10\n",
       "0.250       9\n",
       "0.625       9\n",
       "0.650       7\n",
       "0.100       7\n",
       "0.025       6\n",
       "0.850       5\n",
       "0.725       5\n",
       "0.575       5\n",
       "0.300       4\n",
       "0.425       3\n",
       "0.225       3\n",
       "0.550       3\n",
       "0.675       3\n",
       "0.275       2\n",
       "0.750       2\n",
       "0.600       2\n",
       "0.325       1\n",
       "0.800       1\n",
       "0.700       1\n",
       "0.200       1\n",
       "0.775       1\n",
       "0.075       1\n",
       "Name: Won_Championship, dtype: int64"
      ]
     },
     "execution_count": 122,
     "metadata": {},
     "output_type": "execute_result"
    }
   ],
   "source": [
    "pred['Won_Championship'].value_counts()"
   ]
  },
  {
   "cell_type": "code",
   "execution_count": 123,
   "metadata": {},
   "outputs": [],
   "source": [
    "def thresh(x):\n",
    "    if x <= 0.3:\n",
    "        return 0\n",
    "    else:\n",
    "        return 1"
   ]
  },
  {
   "cell_type": "code",
   "execution_count": 124,
   "metadata": {},
   "outputs": [],
   "source": [
    "pred['Won_Championship'] = pred['Won_Championship'].apply(thresh)"
   ]
  },
  {
   "cell_type": "code",
   "execution_count": 125,
   "metadata": {},
   "outputs": [
    {
     "data": {
      "text/plain": [
       "1    1790\n",
       "0    1710\n",
       "Name: Won_Championship, dtype: int64"
      ]
     },
     "execution_count": 125,
     "metadata": {},
     "output_type": "execute_result"
    }
   ],
   "source": [
    "pred['Won_Championship'].value_counts()"
   ]
  },
  {
   "cell_type": "code",
   "execution_count": 126,
   "metadata": {},
   "outputs": [],
   "source": [
    "pd.DataFrame({'ID':test_id, 'Won_Championship':pred['Won_Championship'].astype(int)}).to_csv('win38.csv', index=False)"
   ]
  },
  {
   "cell_type": "code",
   "execution_count": null,
   "metadata": {},
   "outputs": [],
   "source": [
    "LGBMClassifier(num_leaves= 5, max_depth=5, \n",
    "                         random_state=314,\n",
    "                         metric='None', \n",
    "                         n_jobs=4, class_weight='balanced',\n",
    "                         n_estimators=3000,\n",
    "                         #colsample_bytree=0.9,\n",
    "                         subsample=0.9,\n",
    "                         learning_rate=0.015)"
   ]
  }
 ],
 "metadata": {
  "kernelspec": {
   "display_name": "Python 3",
   "language": "python",
   "name": "python3"
  },
  "language_info": {
   "codemirror_mode": {
    "name": "ipython",
    "version": 3
   },
   "file_extension": ".py",
   "mimetype": "text/x-python",
   "name": "python",
   "nbconvert_exporter": "python",
   "pygments_lexer": "ipython3",
   "version": "3.7.4"
  }
 },
 "nbformat": 4,
 "nbformat_minor": 2
}
