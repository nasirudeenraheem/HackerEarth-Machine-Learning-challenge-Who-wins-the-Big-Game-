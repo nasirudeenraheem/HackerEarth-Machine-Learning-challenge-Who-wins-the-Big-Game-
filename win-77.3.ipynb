{
 "cells": [
  {
   "cell_type": "code",
   "execution_count": 1,
   "metadata": {},
   "outputs": [],
   "source": [
    "import pandas as pd\n",
    "import numpy as np\n",
    "import os, random, math, glob\n",
    "from IPython.display import Image as IM\n",
    "from IPython.display import clear_output\n",
    "from matplotlib import pyplot as plt\n",
    "%matplotlib inline\n",
    "plt.rcParams['figure.figsize'] = [16, 10]"
   ]
  },
  {
   "cell_type": "code",
   "execution_count": 2,
   "metadata": {},
   "outputs": [],
   "source": [
    "train = pd.read_csv('train.csv')\n",
    "test = pd.read_csv('test.csv')\n",
    "sub = pd.read_csv('sample_submission.csv')"
   ]
  },
  {
   "cell_type": "code",
   "execution_count": 3,
   "metadata": {},
   "outputs": [
    {
     "data": {
      "text/html": [
       "<div>\n",
       "<style scoped>\n",
       "    .dataframe tbody tr th:only-of-type {\n",
       "        vertical-align: middle;\n",
       "    }\n",
       "\n",
       "    .dataframe tbody tr th {\n",
       "        vertical-align: top;\n",
       "    }\n",
       "\n",
       "    .dataframe thead th {\n",
       "        text-align: right;\n",
       "    }\n",
       "</style>\n",
       "<table border=\"1\" class=\"dataframe\">\n",
       "  <thead>\n",
       "    <tr style=\"text-align: right;\">\n",
       "      <th></th>\n",
       "      <th>Won_Championship</th>\n",
       "      <th>Previous_SB_Wins</th>\n",
       "      <th>Number_Of_Wins_This_Season</th>\n",
       "      <th>Number_Of_First_Round_Draft_Picks</th>\n",
       "      <th>Team_Value</th>\n",
       "      <th>Playing_Style</th>\n",
       "      <th>Average_Player_Age</th>\n",
       "      <th>Number_Of_Injured_Players</th>\n",
       "      <th>Coach_Experience_Level</th>\n",
       "      <th>ID</th>\n",
       "    </tr>\n",
       "  </thead>\n",
       "  <tbody>\n",
       "    <tr>\n",
       "      <td>0</td>\n",
       "      <td>0</td>\n",
       "      <td>3</td>\n",
       "      <td>13</td>\n",
       "      <td>2</td>\n",
       "      <td>Less_Than_Four_Billion</td>\n",
       "      <td>Balanced</td>\n",
       "      <td>27</td>\n",
       "      <td>five</td>\n",
       "      <td>Intermediate</td>\n",
       "      <td>6056</td>\n",
       "    </tr>\n",
       "    <tr>\n",
       "      <td>1</td>\n",
       "      <td>0</td>\n",
       "      <td>2</td>\n",
       "      <td>14</td>\n",
       "      <td>2</td>\n",
       "      <td>Less_Than_Four_Billion</td>\n",
       "      <td>Aggressive_Offense</td>\n",
       "      <td>26</td>\n",
       "      <td>five</td>\n",
       "      <td>Intermediate</td>\n",
       "      <td>9702</td>\n",
       "    </tr>\n",
       "    <tr>\n",
       "      <td>2</td>\n",
       "      <td>1</td>\n",
       "      <td>2</td>\n",
       "      <td>13</td>\n",
       "      <td>1</td>\n",
       "      <td>Less_Than_Four_Billion</td>\n",
       "      <td>Aggressive_Defense</td>\n",
       "      <td>27</td>\n",
       "      <td>four</td>\n",
       "      <td>Intermediate</td>\n",
       "      <td>1745</td>\n",
       "    </tr>\n",
       "    <tr>\n",
       "      <td>3</td>\n",
       "      <td>0</td>\n",
       "      <td>2</td>\n",
       "      <td>12</td>\n",
       "      <td>2</td>\n",
       "      <td>Above_Four_Billion</td>\n",
       "      <td>Balanced</td>\n",
       "      <td>27</td>\n",
       "      <td>six</td>\n",
       "      <td>Intermediate</td>\n",
       "      <td>4757</td>\n",
       "    </tr>\n",
       "    <tr>\n",
       "      <td>4</td>\n",
       "      <td>0</td>\n",
       "      <td>1</td>\n",
       "      <td>15</td>\n",
       "      <td>2</td>\n",
       "      <td>Less_Than_Four_Billion</td>\n",
       "      <td>Balanced</td>\n",
       "      <td>26</td>\n",
       "      <td>five</td>\n",
       "      <td>Intermediate</td>\n",
       "      <td>7242</td>\n",
       "    </tr>\n",
       "  </tbody>\n",
       "</table>\n",
       "</div>"
      ],
      "text/plain": [
       "   Won_Championship  Previous_SB_Wins  Number_Of_Wins_This_Season  \\\n",
       "0                 0                 3                          13   \n",
       "1                 0                 2                          14   \n",
       "2                 1                 2                          13   \n",
       "3                 0                 2                          12   \n",
       "4                 0                 1                          15   \n",
       "\n",
       "   Number_Of_First_Round_Draft_Picks              Team_Value  \\\n",
       "0                                  2  Less_Than_Four_Billion   \n",
       "1                                  2  Less_Than_Four_Billion   \n",
       "2                                  1  Less_Than_Four_Billion   \n",
       "3                                  2      Above_Four_Billion   \n",
       "4                                  2  Less_Than_Four_Billion   \n",
       "\n",
       "        Playing_Style  Average_Player_Age Number_Of_Injured_Players  \\\n",
       "0            Balanced                  27                      five   \n",
       "1  Aggressive_Offense                  26                      five   \n",
       "2  Aggressive_Defense                  27                      four   \n",
       "3            Balanced                  27                       six   \n",
       "4            Balanced                  26                      five   \n",
       "\n",
       "  Coach_Experience_Level    ID  \n",
       "0           Intermediate  6056  \n",
       "1           Intermediate  9702  \n",
       "2           Intermediate  1745  \n",
       "3           Intermediate  4757  \n",
       "4           Intermediate  7242  "
      ]
     },
     "execution_count": 3,
     "metadata": {},
     "output_type": "execute_result"
    }
   ],
   "source": [
    "train.head()"
   ]
  },
  {
   "cell_type": "code",
   "execution_count": 4,
   "metadata": {},
   "outputs": [
    {
     "data": {
      "text/plain": [
       "1    3255\n",
       "0    3245\n",
       "Name: Won_Championship, dtype: int64"
      ]
     },
     "execution_count": 4,
     "metadata": {},
     "output_type": "execute_result"
    }
   ],
   "source": [
    "train['Won_Championship'].value_counts()"
   ]
  },
  {
   "cell_type": "code",
   "execution_count": 5,
   "metadata": {},
   "outputs": [],
   "source": [
    "test_id = test['ID']"
   ]
  },
  {
   "cell_type": "code",
   "execution_count": 6,
   "metadata": {},
   "outputs": [],
   "source": [
    "test = test.drop(['ID', 'Playing_Style'], axis=1)"
   ]
  },
  {
   "cell_type": "code",
   "execution_count": 7,
   "metadata": {},
   "outputs": [],
   "source": [
    "train = train.drop(['ID', 'Playing_Style'], axis=1)"
   ]
  },
  {
   "cell_type": "code",
   "execution_count": 8,
   "metadata": {},
   "outputs": [
    {
     "data": {
      "text/html": [
       "<div>\n",
       "<style scoped>\n",
       "    .dataframe tbody tr th:only-of-type {\n",
       "        vertical-align: middle;\n",
       "    }\n",
       "\n",
       "    .dataframe tbody tr th {\n",
       "        vertical-align: top;\n",
       "    }\n",
       "\n",
       "    .dataframe thead th {\n",
       "        text-align: right;\n",
       "    }\n",
       "</style>\n",
       "<table border=\"1\" class=\"dataframe\">\n",
       "  <thead>\n",
       "    <tr style=\"text-align: right;\">\n",
       "      <th></th>\n",
       "      <th>Won_Championship</th>\n",
       "      <th>Previous_SB_Wins</th>\n",
       "      <th>Number_Of_Wins_This_Season</th>\n",
       "      <th>Number_Of_First_Round_Draft_Picks</th>\n",
       "      <th>Team_Value</th>\n",
       "      <th>Average_Player_Age</th>\n",
       "      <th>Number_Of_Injured_Players</th>\n",
       "      <th>Coach_Experience_Level</th>\n",
       "    </tr>\n",
       "  </thead>\n",
       "  <tbody>\n",
       "    <tr>\n",
       "      <td>0</td>\n",
       "      <td>0</td>\n",
       "      <td>3</td>\n",
       "      <td>13</td>\n",
       "      <td>2</td>\n",
       "      <td>Less_Than_Four_Billion</td>\n",
       "      <td>27</td>\n",
       "      <td>five</td>\n",
       "      <td>Intermediate</td>\n",
       "    </tr>\n",
       "    <tr>\n",
       "      <td>1</td>\n",
       "      <td>0</td>\n",
       "      <td>2</td>\n",
       "      <td>14</td>\n",
       "      <td>2</td>\n",
       "      <td>Less_Than_Four_Billion</td>\n",
       "      <td>26</td>\n",
       "      <td>five</td>\n",
       "      <td>Intermediate</td>\n",
       "    </tr>\n",
       "    <tr>\n",
       "      <td>2</td>\n",
       "      <td>1</td>\n",
       "      <td>2</td>\n",
       "      <td>13</td>\n",
       "      <td>1</td>\n",
       "      <td>Less_Than_Four_Billion</td>\n",
       "      <td>27</td>\n",
       "      <td>four</td>\n",
       "      <td>Intermediate</td>\n",
       "    </tr>\n",
       "    <tr>\n",
       "      <td>3</td>\n",
       "      <td>0</td>\n",
       "      <td>2</td>\n",
       "      <td>12</td>\n",
       "      <td>2</td>\n",
       "      <td>Above_Four_Billion</td>\n",
       "      <td>27</td>\n",
       "      <td>six</td>\n",
       "      <td>Intermediate</td>\n",
       "    </tr>\n",
       "    <tr>\n",
       "      <td>4</td>\n",
       "      <td>0</td>\n",
       "      <td>1</td>\n",
       "      <td>15</td>\n",
       "      <td>2</td>\n",
       "      <td>Less_Than_Four_Billion</td>\n",
       "      <td>26</td>\n",
       "      <td>five</td>\n",
       "      <td>Intermediate</td>\n",
       "    </tr>\n",
       "  </tbody>\n",
       "</table>\n",
       "</div>"
      ],
      "text/plain": [
       "   Won_Championship  Previous_SB_Wins  Number_Of_Wins_This_Season  \\\n",
       "0                 0                 3                          13   \n",
       "1                 0                 2                          14   \n",
       "2                 1                 2                          13   \n",
       "3                 0                 2                          12   \n",
       "4                 0                 1                          15   \n",
       "\n",
       "   Number_Of_First_Round_Draft_Picks              Team_Value  \\\n",
       "0                                  2  Less_Than_Four_Billion   \n",
       "1                                  2  Less_Than_Four_Billion   \n",
       "2                                  1  Less_Than_Four_Billion   \n",
       "3                                  2      Above_Four_Billion   \n",
       "4                                  2  Less_Than_Four_Billion   \n",
       "\n",
       "   Average_Player_Age Number_Of_Injured_Players Coach_Experience_Level  \n",
       "0                  27                      five           Intermediate  \n",
       "1                  26                      five           Intermediate  \n",
       "2                  27                      four           Intermediate  \n",
       "3                  27                       six           Intermediate  \n",
       "4                  26                      five           Intermediate  "
      ]
     },
     "execution_count": 8,
     "metadata": {},
     "output_type": "execute_result"
    }
   ],
   "source": [
    "train.head()"
   ]
  },
  {
   "cell_type": "code",
   "execution_count": 9,
   "metadata": {},
   "outputs": [],
   "source": [
    "train['level+Value'] = train['Coach_Experience_Level'] + '_' + train['Team_Value']\n",
    "test['level+Value'] = test['Coach_Experience_Level'] + '_' + test['Team_Value']"
   ]
  },
  {
   "cell_type": "code",
   "execution_count": 10,
   "metadata": {},
   "outputs": [],
   "source": [
    "train = train.drop('Team_Value', axis=1)\n",
    "test = test.drop('Team_Value', axis=1)"
   ]
  },
  {
   "cell_type": "code",
   "execution_count": 11,
   "metadata": {},
   "outputs": [],
   "source": [
    "X = train.drop('Won_Championship', axis=1)\n",
    "y = train['Won_Championship']"
   ]
  },
  {
   "cell_type": "code",
   "execution_count": 12,
   "metadata": {},
   "outputs": [],
   "source": [
    "from catboost import CatBoostClassifier\n",
    "from lightgbm import LGBMClassifier"
   ]
  },
  {
   "cell_type": "code",
   "execution_count": 13,
   "metadata": {},
   "outputs": [],
   "source": [
    "\n",
    "from sklearn.model_selection import train_test_split, StratifiedKFold"
   ]
  },
  {
   "cell_type": "code",
   "execution_count": 14,
   "metadata": {},
   "outputs": [],
   "source": [
    "# Split the data into 30% validation and 70% training\n",
    "X_train, X_test, y_train, y_test = train_test_split(X, y, test_size=0.15, random_state=1234)"
   ]
  },
  {
   "cell_type": "code",
   "execution_count": 15,
   "metadata": {},
   "outputs": [],
   "source": [
    "categorical_features_indices = np.where(X.dtypes != np.float)[0]"
   ]
  },
  {
   "cell_type": "code",
   "execution_count": 16,
   "metadata": {},
   "outputs": [],
   "source": [
    "model = CatBoostClassifier(#reg_lambda=5,#learning_rate=0.1,#200 best so far\n",
    "                          loss_function='Logloss', eval_metric='F1',\n",
    "                           #learning_rate=0.03,\n",
    "                       metric_period=20)#5"
   ]
  },
  {
   "cell_type": "code",
   "execution_count": 17,
   "metadata": {},
   "outputs": [],
   "source": [
    "#model.fit(X_train, y_train, cat_features=categorical_features_indices)"
   ]
  },
  {
   "cell_type": "code",
   "execution_count": 18,
   "metadata": {},
   "outputs": [
    {
     "name": "stdout",
     "output_type": "stream",
     "text": [
      "Learning rate set to 0.09472\n",
      "0:\tlearn: 0.5425085\ttest: 0.5438139\ttest1: 0.5245902\tbest: 0.5245902 (0)\ttotal: 75.8ms\tremaining: 1m 15s\n"
     ]
    },
    {
     "name": "stderr",
     "output_type": "stream",
     "text": [
      "Warning: Overfitting detector is active, thus evaluation metric is calculated on every iteration. 'metric_period' is ignored for evaluation metric.\n"
     ]
    },
    {
     "name": "stdout",
     "output_type": "stream",
     "text": [
      "20:\tlearn: 0.7558656\ttest: 0.7647990\ttest1: 0.7654321\tbest: 0.7672956 (12)\ttotal: 304ms\tremaining: 14.2s\n",
      "40:\tlearn: 0.7602882\ttest: 0.7688903\ttest1: 0.7804878\tbest: 0.7804878 (38)\ttotal: 556ms\tremaining: 13s\n",
      "60:\tlearn: 0.7621795\ttest: 0.7713386\ttest1: 0.7804878\tbest: 0.7804878 (38)\ttotal: 800ms\tremaining: 12.3s\n",
      "80:\tlearn: 0.7676022\ttest: 0.7738152\ttest1: 0.7878788\tbest: 0.7878788 (80)\ttotal: 1.07s\tremaining: 12.2s\n",
      "100:\tlearn: 0.7709569\ttest: 0.7730959\ttest1: 0.7804878\tbest: 0.7878788 (80)\ttotal: 1.38s\tremaining: 12.3s\n",
      "120:\tlearn: 0.7731200\ttest: 0.7754002\ttest1: 0.7730061\tbest: 0.7878788 (80)\ttotal: 1.74s\tremaining: 12.6s\n",
      "140:\tlearn: 0.7757382\ttest: 0.7752773\ttest1: 0.7730061\tbest: 0.7878788 (80)\ttotal: 2.12s\tremaining: 12.9s\n",
      "160:\tlearn: 0.7784507\ttest: 0.7757883\ttest1: 0.7730061\tbest: 0.7878788 (80)\ttotal: 2.42s\tremaining: 12.6s\n",
      "180:\tlearn: 0.7806041\ttest: 0.7755619\ttest1: 0.7804878\tbest: 0.7878788 (80)\ttotal: 2.77s\tremaining: 12.6s\n",
      "Stopped by overfitting detector  (100 iterations wait)\n",
      "\n",
      "bestTest = 0.7878787879\n",
      "bestIteration = 80\n",
      "\n",
      "Shrink model to first 81 iterations.\n",
      "err:  0.7865853658536586\n",
      "Learning rate set to 0.09472\n",
      "0:\tlearn: 0.5459632\ttest: 0.5454910\ttest1: 0.4537815\tbest: 0.4537815 (0)\ttotal: 12.9ms\tremaining: 12.9s\n"
     ]
    },
    {
     "name": "stderr",
     "output_type": "stream",
     "text": [
      "Warning: Overfitting detector is active, thus evaluation metric is calculated on every iteration. 'metric_period' is ignored for evaluation metric.\n"
     ]
    },
    {
     "name": "stdout",
     "output_type": "stream",
     "text": [
      "20:\tlearn: 0.7516996\ttest: 0.7584088\ttest1: 0.7019868\tbest: 0.7225806 (18)\ttotal: 282ms\tremaining: 13.2s\n",
      "40:\tlearn: 0.7619048\ttest: 0.7698222\ttest1: 0.7284768\tbest: 0.7320261 (27)\ttotal: 505ms\tremaining: 11.8s\n",
      "60:\tlearn: 0.7668377\ttest: 0.7734139\ttest1: 0.7354839\tbest: 0.7354839 (45)\ttotal: 729ms\tremaining: 11.2s\n",
      "80:\tlearn: 0.7701903\ttest: 0.7751816\ttest1: 0.7354839\tbest: 0.7354839 (45)\ttotal: 995ms\tremaining: 11.3s\n",
      "100:\tlearn: 0.7725747\ttest: 0.7751226\ttest1: 0.7272727\tbest: 0.7354839 (45)\ttotal: 1.32s\tremaining: 11.8s\n",
      "120:\tlearn: 0.7768727\ttest: 0.7703442\ttest1: 0.7152318\tbest: 0.7354839 (45)\ttotal: 1.66s\tremaining: 12s\n",
      "140:\tlearn: 0.7793651\ttest: 0.7699984\ttest1: 0.7152318\tbest: 0.7354839 (45)\ttotal: 2.04s\tremaining: 12.4s\n",
      "Stopped by overfitting detector  (100 iterations wait)\n",
      "\n",
      "bestTest = 0.735483871\n",
      "bestIteration = 45\n",
      "\n",
      "Shrink model to first 46 iterations.\n",
      "err:  0.75\n",
      "Learning rate set to 0.09472\n",
      "0:\tlearn: 0.5424614\ttest: 0.5430809\ttest1: 0.5538462\tbest: 0.5538462 (0)\ttotal: 21ms\tremaining: 21s\n"
     ]
    },
    {
     "name": "stderr",
     "output_type": "stream",
     "text": [
      "Warning: Overfitting detector is active, thus evaluation metric is calculated on every iteration. 'metric_period' is ignored for evaluation metric.\n"
     ]
    },
    {
     "name": "stdout",
     "output_type": "stream",
     "text": [
      "20:\tlearn: 0.7609833\ttest: 0.7677844\ttest1: 0.7836257\tbest: 0.7836257 (16)\ttotal: 283ms\tremaining: 13.2s\n",
      "40:\tlearn: 0.7657253\ttest: 0.7721019\ttest1: 0.7882353\tbest: 0.7882353 (34)\ttotal: 519ms\tremaining: 12.1s\n",
      "60:\tlearn: 0.7682458\ttest: 0.7732659\ttest1: 0.7882353\tbest: 0.7882353 (34)\ttotal: 743ms\tremaining: 11.4s\n",
      "80:\tlearn: 0.7717339\ttest: 0.7769964\ttest1: 0.7976879\tbest: 0.7976879 (80)\ttotal: 986ms\tremaining: 11.2s\n",
      "100:\tlearn: 0.7742653\ttest: 0.7805332\ttest1: 0.7976879\tbest: 0.7976879 (80)\ttotal: 1.27s\tremaining: 11.3s\n",
      "120:\tlearn: 0.7761004\ttest: 0.7809789\ttest1: 0.8045977\tbest: 0.8045977 (104)\ttotal: 1.64s\tremaining: 11.9s\n",
      "140:\tlearn: 0.7778837\ttest: 0.7807371\ttest1: 0.8045977\tbest: 0.8045977 (104)\ttotal: 2.03s\tremaining: 12.4s\n",
      "160:\tlearn: 0.7794188\ttest: 0.7799814\ttest1: 0.7976879\tbest: 0.8045977 (104)\ttotal: 2.36s\tremaining: 12.3s\n",
      "180:\tlearn: 0.7819740\ttest: 0.7814529\ttest1: 0.8045977\tbest: 0.8045977 (104)\ttotal: 2.69s\tremaining: 12.2s\n",
      "200:\tlearn: 0.7831325\ttest: 0.7811968\ttest1: 0.7976879\tbest: 0.8045977 (104)\ttotal: 3.03s\tremaining: 12s\n",
      "Stopped by overfitting detector  (100 iterations wait)\n",
      "\n",
      "bestTest = 0.8045977011\n",
      "bestIteration = 104\n",
      "\n",
      "Shrink model to first 105 iterations.\n",
      "err:  0.7926829268292683\n",
      "Learning rate set to 0.09472\n",
      "0:\tlearn: 0.5455272\ttest: 0.5442150\ttest1: 0.5081967\tbest: 0.5081967 (0)\ttotal: 14.8ms\tremaining: 14.8s\n"
     ]
    },
    {
     "name": "stderr",
     "output_type": "stream",
     "text": [
      "Warning: Overfitting detector is active, thus evaluation metric is calculated on every iteration. 'metric_period' is ignored for evaluation metric.\n"
     ]
    },
    {
     "name": "stdout",
     "output_type": "stream",
     "text": [
      "20:\tlearn: 0.7550303\ttest: 0.7665670\ttest1: 0.7450980\tbest: 0.7450980 (16)\ttotal: 268ms\tremaining: 12.5s\n",
      "40:\tlearn: 0.7647715\ttest: 0.7744244\ttest1: 0.7483871\tbest: 0.7532468 (33)\ttotal: 500ms\tremaining: 11.7s\n",
      "60:\tlearn: 0.7687410\ttest: 0.7768775\ttest1: 0.7483871\tbest: 0.7532468 (33)\ttotal: 705ms\tremaining: 10.8s\n",
      "80:\tlearn: 0.7709693\ttest: 0.7811489\ttest1: 0.7643312\tbest: 0.7643312 (72)\ttotal: 919ms\tremaining: 10.4s\n",
      "100:\tlearn: 0.7729807\ttest: 0.7812597\ttest1: 0.7612903\tbest: 0.7643312 (72)\ttotal: 1.19s\tremaining: 10.6s\n",
      "120:\tlearn: 0.7731975\ttest: 0.7822319\ttest1: 0.7612903\tbest: 0.7643312 (72)\ttotal: 1.48s\tremaining: 10.7s\n",
      "140:\tlearn: 0.7747776\ttest: 0.7810559\ttest1: 0.7612903\tbest: 0.7643312 (72)\ttotal: 1.76s\tremaining: 10.8s\n",
      "160:\tlearn: 0.7755556\ttest: 0.7816128\ttest1: 0.7612903\tbest: 0.7643312 (72)\ttotal: 2.13s\tremaining: 11.1s\n",
      "Stopped by overfitting detector  (100 iterations wait)\n",
      "\n",
      "bestTest = 0.7643312102\n",
      "bestIteration = 72\n",
      "\n",
      "Shrink model to first 73 iterations.\n",
      "err:  0.774390243902439\n",
      "Learning rate set to 0.09472\n",
      "0:\tlearn: 0.5448756\ttest: 0.5422436\ttest1: 0.5760000\tbest: 0.5760000 (0)\ttotal: 13.3ms\tremaining: 13.3s\n"
     ]
    },
    {
     "name": "stderr",
     "output_type": "stream",
     "text": [
      "Warning: Overfitting detector is active, thus evaluation metric is calculated on every iteration. 'metric_period' is ignored for evaluation metric.\n"
     ]
    },
    {
     "name": "stdout",
     "output_type": "stream",
     "text": [
      "20:\tlearn: 0.7561635\ttest: 0.7633080\ttest1: 0.7692308\tbest: 0.7692308 (20)\ttotal: 253ms\tremaining: 11.8s\n",
      "40:\tlearn: 0.7618138\ttest: 0.7674531\ttest1: 0.7692308\tbest: 0.7692308 (20)\ttotal: 541ms\tremaining: 12.7s\n",
      "60:\tlearn: 0.7673456\ttest: 0.7710690\ttest1: 0.7764706\tbest: 0.7764706 (54)\ttotal: 782ms\tremaining: 12s\n",
      "80:\tlearn: 0.7714878\ttest: 0.7722205\ttest1: 0.7764706\tbest: 0.7764706 (54)\ttotal: 1.04s\tremaining: 11.8s\n",
      "100:\tlearn: 0.7743883\ttest: 0.7732484\ttest1: 0.7764706\tbest: 0.7764706 (54)\ttotal: 1.34s\tremaining: 12s\n",
      "120:\tlearn: 0.7793561\ttest: 0.7787307\ttest1: 0.7719298\tbest: 0.7764706 (54)\ttotal: 1.75s\tremaining: 12.7s\n",
      "140:\tlearn: 0.7806727\ttest: 0.7789211\ttest1: 0.7719298\tbest: 0.7790698 (122)\ttotal: 2.18s\tremaining: 13.3s\n",
      "160:\tlearn: 0.7834987\ttest: 0.7803513\ttest1: 0.7790698\tbest: 0.7790698 (122)\ttotal: 2.54s\tremaining: 13.2s\n",
      "180:\tlearn: 0.7860963\ttest: 0.7817731\ttest1: 0.7790698\tbest: 0.7790698 (122)\ttotal: 2.97s\tremaining: 13.4s\n",
      "200:\tlearn: 0.7890024\ttest: 0.7831865\ttest1: 0.7790698\tbest: 0.7790698 (122)\ttotal: 3.34s\tremaining: 13.3s\n",
      "220:\tlearn: 0.7920264\ttest: 0.7831325\ttest1: 0.7790698\tbest: 0.7790698 (122)\ttotal: 3.66s\tremaining: 12.9s\n",
      "Stopped by overfitting detector  (100 iterations wait)\n",
      "\n",
      "bestTest = 0.7790697674\n",
      "bestIteration = 122\n",
      "\n",
      "Shrink model to first 123 iterations.\n",
      "err:  0.7682926829268293\n",
      "Learning rate set to 0.094722\n",
      "0:\tlearn: 0.5364573\ttest: 0.5429374\ttest1: 0.5600000\tbest: 0.5600000 (0)\ttotal: 13.5ms\tremaining: 13.5s\n"
     ]
    },
    {
     "name": "stderr",
     "output_type": "stream",
     "text": [
      "Warning: Overfitting detector is active, thus evaluation metric is calculated on every iteration. 'metric_period' is ignored for evaluation metric.\n"
     ]
    },
    {
     "name": "stdout",
     "output_type": "stream",
     "text": [
      "20:\tlearn: 0.7558306\ttest: 0.7614001\ttest1: 0.8250000\tbest: 0.8322981 (6)\ttotal: 214ms\tremaining: 9.96s\n",
      "40:\tlearn: 0.7641734\ttest: 0.7659369\ttest1: 0.8343558\tbest: 0.8414634 (38)\ttotal: 473ms\tremaining: 11.1s\n",
      "60:\tlearn: 0.7693768\ttest: 0.7682732\ttest1: 0.8414634\tbest: 0.8414634 (38)\ttotal: 793ms\tremaining: 12.2s\n",
      "80:\tlearn: 0.7703516\ttest: 0.7695500\ttest1: 0.8343558\tbest: 0.8414634 (38)\ttotal: 1.28s\tremaining: 14.5s\n",
      "100:\tlearn: 0.7710081\ttest: 0.7713419\ttest1: 0.8343558\tbest: 0.8414634 (38)\ttotal: 1.55s\tremaining: 13.8s\n",
      "120:\tlearn: 0.7722020\ttest: 0.7723150\ttest1: 0.8343558\tbest: 0.8414634 (38)\ttotal: 1.88s\tremaining: 13.6s\n",
      "Stopped by overfitting detector  (100 iterations wait)\n",
      "\n",
      "bestTest = 0.8414634146\n",
      "bestIteration = 38\n",
      "\n",
      "Shrink model to first 39 iterations.\n",
      "err:  0.8404907975460123\n",
      "Learning rate set to 0.094722\n",
      "0:\tlearn: 0.5444712\ttest: 0.5439230\ttest1: 0.5081967\tbest: 0.5081967 (0)\ttotal: 18.9ms\tremaining: 18.9s\n"
     ]
    },
    {
     "name": "stderr",
     "output_type": "stream",
     "text": [
      "Warning: Overfitting detector is active, thus evaluation metric is calculated on every iteration. 'metric_period' is ignored for evaluation metric.\n"
     ]
    },
    {
     "name": "stdout",
     "output_type": "stream",
     "text": [
      "20:\tlearn: 0.7630962\ttest: 0.7677621\ttest1: 0.7283951\tbest: 0.7283951 (14)\ttotal: 294ms\tremaining: 13.7s\n",
      "40:\tlearn: 0.7668147\ttest: 0.7719798\ttest1: 0.7393939\tbest: 0.7439024 (29)\ttotal: 522ms\tremaining: 12.2s\n",
      "60:\tlearn: 0.7703493\ttest: 0.7731650\ttest1: 0.7469880\tbest: 0.7469880 (59)\ttotal: 731ms\tremaining: 11.3s\n",
      "80:\tlearn: 0.7736118\ttest: 0.7741426\ttest1: 0.7469880\tbest: 0.7469880 (59)\ttotal: 966ms\tremaining: 11s\n",
      "100:\tlearn: 0.7770217\ttest: 0.7749882\ttest1: 0.7515152\tbest: 0.7515152 (100)\ttotal: 1.24s\tremaining: 11s\n",
      "120:\tlearn: 0.7795164\ttest: 0.7787473\ttest1: 0.7469880\tbest: 0.7515152 (100)\ttotal: 1.51s\tremaining: 11s\n",
      "140:\tlearn: 0.7812895\ttest: 0.7808814\ttest1: 0.7393939\tbest: 0.7515152 (100)\ttotal: 1.78s\tremaining: 10.9s\n",
      "160:\tlearn: 0.7822657\ttest: 0.7808814\ttest1: 0.7393939\tbest: 0.7515152 (100)\ttotal: 2.05s\tremaining: 10.7s\n",
      "180:\tlearn: 0.7855680\ttest: 0.7812306\ttest1: 0.7393939\tbest: 0.7515152 (100)\ttotal: 2.35s\tremaining: 10.6s\n",
      "200:\tlearn: 0.7880315\ttest: 0.7804725\ttest1: 0.7239264\tbest: 0.7515152 (100)\ttotal: 2.63s\tremaining: 10.4s\n",
      "Stopped by overfitting detector  (100 iterations wait)\n",
      "\n",
      "bestTest = 0.7515151515\n",
      "bestIteration = 100\n",
      "\n",
      "Shrink model to first 101 iterations.\n",
      "err:  0.7484662576687117\n",
      "Learning rate set to 0.094722\n",
      "0:\tlearn: 0.5457457\ttest: 0.5439936\ttest1: 0.5190840\tbest: 0.5190840 (0)\ttotal: 12.4ms\tremaining: 12.4s\n"
     ]
    },
    {
     "name": "stderr",
     "output_type": "stream",
     "text": [
      "Warning: Overfitting detector is active, thus evaluation metric is calculated on every iteration. 'metric_period' is ignored for evaluation metric.\n"
     ]
    },
    {
     "name": "stdout",
     "output_type": "stream",
     "text": [
      "20:\tlearn: 0.7569211\ttest: 0.7680704\ttest1: 0.7484663\tbest: 0.7484663 (19)\ttotal: 222ms\tremaining: 10.3s\n",
      "40:\tlearn: 0.7652119\ttest: 0.7725564\ttest1: 0.7439024\tbest: 0.7484663 (19)\ttotal: 487ms\tremaining: 11.4s\n",
      "60:\tlearn: 0.7719242\ttest: 0.7732120\ttest1: 0.7439024\tbest: 0.7484663 (19)\ttotal: 846ms\tremaining: 13s\n",
      "80:\tlearn: 0.7743573\ttest: 0.7759134\ttest1: 0.7484663\tbest: 0.7484663 (19)\ttotal: 1.15s\tremaining: 13s\n",
      "100:\tlearn: 0.7787639\ttest: 0.7753165\ttest1: 0.7484663\tbest: 0.7484663 (19)\ttotal: 1.43s\tremaining: 12.7s\n",
      "120:\tlearn: 0.7804492\ttest: 0.7756329\ttest1: 0.7484663\tbest: 0.7530864 (105)\ttotal: 1.77s\tremaining: 12.8s\n",
      "140:\tlearn: 0.7814716\ttest: 0.7797350\ttest1: 0.7710843\tbest: 0.7710843 (122)\ttotal: 2.11s\tremaining: 12.9s\n",
      "160:\tlearn: 0.7829653\ttest: 0.7759166\ttest1: 0.7484663\tbest: 0.7710843 (122)\ttotal: 2.38s\tremaining: 12.4s\n",
      "180:\tlearn: 0.7862091\ttest: 0.7759166\ttest1: 0.7484663\tbest: 0.7710843 (122)\ttotal: 2.68s\tremaining: 12.1s\n",
      "200:\tlearn: 0.7894077\ttest: 0.7796980\ttest1: 0.7710843\tbest: 0.7710843 (122)\ttotal: 2.98s\tremaining: 11.9s\n",
      "220:\tlearn: 0.7904342\ttest: 0.7762846\ttest1: 0.7484663\tbest: 0.7710843 (122)\ttotal: 3.3s\tremaining: 11.6s\n",
      "Stopped by overfitting detector  (100 iterations wait)\n",
      "\n",
      "bestTest = 0.7710843373\n",
      "bestIteration = 122\n",
      "\n",
      "Shrink model to first 123 iterations.\n",
      "err:  0.7668711656441718\n",
      "Learning rate set to 0.094722\n",
      "0:\tlearn: 0.5404427\ttest: 0.5416918\ttest1: 0.6060606\tbest: 0.6060606 (0)\ttotal: 12.5ms\tremaining: 12.5s\n"
     ]
    },
    {
     "name": "stderr",
     "output_type": "stream",
     "text": [
      "Warning: Overfitting detector is active, thus evaluation metric is calculated on every iteration. 'metric_period' is ignored for evaluation metric.\n"
     ]
    },
    {
     "name": "stdout",
     "output_type": "stream",
     "text": [
      "20:\tlearn: 0.7495577\ttest: 0.7551119\ttest1: 0.8292683\tbest: 0.8292683 (19)\ttotal: 211ms\tremaining: 9.82s\n",
      "40:\tlearn: 0.7622400\ttest: 0.7660865\ttest1: 0.8148148\tbest: 0.8292683 (19)\ttotal: 407ms\tremaining: 9.51s\n",
      "60:\tlearn: 0.7679619\ttest: 0.7711301\ttest1: 0.8098160\tbest: 0.8292683 (19)\ttotal: 564ms\tremaining: 8.68s\n",
      "80:\tlearn: 0.7690355\ttest: 0.7718577\ttest1: 0.8098160\tbest: 0.8292683 (19)\ttotal: 800ms\tremaining: 9.07s\n",
      "100:\tlearn: 0.7723243\ttest: 0.7775016\ttest1: 0.8242424\tbest: 0.8292683 (19)\ttotal: 1.05s\tremaining: 9.35s\n",
      "Stopped by overfitting detector  (100 iterations wait)\n",
      "\n",
      "bestTest = 0.8292682927\n",
      "bestIteration = 19\n",
      "\n",
      "Shrink model to first 20 iterations.\n",
      "err:  0.8282208588957055\n",
      "Learning rate set to 0.094722\n",
      "0:\tlearn: 0.5416164\ttest: 0.5442886\ttest1: 0.5042017\tbest: 0.5042017 (0)\ttotal: 25.1ms\tremaining: 25.1s\n"
     ]
    },
    {
     "name": "stderr",
     "output_type": "stream",
     "text": [
      "Warning: Overfitting detector is active, thus evaluation metric is calculated on every iteration. 'metric_period' is ignored for evaluation metric.\n"
     ]
    },
    {
     "name": "stdout",
     "output_type": "stream",
     "text": [
      "20:\tlearn: 0.7466536\ttest: 0.7619500\ttest1: 0.7388535\tbest: 0.7388535 (20)\ttotal: 208ms\tremaining: 9.71s\n",
      "40:\tlearn: 0.7558158\ttest: 0.7689162\ttest1: 0.7577640\tbest: 0.7625000 (26)\ttotal: 476ms\tremaining: 11.1s\n",
      "60:\tlearn: 0.7603761\ttest: 0.7712090\ttest1: 0.7453416\tbest: 0.7625000 (26)\ttotal: 757ms\tremaining: 11.7s\n",
      "80:\tlearn: 0.7660536\ttest: 0.7742339\ttest1: 0.7484663\tbest: 0.7625000 (26)\ttotal: 1.02s\tremaining: 11.6s\n",
      "100:\tlearn: 0.7668712\ttest: 0.7748396\ttest1: 0.7329193\tbest: 0.7625000 (26)\ttotal: 1.34s\tremaining: 12s\n",
      "120:\tlearn: 0.7695287\ttest: 0.7765991\ttest1: 0.7361963\tbest: 0.7625000 (26)\ttotal: 1.67s\tremaining: 12.1s\n",
      "Stopped by overfitting detector  (100 iterations wait)\n",
      "\n",
      "bestTest = 0.7625\n",
      "bestIteration = 26\n",
      "\n",
      "Shrink model to first 27 iterations.\n",
      "err:  0.7668711656441718\n",
      "Learning rate set to 0.094722\n",
      "0:\tlearn: 0.5434870\ttest: 0.5423865\ttest1: 0.5801527\tbest: 0.5801527 (0)\ttotal: 14ms\tremaining: 14s\n"
     ]
    },
    {
     "name": "stderr",
     "output_type": "stream",
     "text": [
      "Warning: Overfitting detector is active, thus evaluation metric is calculated on every iteration. 'metric_period' is ignored for evaluation metric.\n"
     ]
    },
    {
     "name": "stdout",
     "output_type": "stream",
     "text": [
      "20:\tlearn: 0.7653237\ttest: 0.7683081\ttest1: 0.7901235\tbest: 0.7901235 (10)\ttotal: 207ms\tremaining: 9.65s\n",
      "40:\tlearn: 0.7673353\ttest: 0.7695500\ttest1: 0.7875000\tbest: 0.7950311 (36)\ttotal: 383ms\tremaining: 8.96s\n",
      "60:\tlearn: 0.7698626\ttest: 0.7712107\ttest1: 0.7875000\tbest: 0.7950311 (36)\ttotal: 634ms\tremaining: 9.76s\n",
      "80:\tlearn: 0.7734894\ttest: 0.7717236\ttest1: 0.7875000\tbest: 0.7950311 (36)\ttotal: 848ms\tremaining: 9.62s\n",
      "100:\tlearn: 0.7758457\ttest: 0.7723526\ttest1: 0.7875000\tbest: 0.7950311 (36)\ttotal: 1.05s\tremaining: 9.35s\n",
      "120:\tlearn: 0.7779349\ttest: 0.7749684\ttest1: 0.7875000\tbest: 0.7950311 (36)\ttotal: 1.32s\tremaining: 9.56s\n",
      "Stopped by overfitting detector  (100 iterations wait)\n",
      "\n",
      "bestTest = 0.7950310559\n",
      "bestIteration = 36\n",
      "\n",
      "Shrink model to first 37 iterations.\n",
      "err:  0.7975460122699386\n",
      "Learning rate set to 0.094722\n",
      "0:\tlearn: 0.5378429\ttest: 0.5398722\ttest1: 0.5528455\tbest: 0.5528455 (0)\ttotal: 17.9ms\tremaining: 17.9s\n"
     ]
    },
    {
     "name": "stderr",
     "output_type": "stream",
     "text": [
      "Warning: Overfitting detector is active, thus evaluation metric is calculated on every iteration. 'metric_period' is ignored for evaluation metric.\n"
     ]
    },
    {
     "name": "stdout",
     "output_type": "stream",
     "text": [
      "20:\tlearn: 0.7590852\ttest: 0.7649377\ttest1: 0.7195122\tbest: 0.7239264 (11)\ttotal: 293ms\tremaining: 13.6s\n",
      "40:\tlearn: 0.7631537\ttest: 0.7731619\ttest1: 0.7272727\tbest: 0.7317073 (28)\ttotal: 568ms\tremaining: 13.3s\n",
      "60:\tlearn: 0.7695947\ttest: 0.7752179\ttest1: 0.7425150\tbest: 0.7425150 (48)\ttotal: 837ms\tremaining: 12.9s\n",
      "80:\tlearn: 0.7755166\ttest: 0.7745755\ttest1: 0.7425150\tbest: 0.7425150 (48)\ttotal: 1.15s\tremaining: 13s\n",
      "100:\tlearn: 0.7754843\ttest: 0.7738265\ttest1: 0.7425150\tbest: 0.7425150 (48)\ttotal: 1.42s\tremaining: 12.6s\n",
      "120:\tlearn: 0.7789740\ttest: 0.7739295\ttest1: 0.7349398\tbest: 0.7425150 (48)\ttotal: 1.73s\tremaining: 12.6s\n",
      "140:\tlearn: 0.7808349\ttest: 0.7786070\ttest1: 0.7485380\tbest: 0.7485380 (136)\ttotal: 2.06s\tremaining: 12.6s\n",
      "160:\tlearn: 0.7837070\ttest: 0.7808050\ttest1: 0.7485380\tbest: 0.7485380 (136)\ttotal: 2.46s\tremaining: 12.8s\n",
      "180:\tlearn: 0.7841590\ttest: 0.7804500\ttest1: 0.7485380\tbest: 0.7485380 (136)\ttotal: 2.81s\tremaining: 12.7s\n",
      "200:\tlearn: 0.7874389\ttest: 0.7825547\ttest1: 0.7485380\tbest: 0.7529412 (184)\ttotal: 3.13s\tremaining: 12.4s\n",
      "220:\tlearn: 0.7910943\ttest: 0.7822981\ttest1: 0.7485380\tbest: 0.7529412 (184)\ttotal: 3.46s\tremaining: 12.2s\n",
      "240:\tlearn: 0.7913897\ttest: 0.7820016\ttest1: 0.7485380\tbest: 0.7529412 (184)\ttotal: 3.84s\tremaining: 12.1s\n",
      "260:\tlearn: 0.7944118\ttest: 0.7831082\ttest1: 0.7485380\tbest: 0.7529412 (184)\ttotal: 4.24s\tremaining: 12s\n",
      "280:\tlearn: 0.7949327\ttest: 0.7822981\ttest1: 0.7485380\tbest: 0.7529412 (184)\ttotal: 4.62s\tremaining: 11.8s\n",
      "Stopped by overfitting detector  (100 iterations wait)\n",
      "\n",
      "bestTest = 0.7529411765\n",
      "bestIteration = 184\n",
      "\n",
      "Shrink model to first 185 iterations.\n",
      "err:  0.7423312883435583\n",
      "Learning rate set to 0.094722\n",
      "0:\tlearn: 0.5412475\ttest: 0.5428973\ttest1: 0.5496183\tbest: 0.5496183 (0)\ttotal: 12.4ms\tremaining: 12.4s\n"
     ]
    },
    {
     "name": "stderr",
     "output_type": "stream",
     "text": [
      "Warning: Overfitting detector is active, thus evaluation metric is calculated on every iteration. 'metric_period' is ignored for evaluation metric.\n"
     ]
    },
    {
     "name": "stdout",
     "output_type": "stream",
     "text": [
      "20:\tlearn: 0.7580313\ttest: 0.7661612\ttest1: 0.6797386\tbest: 0.7006369 (17)\ttotal: 273ms\tremaining: 12.7s\n",
      "40:\tlearn: 0.7679950\ttest: 0.7738471\ttest1: 0.6753247\tbest: 0.7006369 (17)\ttotal: 560ms\tremaining: 13.1s\n",
      "60:\tlearn: 0.7735433\ttest: 0.7764854\ttest1: 0.6753247\tbest: 0.7006369 (17)\ttotal: 828ms\tremaining: 12.8s\n",
      "80:\tlearn: 0.7758512\ttest: 0.7766258\ttest1: 0.6753247\tbest: 0.7006369 (17)\ttotal: 1.15s\tremaining: 13s\n",
      "100:\tlearn: 0.7764446\ttest: 0.7784243\ttest1: 0.6838710\tbest: 0.7006369 (17)\ttotal: 1.41s\tremaining: 12.5s\n",
      "Stopped by overfitting detector  (100 iterations wait)\n",
      "\n",
      "bestTest = 0.7006369427\n",
      "bestIteration = 17\n",
      "\n",
      "Shrink model to first 18 iterations.\n",
      "err:  0.7116564417177914\n",
      "Learning rate set to 0.094722\n",
      "0:\tlearn: 0.5428343\ttest: 0.5414742\ttest1: 0.6153846\tbest: 0.6153846 (0)\ttotal: 12.8ms\tremaining: 12.8s\n"
     ]
    },
    {
     "name": "stderr",
     "output_type": "stream",
     "text": [
      "Warning: Overfitting detector is active, thus evaluation metric is calculated on every iteration. 'metric_period' is ignored for evaluation metric.\n"
     ]
    },
    {
     "name": "stdout",
     "output_type": "stream",
     "text": [
      "20:\tlearn: 0.7568341\ttest: 0.7618743\ttest1: 0.8048780\tbest: 0.8074534 (11)\ttotal: 303ms\tremaining: 14.1s\n",
      "40:\tlearn: 0.7619200\ttest: 0.7663790\ttest1: 0.8192771\tbest: 0.8192771 (32)\ttotal: 614ms\tremaining: 14.4s\n",
      "60:\tlearn: 0.7671932\ttest: 0.7691331\ttest1: 0.8242424\tbest: 0.8242424 (45)\ttotal: 880ms\tremaining: 13.6s\n",
      "80:\tlearn: 0.7731599\ttest: 0.7743349\ttest1: 0.8242424\tbest: 0.8242424 (45)\ttotal: 1.13s\tremaining: 12.8s\n",
      "100:\tlearn: 0.7755943\ttest: 0.7746677\ttest1: 0.8292683\tbest: 0.8292683 (93)\ttotal: 1.49s\tremaining: 13.3s\n",
      "120:\tlearn: 0.7773023\ttest: 0.7769267\ttest1: 0.8242424\tbest: 0.8292683 (93)\ttotal: 1.95s\tremaining: 14.1s\n",
      "140:\tlearn: 0.7788507\ttest: 0.7765293\ttest1: 0.8292683\tbest: 0.8343558 (135)\ttotal: 2.33s\tremaining: 14.2s\n",
      "160:\tlearn: 0.7802407\ttest: 0.7768234\ttest1: 0.8242424\tbest: 0.8343558 (135)\ttotal: 2.71s\tremaining: 14.1s\n",
      "180:\tlearn: 0.7813043\ttest: 0.7782791\ttest1: 0.8313253\tbest: 0.8343558 (135)\ttotal: 3.09s\tremaining: 14s\n",
      "200:\tlearn: 0.7843878\ttest: 0.7786070\ttest1: 0.8242424\tbest: 0.8343558 (135)\ttotal: 3.52s\tremaining: 14s\n",
      "220:\tlearn: 0.7870036\ttest: 0.7791563\ttest1: 0.8242424\tbest: 0.8343558 (135)\ttotal: 3.96s\tremaining: 13.9s\n",
      "240:\tlearn: 0.7896226\ttest: 0.7799564\ttest1: 0.8363636\tbest: 0.8363636 (225)\ttotal: 4.37s\tremaining: 13.8s\n",
      "260:\tlearn: 0.7905002\ttest: 0.7797508\ttest1: 0.8414634\tbest: 0.8414634 (252)\ttotal: 4.73s\tremaining: 13.4s\n",
      "280:\tlearn: 0.7928268\ttest: 0.7792167\ttest1: 0.8414634\tbest: 0.8414634 (252)\ttotal: 5.11s\tremaining: 13.1s\n",
      "300:\tlearn: 0.7954581\ttest: 0.7772215\ttest1: 0.8292683\tbest: 0.8414634 (252)\ttotal: 5.54s\tremaining: 12.9s\n",
      "320:\tlearn: 0.7969735\ttest: 0.7778125\ttest1: 0.8242424\tbest: 0.8414634 (252)\ttotal: 5.96s\tremaining: 12.6s\n",
      "340:\tlearn: 0.7978556\ttest: 0.7771679\ttest1: 0.8292683\tbest: 0.8414634 (252)\ttotal: 6.34s\tremaining: 12.3s\n",
      "Stopped by overfitting detector  (100 iterations wait)\n",
      "\n",
      "bestTest = 0.8414634146\n",
      "bestIteration = 252\n",
      "\n",
      "Shrink model to first 253 iterations.\n",
      "err:  0.8404907975460123\n",
      "Learning rate set to 0.094722\n",
      "0:\tlearn: 0.5393168\ttest: 0.5437010\ttest1: 0.5303030\tbest: 0.5303030 (0)\ttotal: 12.9ms\tremaining: 12.8s\n"
     ]
    },
    {
     "name": "stderr",
     "output_type": "stream",
     "text": [
      "Warning: Overfitting detector is active, thus evaluation metric is calculated on every iteration. 'metric_period' is ignored for evaluation metric.\n"
     ]
    },
    {
     "name": "stdout",
     "output_type": "stream",
     "text": [
      "20:\tlearn: 0.7601581\ttest: 0.7656693\ttest1: 0.7239264\tbest: 0.7349398 (12)\ttotal: 262ms\tremaining: 12.2s\n",
      "40:\tlearn: 0.7655183\ttest: 0.7703191\ttest1: 0.7151515\tbest: 0.7349398 (12)\ttotal: 532ms\tremaining: 12.4s\n",
      "60:\tlearn: 0.7707178\ttest: 0.7725200\ttest1: 0.7151515\tbest: 0.7349398 (12)\ttotal: 771ms\tremaining: 11.9s\n",
      "80:\tlearn: 0.7755425\ttest: 0.7769243\ttest1: 0.7228916\tbest: 0.7349398 (12)\ttotal: 989ms\tremaining: 11.2s\n",
      "100:\tlearn: 0.7773023\ttest: 0.7827970\ttest1: 0.7142857\tbest: 0.7349398 (12)\ttotal: 1.27s\tremaining: 11.3s\n",
      "Stopped by overfitting detector  (100 iterations wait)\n",
      "\n",
      "bestTest = 0.734939759\n",
      "bestIteration = 12\n",
      "\n",
      "Shrink model to first 13 iterations.\n",
      "err:  0.7300613496932515\n",
      "Learning rate set to 0.094723\n",
      "0:\tlearn: 0.5405188\ttest: 0.5432992\ttest1: 0.5343511\tbest: 0.5343511 (0)\ttotal: 12.6ms\tremaining: 12.5s\n"
     ]
    },
    {
     "name": "stderr",
     "output_type": "stream",
     "text": [
      "Warning: Overfitting detector is active, thus evaluation metric is calculated on every iteration. 'metric_period' is ignored for evaluation metric.\n"
     ]
    },
    {
     "name": "stdout",
     "output_type": "stream",
     "text": [
      "20:\tlearn: 0.7631001\ttest: 0.7627922\ttest1: 0.7532468\tbest: 0.7682119 (14)\ttotal: 242ms\tremaining: 11.3s\n",
      "40:\tlearn: 0.7647153\ttest: 0.7647625\ttest1: 0.7612903\tbest: 0.7682119 (14)\ttotal: 473ms\tremaining: 11.1s\n",
      "60:\tlearn: 0.7698173\ttest: 0.7669918\ttest1: 0.7564103\tbest: 0.7682119 (14)\ttotal: 700ms\tremaining: 10.8s\n",
      "80:\tlearn: 0.7733842\ttest: 0.7704788\ttest1: 0.7643312\tbest: 0.7682119 (14)\ttotal: 935ms\tremaining: 10.6s\n",
      "100:\tlearn: 0.7766345\ttest: 0.7728857\ttest1: 0.7643312\tbest: 0.7682119 (14)\ttotal: 1.2s\tremaining: 10.7s\n",
      "Stopped by overfitting detector  (100 iterations wait)\n",
      "\n",
      "bestTest = 0.7682119205\n",
      "bestIteration = 14\n",
      "\n",
      "Shrink model to first 15 iterations.\n",
      "err:  0.7839506172839507\n",
      "Learning rate set to 0.094723\n",
      "0:\tlearn: 0.5308924\ttest: 0.5322446\ttest1: 0.4736842\tbest: 0.4736842 (0)\ttotal: 18.5ms\tremaining: 18.5s\n"
     ]
    },
    {
     "name": "stderr",
     "output_type": "stream",
     "text": [
      "Warning: Overfitting detector is active, thus evaluation metric is calculated on every iteration. 'metric_period' is ignored for evaluation metric.\n"
     ]
    },
    {
     "name": "stdout",
     "output_type": "stream",
     "text": [
      "20:\tlearn: 0.7586534\ttest: 0.7679523\ttest1: 0.7204969\tbest: 0.7204969 (7)\ttotal: 233ms\tremaining: 10.8s\n",
      "40:\tlearn: 0.7658560\ttest: 0.7707768\ttest1: 0.7044025\tbest: 0.7329193 (22)\ttotal: 482ms\tremaining: 11.3s\n",
      "60:\tlearn: 0.7674419\ttest: 0.7712919\ttest1: 0.7044025\tbest: 0.7329193 (22)\ttotal: 756ms\tremaining: 11.6s\n",
      "80:\tlearn: 0.7695493\ttest: 0.7732697\ttest1: 0.7044025\tbest: 0.7329193 (22)\ttotal: 989ms\tremaining: 11.2s\n",
      "100:\tlearn: 0.7709195\ttest: 0.7745426\ttest1: 0.7044025\tbest: 0.7329193 (22)\ttotal: 1.29s\tremaining: 11.5s\n",
      "120:\tlearn: 0.7755361\ttest: 0.7796716\ttest1: 0.7195122\tbest: 0.7329193 (22)\ttotal: 1.64s\tremaining: 11.9s\n",
      "Stopped by overfitting detector  (100 iterations wait)\n",
      "\n",
      "bestTest = 0.7329192547\n",
      "bestIteration = 22\n",
      "\n",
      "Shrink model to first 23 iterations.\n",
      "err:  0.7345679012345679\n",
      "Learning rate set to 0.094723\n",
      "0:\tlearn: 0.5441413\ttest: 0.5436269\ttest1: 0.5223881\tbest: 0.5223881 (0)\ttotal: 26.7ms\tremaining: 26.7s\n"
     ]
    },
    {
     "name": "stderr",
     "output_type": "stream",
     "text": [
      "Warning: Overfitting detector is active, thus evaluation metric is calculated on every iteration. 'metric_period' is ignored for evaluation metric.\n"
     ]
    },
    {
     "name": "stdout",
     "output_type": "stream",
     "text": [
      "20:\tlearn: 0.7641554\ttest: 0.7676447\ttest1: 0.7619048\tbest: 0.7619048 (14)\ttotal: 300ms\tremaining: 14s\n",
      "40:\tlearn: 0.7683829\ttest: 0.7694013\ttest1: 0.7619048\tbest: 0.7619048 (14)\ttotal: 594ms\tremaining: 13.9s\n",
      "60:\tlearn: 0.7722678\ttest: 0.7684446\ttest1: 0.7804878\tbest: 0.7804878 (52)\ttotal: 891ms\tremaining: 13.7s\n",
      "80:\tlearn: 0.7742240\ttest: 0.7717961\ttest1: 0.7804878\tbest: 0.7804878 (52)\ttotal: 1.16s\tremaining: 13.2s\n",
      "100:\tlearn: 0.7767449\ttest: 0.7723087\ttest1: 0.7804878\tbest: 0.7804878 (52)\ttotal: 1.45s\tremaining: 12.9s\n",
      "120:\tlearn: 0.7785658\ttest: 0.7725540\ttest1: 0.7804878\tbest: 0.7804878 (52)\ttotal: 1.66s\tremaining: 12.1s\n",
      "140:\tlearn: 0.7814716\ttest: 0.7755102\ttest1: 0.7804878\tbest: 0.7804878 (52)\ttotal: 1.95s\tremaining: 11.9s\n",
      "Stopped by overfitting detector  (100 iterations wait)\n",
      "\n",
      "bestTest = 0.7804878049\n",
      "bestIteration = 52\n",
      "\n",
      "Shrink model to first 53 iterations.\n",
      "err:  0.7777777777777778\n",
      "Learning rate set to 0.094723\n",
      "0:\tlearn: 0.5430809\ttest: 0.5445425\ttest1: 0.4838710\tbest: 0.4838710 (0)\ttotal: 16.4ms\tremaining: 16.4s\n"
     ]
    },
    {
     "name": "stderr",
     "output_type": "stream",
     "text": [
      "Warning: Overfitting detector is active, thus evaluation metric is calculated on every iteration. 'metric_period' is ignored for evaluation metric.\n"
     ]
    },
    {
     "name": "stdout",
     "output_type": "stream",
     "text": [
      "20:\tlearn: 0.7600253\ttest: 0.7688694\ttest1: 0.7317073\tbest: 0.7317073 (19)\ttotal: 247ms\tremaining: 11.5s\n",
      "40:\tlearn: 0.7648275\ttest: 0.7718577\ttest1: 0.7125000\tbest: 0.7317073 (19)\ttotal: 524ms\tremaining: 12.3s\n",
      "60:\tlearn: 0.7675899\ttest: 0.7723306\ttest1: 0.7125000\tbest: 0.7317073 (19)\ttotal: 767ms\tremaining: 11.8s\n",
      "80:\tlearn: 0.7718686\ttest: 0.7738359\ttest1: 0.7204969\tbest: 0.7317073 (19)\ttotal: 985ms\tremaining: 11.2s\n",
      "100:\tlearn: 0.7735490\ttest: 0.7740202\ttest1: 0.7204969\tbest: 0.7317073 (19)\ttotal: 1.24s\tremaining: 11s\n",
      "Stopped by overfitting detector  (100 iterations wait)\n",
      "\n",
      "bestTest = 0.7317073171\n",
      "bestIteration = 19\n",
      "\n",
      "Shrink model to first 20 iterations.\n",
      "err:  0.7283950617283951\n",
      "Learning rate set to 0.094723\n",
      "0:\tlearn: 0.5475527\ttest: 0.5435959\ttest1: 0.5210084\tbest: 0.5210084 (0)\ttotal: 12.4ms\tremaining: 12.3s\n"
     ]
    },
    {
     "name": "stderr",
     "output_type": "stream",
     "text": [
      "Warning: Overfitting detector is active, thus evaluation metric is calculated on every iteration. 'metric_period' is ignored for evaluation metric.\n"
     ]
    },
    {
     "name": "stdout",
     "output_type": "stream",
     "text": [
      "20:\tlearn: 0.7541560\ttest: 0.7645945\ttest1: 0.7924528\tbest: 0.7924528 (16)\ttotal: 226ms\tremaining: 10.6s\n",
      "40:\tlearn: 0.7624521\ttest: 0.7679365\ttest1: 0.8000000\tbest: 0.8000000 (29)\ttotal: 475ms\tremaining: 11.1s\n",
      "60:\tlearn: 0.7659167\ttest: 0.7706480\ttest1: 0.8074534\tbest: 0.8074534 (47)\ttotal: 722ms\tremaining: 11.1s\n",
      "80:\tlearn: 0.7702853\ttest: 0.7680997\ttest1: 0.8050314\tbest: 0.8074534 (47)\ttotal: 970ms\tremaining: 11s\n",
      "100:\tlearn: 0.7748006\ttest: 0.7713376\ttest1: 0.8074534\tbest: 0.8125000 (81)\ttotal: 1.26s\tremaining: 11.2s\n",
      "120:\tlearn: 0.7782015\ttest: 0.7727345\ttest1: 0.8074534\tbest: 0.8125000 (81)\ttotal: 1.55s\tremaining: 11.3s\n",
      "140:\tlearn: 0.7801080\ttest: 0.7746923\ttest1: 0.8148148\tbest: 0.8148148 (137)\ttotal: 1.81s\tremaining: 11s\n",
      "160:\tlearn: 0.7796825\ttest: 0.7739899\ttest1: 0.8074534\tbest: 0.8148148 (137)\ttotal: 2.12s\tremaining: 11.1s\n",
      "180:\tlearn: 0.7822081\ttest: 0.7753691\ttest1: 0.8198758\tbest: 0.8198758 (168)\ttotal: 2.42s\tremaining: 10.9s\n",
      "200:\tlearn: 0.7840331\ttest: 0.7750669\ttest1: 0.8198758\tbest: 0.8198758 (168)\ttotal: 2.75s\tremaining: 10.9s\n",
      "220:\tlearn: 0.7855100\ttest: 0.7752402\ttest1: 0.8198758\tbest: 0.8198758 (168)\ttotal: 3.12s\tremaining: 11s\n",
      "240:\tlearn: 0.7874166\ttest: 0.7755038\ttest1: 0.8198758\tbest: 0.8198758 (168)\ttotal: 3.48s\tremaining: 11s\n",
      "260:\tlearn: 0.7907346\ttest: 0.7762888\ttest1: 0.8198758\tbest: 0.8198758 (168)\ttotal: 3.77s\tremaining: 10.7s\n",
      "280:\tlearn: 0.7930870\ttest: 0.7794712\ttest1: 0.8343558\tbest: 0.8343558 (273)\ttotal: 4.09s\tremaining: 10.5s\n",
      "300:\tlearn: 0.7925667\ttest: 0.7799036\ttest1: 0.8343558\tbest: 0.8343558 (273)\ttotal: 4.42s\tremaining: 10.3s\n",
      "320:\tlearn: 0.7956853\ttest: 0.7809111\ttest1: 0.8343558\tbest: 0.8343558 (273)\ttotal: 4.78s\tremaining: 10.1s\n",
      "340:\tlearn: 0.7977190\ttest: 0.7807752\ttest1: 0.8343558\tbest: 0.8343558 (273)\ttotal: 5.11s\tremaining: 9.88s\n",
      "360:\tlearn: 0.8029105\ttest: 0.7807221\ttest1: 0.8343558\tbest: 0.8343558 (273)\ttotal: 5.44s\tremaining: 9.63s\n",
      "Stopped by overfitting detector  (100 iterations wait)\n",
      "\n",
      "bestTest = 0.8343558282\n",
      "bestIteration = 273\n",
      "\n",
      "Shrink model to first 274 iterations.\n",
      "err:  0.8333333333333334\n",
      "Learning rate set to 0.094723\n",
      "0:\tlearn: 0.5415075\ttest: 0.5428227\ttest1: 0.5629630\tbest: 0.5629630 (0)\ttotal: 11.9ms\tremaining: 11.9s\n"
     ]
    },
    {
     "name": "stderr",
     "output_type": "stream",
     "text": [
      "Warning: Overfitting detector is active, thus evaluation metric is calculated on every iteration. 'metric_period' is ignored for evaluation metric.\n"
     ]
    },
    {
     "name": "stdout",
     "output_type": "stream",
     "text": [
      "20:\tlearn: 0.7550633\ttest: 0.7627599\ttest1: 0.7721519\tbest: 0.7721519 (18)\ttotal: 189ms\tremaining: 8.79s\n",
      "40:\tlearn: 0.7644079\ttest: 0.7701708\ttest1: 0.7770701\tbest: 0.7848101 (24)\ttotal: 406ms\tremaining: 9.49s\n",
      "60:\tlearn: 0.7664442\ttest: 0.7728125\ttest1: 0.7770701\tbest: 0.7848101 (24)\ttotal: 626ms\tremaining: 9.63s\n",
      "80:\tlearn: 0.7706976\ttest: 0.7730330\ttest1: 0.7820513\tbest: 0.7848101 (24)\ttotal: 847ms\tremaining: 9.61s\n",
      "100:\tlearn: 0.7707006\ttest: 0.7765442\ttest1: 0.7948718\tbest: 0.7948718 (88)\ttotal: 1.1s\tremaining: 9.78s\n",
      "120:\tlearn: 0.7737412\ttest: 0.7754137\ttest1: 0.7866667\tbest: 0.7948718 (88)\ttotal: 1.38s\tremaining: 10s\n",
      "140:\tlearn: 0.7749722\ttest: 0.7799036\ttest1: 0.7894737\tbest: 0.7948718 (88)\ttotal: 1.75s\tremaining: 10.7s\n",
      "160:\tlearn: 0.7784127\ttest: 0.7797665\ttest1: 0.7894737\tbest: 0.7948718 (88)\ttotal: 2.18s\tremaining: 11.4s\n",
      "180:\tlearn: 0.7813836\ttest: 0.7805409\ttest1: 0.7843137\tbest: 0.7948718 (88)\ttotal: 2.54s\tremaining: 11.5s\n",
      "Stopped by overfitting detector  (100 iterations wait)\n",
      "\n",
      "bestTest = 0.7948717949\n",
      "bestIteration = 88\n",
      "\n",
      "Shrink model to first 89 iterations.\n",
      "err:  0.8024691358024691\n",
      "Learning rate set to 0.094723\n",
      "0:\tlearn: 0.5580769\ttest: 0.5426045\ttest1: 0.5606061\tbest: 0.5606061 (0)\ttotal: 12.7ms\tremaining: 12.7s\n"
     ]
    },
    {
     "name": "stderr",
     "output_type": "stream",
     "text": [
      "Warning: Overfitting detector is active, thus evaluation metric is calculated on every iteration. 'metric_period' is ignored for evaluation metric.\n"
     ]
    },
    {
     "name": "stdout",
     "output_type": "stream",
     "text": [
      "20:\tlearn: 0.7577581\ttest: 0.7617838\ttest1: 0.7393939\tbest: 0.7500000 (16)\ttotal: 250ms\tremaining: 11.6s\n",
      "40:\tlearn: 0.7665670\ttest: 0.7680908\ttest1: 0.7647059\tbest: 0.7692308 (29)\ttotal: 570ms\tremaining: 13.3s\n",
      "60:\tlearn: 0.7709217\ttest: 0.7722648\ttest1: 0.7647059\tbest: 0.7692308 (29)\ttotal: 943ms\tremaining: 14.5s\n",
      "80:\tlearn: 0.7718416\ttest: 0.7698125\ttest1: 0.7692308\tbest: 0.7692308 (29)\ttotal: 1.21s\tremaining: 13.7s\n",
      "100:\tlearn: 0.7754910\ttest: 0.7735049\ttest1: 0.7764706\tbest: 0.7764706 (92)\ttotal: 1.55s\tremaining: 13.8s\n",
      "120:\tlearn: 0.7784243\ttest: 0.7752035\ttest1: 0.7719298\tbest: 0.7764706 (92)\ttotal: 1.85s\tremaining: 13.5s\n",
      "140:\tlearn: 0.7796664\ttest: 0.7756380\ttest1: 0.7719298\tbest: 0.7764706 (92)\ttotal: 2.19s\tremaining: 13.4s\n",
      "160:\tlearn: 0.7820331\ttest: 0.7757784\ttest1: 0.7719298\tbest: 0.7764706 (92)\ttotal: 2.51s\tremaining: 13.1s\n",
      "180:\tlearn: 0.7832520\ttest: 0.7754145\ttest1: 0.7719298\tbest: 0.7764706 (92)\ttotal: 2.88s\tremaining: 13.1s\n",
      "Stopped by overfitting detector  (100 iterations wait)\n",
      "\n",
      "bestTest = 0.7764705882\n",
      "bestIteration = 92\n",
      "\n",
      "Shrink model to first 93 iterations.\n",
      "err:  0.7654320987654321\n",
      "Learning rate set to 0.094723\n",
      "0:\tlearn: 0.5495283\ttest: 0.5421348\ttest1: 0.5806452\tbest: 0.5806452 (0)\ttotal: 11.8ms\tremaining: 11.8s\n"
     ]
    },
    {
     "name": "stderr",
     "output_type": "stream",
     "text": [
      "Warning: Overfitting detector is active, thus evaluation metric is calculated on every iteration. 'metric_period' is ignored for evaluation metric.\n"
     ]
    },
    {
     "name": "stdout",
     "output_type": "stream",
     "text": [
      "20:\tlearn: 0.7616815\ttest: 0.7650774\ttest1: 0.7577640\tbest: 0.7577640 (15)\ttotal: 241ms\tremaining: 11.3s\n",
      "40:\tlearn: 0.7648554\ttest: 0.7701645\ttest1: 0.7388535\tbest: 0.7625000 (21)\ttotal: 500ms\tremaining: 11.7s\n",
      "60:\tlearn: 0.7687678\ttest: 0.7737018\ttest1: 0.7215190\tbest: 0.7625000 (21)\ttotal: 764ms\tremaining: 11.8s\n",
      "80:\tlearn: 0.7716685\ttest: 0.7735579\ttest1: 0.7261146\tbest: 0.7625000 (21)\ttotal: 982ms\tremaining: 11.1s\n",
      "100:\tlearn: 0.7751423\ttest: 0.7742857\ttest1: 0.7261146\tbest: 0.7625000 (21)\ttotal: 1.22s\tremaining: 10.9s\n",
      "120:\tlearn: 0.7758784\ttest: 0.7749921\ttest1: 0.7261146\tbest: 0.7625000 (21)\ttotal: 1.52s\tremaining: 11.1s\n",
      "Stopped by overfitting detector  (100 iterations wait)\n",
      "\n",
      "bestTest = 0.7625\n",
      "bestIteration = 21\n",
      "\n",
      "Shrink model to first 22 iterations.\n",
      "err:  0.7654320987654321\n",
      "Learning rate set to 0.094723\n",
      "0:\tlearn: 0.5451285\ttest: 0.5434477\ttest1: 0.5396825\tbest: 0.5396825 (0)\ttotal: 12.1ms\tremaining: 12.1s\n"
     ]
    },
    {
     "name": "stderr",
     "output_type": "stream",
     "text": [
      "Warning: Overfitting detector is active, thus evaluation metric is calculated on every iteration. 'metric_period' is ignored for evaluation metric.\n"
     ]
    },
    {
     "name": "stdout",
     "output_type": "stream",
     "text": [
      "20:\tlearn: 0.7609817\ttest: 0.7655336\ttest1: 0.7250000\tbest: 0.7250000 (20)\ttotal: 208ms\tremaining: 9.7s\n",
      "40:\tlearn: 0.7671833\ttest: 0.7713160\ttest1: 0.7169811\tbest: 0.7250000 (20)\ttotal: 387ms\tremaining: 9.06s\n",
      "60:\tlearn: 0.7704378\ttest: 0.7747210\ttest1: 0.7204969\tbest: 0.7250000 (20)\ttotal: 569ms\tremaining: 8.75s\n",
      "80:\tlearn: 0.7738377\ttest: 0.7741630\ttest1: 0.7204969\tbest: 0.7250000 (20)\ttotal: 818ms\tremaining: 9.28s\n",
      "100:\tlearn: 0.7782663\ttest: 0.7775683\ttest1: 0.7204969\tbest: 0.7250000 (20)\ttotal: 1.06s\tremaining: 9.46s\n",
      "120:\tlearn: 0.7791882\ttest: 0.7809050\ttest1: 0.7195122\tbest: 0.7250000 (20)\ttotal: 1.37s\tremaining: 9.98s\n",
      "Stopped by overfitting detector  (100 iterations wait)\n",
      "\n",
      "bestTest = 0.725\n",
      "bestIteration = 20\n",
      "\n",
      "Shrink model to first 21 iterations.\n",
      "err:  0.7283950617283951\n",
      "Learning rate set to 0.094723\n",
      "0:\tlearn: 0.5449820\ttest: 0.5428571\ttest1: 0.5507246\tbest: 0.5507246 (0)\ttotal: 11.7ms\tremaining: 11.7s\n"
     ]
    },
    {
     "name": "stderr",
     "output_type": "stream",
     "text": [
      "Warning: Overfitting detector is active, thus evaluation metric is calculated on every iteration. 'metric_period' is ignored for evaluation metric.\n"
     ]
    },
    {
     "name": "stdout",
     "output_type": "stream",
     "text": [
      "20:\tlearn: 0.7579952\ttest: 0.7689650\ttest1: 0.7455621\tbest: 0.7455621 (20)\ttotal: 256ms\tremaining: 11.9s\n",
      "40:\tlearn: 0.7639266\ttest: 0.7724532\ttest1: 0.7349398\tbest: 0.7500000 (23)\ttotal: 533ms\tremaining: 12.5s\n",
      "60:\tlearn: 0.7666560\ttest: 0.7736118\ttest1: 0.7349398\tbest: 0.7500000 (23)\ttotal: 854ms\tremaining: 13.1s\n",
      "80:\tlearn: 0.7696719\ttest: 0.7746724\ttest1: 0.7393939\tbest: 0.7500000 (23)\ttotal: 1.13s\tremaining: 12.8s\n",
      "100:\tlearn: 0.7737110\ttest: 0.7753875\ttest1: 0.7439024\tbest: 0.7500000 (23)\ttotal: 1.38s\tremaining: 12.3s\n",
      "120:\tlearn: 0.7752308\ttest: 0.7752134\ttest1: 0.7439024\tbest: 0.7500000 (23)\ttotal: 1.66s\tremaining: 12s\n",
      "Stopped by overfitting detector  (100 iterations wait)\n",
      "\n",
      "bestTest = 0.75\n",
      "bestIteration = 23\n",
      "\n",
      "Shrink model to first 24 iterations.\n",
      "err:  0.7407407407407407\n",
      "Learning rate set to 0.094723\n",
      "0:\tlearn: 0.5448413\ttest: 0.5413231\ttest1: 0.6074074\tbest: 0.6074074 (0)\ttotal: 11.9ms\tremaining: 11.8s\n"
     ]
    },
    {
     "name": "stderr",
     "output_type": "stream",
     "text": [
      "Warning: Overfitting detector is active, thus evaluation metric is calculated on every iteration. 'metric_period' is ignored for evaluation metric.\n"
     ]
    },
    {
     "name": "stdout",
     "output_type": "stream",
     "text": [
      "20:\tlearn: 0.7587080\ttest: 0.7680680\ttest1: 0.7730061\tbest: 0.7852761 (16)\ttotal: 191ms\tremaining: 8.91s\n",
      "40:\tlearn: 0.7656944\ttest: 0.7732365\ttest1: 0.7875000\tbest: 0.7950311 (28)\ttotal: 400ms\tremaining: 9.37s\n",
      "60:\tlearn: 0.7683777\ttest: 0.7735104\ttest1: 0.7950311\tbest: 0.7950311 (28)\ttotal: 663ms\tremaining: 10.2s\n",
      "80:\tlearn: 0.7708366\ttest: 0.7740916\ttest1: 0.7950311\tbest: 0.7950311 (28)\ttotal: 859ms\tremaining: 9.75s\n",
      "100:\tlearn: 0.7738773\ttest: 0.7752720\ttest1: 0.7950311\tbest: 0.7950311 (28)\ttotal: 1.09s\tremaining: 9.73s\n",
      "120:\tlearn: 0.7761619\ttest: 0.7750592\ttest1: 0.7950311\tbest: 0.7950311 (28)\ttotal: 1.39s\tremaining: 10.1s\n",
      "Stopped by overfitting detector  (100 iterations wait)\n",
      "\n",
      "bestTest = 0.7950310559\n",
      "bestIteration = 28\n",
      "\n",
      "Shrink model to first 29 iterations.\n",
      "err:  0.7962962962962963\n",
      "Learning rate set to 0.094723\n",
      "0:\tlearn: 0.5389270\ttest: 0.5419433\ttest1: 0.5839416\tbest: 0.5839416 (0)\ttotal: 12.2ms\tremaining: 12.2s\n"
     ]
    },
    {
     "name": "stderr",
     "output_type": "stream",
     "text": [
      "Warning: Overfitting detector is active, thus evaluation metric is calculated on every iteration. 'metric_period' is ignored for evaluation metric.\n"
     ]
    },
    {
     "name": "stdout",
     "output_type": "stream",
     "text": [
      "20:\tlearn: 0.7551567\ttest: 0.7607905\ttest1: 0.7928994\tbest: 0.7931034 (13)\ttotal: 209ms\tremaining: 9.74s\n",
      "40:\tlearn: 0.7610927\ttest: 0.7699811\ttest1: 0.7931034\tbest: 0.7976879 (21)\ttotal: 461ms\tremaining: 10.8s\n",
      "60:\tlearn: 0.7679219\ttest: 0.7726555\ttest1: 0.7931034\tbest: 0.7976879 (21)\ttotal: 717ms\tremaining: 11s\n",
      "80:\tlearn: 0.7721180\ttest: 0.7742139\ttest1: 0.7931034\tbest: 0.7976879 (21)\ttotal: 1.07s\tremaining: 12.2s\n",
      "100:\tlearn: 0.7768699\ttest: 0.7737435\ttest1: 0.8068182\tbest: 0.8068182 (87)\ttotal: 1.31s\tremaining: 11.7s\n",
      "120:\tlearn: 0.7810002\ttest: 0.7734177\ttest1: 0.8068182\tbest: 0.8068182 (87)\ttotal: 1.61s\tremaining: 11.7s\n",
      "140:\tlearn: 0.7832759\ttest: 0.7735401\ttest1: 0.8068182\tbest: 0.8068182 (87)\ttotal: 1.94s\tremaining: 11.8s\n",
      "160:\tlearn: 0.7857814\ttest: 0.7746233\ttest1: 0.8068182\tbest: 0.8068182 (87)\ttotal: 2.24s\tremaining: 11.7s\n",
      "180:\tlearn: 0.7866792\ttest: 0.7743883\ttest1: 0.8068182\tbest: 0.8068182 (87)\ttotal: 2.54s\tremaining: 11.5s\n",
      "Stopped by overfitting detector  (100 iterations wait)\n",
      "\n",
      "bestTest = 0.8068181818\n",
      "bestIteration = 87\n",
      "\n",
      "Shrink model to first 88 iterations.\n",
      "err:  0.7901234567901234\n",
      "Learning rate set to 0.094723\n",
      "0:\tlearn: 0.5411386\ttest: 0.5433387\ttest1: 0.5322581\tbest: 0.5322581 (0)\ttotal: 14.5ms\tremaining: 14.5s\n"
     ]
    },
    {
     "name": "stderr",
     "output_type": "stream",
     "text": [
      "Warning: Overfitting detector is active, thus evaluation metric is calculated on every iteration. 'metric_period' is ignored for evaluation metric.\n"
     ]
    },
    {
     "name": "stdout",
     "output_type": "stream",
     "text": [
      "20:\tlearn: 0.7557425\ttest: 0.7656997\ttest1: 0.7682927\tbest: 0.7682927 (17)\ttotal: 213ms\tremaining: 9.93s\n",
      "40:\tlearn: 0.7608626\ttest: 0.7686437\ttest1: 0.7804878\tbest: 0.7804878 (34)\ttotal: 335ms\tremaining: 7.83s\n",
      "60:\tlearn: 0.7668427\ttest: 0.7722521\ttest1: 0.7730061\tbest: 0.7804878 (34)\ttotal: 551ms\tremaining: 8.48s\n",
      "80:\tlearn: 0.7704839\ttest: 0.7732106\ttest1: 0.7730061\tbest: 0.7804878 (34)\ttotal: 795ms\tremaining: 9.02s\n",
      "100:\tlearn: 0.7744911\ttest: 0.7708001\ttest1: 0.7654321\tbest: 0.7804878 (34)\ttotal: 1.03s\tremaining: 9.21s\n",
      "120:\tlearn: 0.7777601\ttest: 0.7716108\ttest1: 0.7654321\tbest: 0.7804878 (34)\ttotal: 1.32s\tremaining: 9.6s\n",
      "Stopped by overfitting detector  (100 iterations wait)\n",
      "\n",
      "bestTest = 0.7804878049\n",
      "bestIteration = 34\n",
      "\n",
      "Shrink model to first 35 iterations.\n",
      "err:  0.7777777777777778\n",
      "Learning rate set to 0.094723\n",
      "0:\tlearn: 0.5437087\ttest: 0.5413655\ttest1: 0.6093750\tbest: 0.6093750 (0)\ttotal: 12.3ms\tremaining: 12.3s\n"
     ]
    },
    {
     "name": "stderr",
     "output_type": "stream",
     "text": [
      "Warning: Overfitting detector is active, thus evaluation metric is calculated on every iteration. 'metric_period' is ignored for evaluation metric.\n"
     ]
    },
    {
     "name": "stdout",
     "output_type": "stream",
     "text": [
      "20:\tlearn: 0.7525535\ttest: 0.7484519\ttest1: 0.7721519\tbest: 0.8047337 (11)\ttotal: 272ms\tremaining: 12.7s\n",
      "40:\tlearn: 0.7664632\ttest: 0.7715882\ttest1: 0.7810651\tbest: 0.8047337 (11)\ttotal: 627ms\tremaining: 14.7s\n",
      "60:\tlearn: 0.7712605\ttest: 0.7734053\ttest1: 0.7764706\tbest: 0.8047337 (11)\ttotal: 898ms\tremaining: 13.8s\n",
      "80:\tlearn: 0.7728792\ttest: 0.7740086\ttest1: 0.7764706\tbest: 0.8047337 (11)\ttotal: 1.21s\tremaining: 13.8s\n",
      "100:\tlearn: 0.7746973\ttest: 0.7745408\ttest1: 0.7764706\tbest: 0.8047337 (11)\ttotal: 1.49s\tremaining: 13.3s\n",
      "Stopped by overfitting detector  (100 iterations wait)\n",
      "\n",
      "bestTest = 0.8047337278\n",
      "bestIteration = 11\n",
      "\n",
      "Shrink model to first 12 iterations.\n",
      "err:  0.7962962962962963\n",
      "Learning rate set to 0.094723\n",
      "0:\tlearn: 0.5470870\ttest: 0.5453087\ttest1: 0.4500000\tbest: 0.4500000 (0)\ttotal: 21ms\tremaining: 21s\n"
     ]
    },
    {
     "name": "stderr",
     "output_type": "stream",
     "text": [
      "Warning: Overfitting detector is active, thus evaluation metric is calculated on every iteration. 'metric_period' is ignored for evaluation metric.\n"
     ]
    },
    {
     "name": "stdout",
     "output_type": "stream",
     "text": [
      "20:\tlearn: 0.7605856\ttest: 0.7687961\ttest1: 0.7388535\tbest: 0.7388535 (18)\ttotal: 236ms\tremaining: 11s\n",
      "40:\tlearn: 0.7666404\ttest: 0.7727980\ttest1: 0.7468354\tbest: 0.7468354 (24)\ttotal: 466ms\tremaining: 10.9s\n",
      "60:\tlearn: 0.7703191\ttest: 0.7760311\ttest1: 0.7453416\tbest: 0.7500000 (53)\ttotal: 714ms\tremaining: 11s\n",
      "80:\tlearn: 0.7757347\ttest: 0.7771553\ttest1: 0.7530864\tbest: 0.7547170 (63)\ttotal: 929ms\tremaining: 10.5s\n",
      "100:\tlearn: 0.7768855\ttest: 0.7784020\ttest1: 0.7530864\tbest: 0.7547170 (63)\ttotal: 1.19s\tremaining: 10.6s\n",
      "120:\tlearn: 0.7796877\ttest: 0.7769376\ttest1: 0.7515924\tbest: 0.7547170 (63)\ttotal: 1.45s\tremaining: 10.5s\n",
      "140:\tlearn: 0.7801486\ttest: 0.7764484\ttest1: 0.7594937\tbest: 0.7594937 (124)\ttotal: 1.72s\tremaining: 10.5s\n",
      "160:\tlearn: 0.7809584\ttest: 0.7765187\ttest1: 0.7515924\tbest: 0.7594937 (124)\ttotal: 2.04s\tremaining: 10.6s\n",
      "180:\tlearn: 0.7823334\ttest: 0.7772004\ttest1: 0.7515924\tbest: 0.7594937 (124)\ttotal: 2.46s\tremaining: 11.2s\n",
      "200:\tlearn: 0.7830219\ttest: 0.7772004\ttest1: 0.7515924\tbest: 0.7594937 (124)\ttotal: 2.83s\tremaining: 11.3s\n",
      "220:\tlearn: 0.7839594\ttest: 0.7771483\ttest1: 0.7515924\tbest: 0.7594937 (124)\ttotal: 3.23s\tremaining: 11.4s\n",
      "Stopped by overfitting detector  (100 iterations wait)\n",
      "\n",
      "bestTest = 0.7594936709\n",
      "bestIteration = 124\n",
      "\n",
      "Shrink model to first 125 iterations.\n",
      "err:  0.7654320987654321\n",
      "Learning rate set to 0.094723\n",
      "0:\tlearn: 0.5422436\ttest: 0.5415830\ttest1: 0.6000000\tbest: 0.6000000 (0)\ttotal: 12.2ms\tremaining: 12.2s\n"
     ]
    },
    {
     "name": "stderr",
     "output_type": "stream",
     "text": [
      "Warning: Overfitting detector is active, thus evaluation metric is calculated on every iteration. 'metric_period' is ignored for evaluation metric.\n"
     ]
    },
    {
     "name": "stdout",
     "output_type": "stream",
     "text": [
      "20:\tlearn: 0.7580415\ttest: 0.7641963\ttest1: 0.8121212\tbest: 0.8121212 (15)\ttotal: 218ms\tremaining: 10.2s\n",
      "40:\tlearn: 0.7636883\ttest: 0.7682966\ttest1: 0.8143713\tbest: 0.8192771 (21)\ttotal: 487ms\tremaining: 11.4s\n",
      "60:\tlearn: 0.7657686\ttest: 0.7676282\ttest1: 0.8242424\tbest: 0.8242424 (58)\ttotal: 718ms\tremaining: 11.1s\n",
      "80:\tlearn: 0.7667195\ttest: 0.7682204\ttest1: 0.8242424\tbest: 0.8242424 (58)\ttotal: 973ms\tremaining: 11s\n",
      "100:\tlearn: 0.7694013\ttest: 0.7696979\ttest1: 0.8383234\tbest: 0.8383234 (91)\ttotal: 1.28s\tremaining: 11.4s\n",
      "120:\tlearn: 0.7724029\ttest: 0.7721761\ttest1: 0.8383234\tbest: 0.8383234 (91)\ttotal: 1.54s\tremaining: 11.2s\n",
      "140:\tlearn: 0.7766041\ttest: 0.7756067\ttest1: 0.8333333\tbest: 0.8383234 (91)\ttotal: 1.83s\tremaining: 11.1s\n",
      "160:\tlearn: 0.7813968\ttest: 0.7791315\ttest1: 0.8304094\tbest: 0.8402367 (142)\ttotal: 2.12s\tremaining: 11s\n",
      "180:\tlearn: 0.7841051\ttest: 0.7794600\ttest1: 0.8352941\tbest: 0.8402367 (142)\ttotal: 2.41s\tremaining: 10.9s\n",
      "200:\tlearn: 0.7853010\ttest: 0.7812403\ttest1: 0.8352941\tbest: 0.8402367 (142)\ttotal: 2.78s\tremaining: 11s\n",
      "220:\tlearn: 0.7880681\ttest: 0.7803585\ttest1: 0.8304094\tbest: 0.8402367 (142)\ttotal: 3.15s\tremaining: 11.1s\n",
      "240:\tlearn: 0.7880019\ttest: 0.7806019\ttest1: 0.8255814\tbest: 0.8402367 (142)\ttotal: 3.48s\tremaining: 10.9s\n",
      "Stopped by overfitting detector  (100 iterations wait)\n",
      "\n",
      "bestTest = 0.8402366864\n",
      "bestIteration = 142\n",
      "\n",
      "Shrink model to first 143 iterations.\n",
      "err:  0.8333333333333334\n",
      "Learning rate set to 0.094723\n",
      "0:\tlearn: 0.5443241\ttest: 0.5434783\ttest1: 0.5390071\tbest: 0.5390071 (0)\ttotal: 12.5ms\tremaining: 12.5s\n"
     ]
    },
    {
     "name": "stderr",
     "output_type": "stream",
     "text": [
      "Warning: Overfitting detector is active, thus evaluation metric is calculated on every iteration. 'metric_period' is ignored for evaluation metric.\n"
     ]
    },
    {
     "name": "stdout",
     "output_type": "stream",
     "text": [
      "20:\tlearn: 0.7584990\ttest: 0.7682119\ttest1: 0.7471264\tbest: 0.7471264 (12)\ttotal: 274ms\tremaining: 12.8s\n",
      "40:\tlearn: 0.7630355\ttest: 0.7729908\ttest1: 0.7528090\tbest: 0.7528090 (39)\ttotal: 568ms\tremaining: 13.3s\n",
      "60:\tlearn: 0.7643475\ttest: 0.7751211\ttest1: 0.7528090\tbest: 0.7528090 (39)\ttotal: 830ms\tremaining: 12.8s\n",
      "80:\tlearn: 0.7665226\ttest: 0.7753125\ttest1: 0.7528090\tbest: 0.7555556 (65)\ttotal: 1.11s\tremaining: 12.6s\n",
      "100:\tlearn: 0.7695513\ttest: 0.7787141\ttest1: 0.7666667\tbest: 0.7709497 (85)\ttotal: 1.44s\tremaining: 12.8s\n",
      "120:\tlearn: 0.7748006\ttest: 0.7793253\ttest1: 0.7734807\tbest: 0.7734807 (109)\ttotal: 1.79s\tremaining: 13s\n",
      "140:\tlearn: 0.7768384\ttest: 0.7795766\ttest1: 0.7624309\tbest: 0.7734807 (109)\ttotal: 2.11s\tremaining: 12.8s\n",
      "160:\tlearn: 0.7809221\ttest: 0.7803289\ttest1: 0.7624309\tbest: 0.7734807 (109)\ttotal: 2.48s\tremaining: 12.9s\n",
      "180:\tlearn: 0.7836683\ttest: 0.7812451\ttest1: 0.7709497\tbest: 0.7734807 (109)\ttotal: 2.82s\tremaining: 12.8s\n",
      "200:\tlearn: 0.7846981\ttest: 0.7823666\ttest1: 0.7666667\tbest: 0.7734807 (109)\ttotal: 3.14s\tremaining: 12.5s\n",
      "Stopped by overfitting detector  (100 iterations wait)\n",
      "\n",
      "bestTest = 0.773480663\n",
      "bestIteration = 109\n",
      "\n",
      "Shrink model to first 110 iterations.\n",
      "err:  0.7469135802469136\n",
      "Learning rate set to 0.094723\n",
      "0:\tlearn: 0.5426512\ttest: 0.5413655\ttest1: 0.6093750\tbest: 0.6093750 (0)\ttotal: 11.6ms\tremaining: 11.6s\n"
     ]
    },
    {
     "name": "stderr",
     "output_type": "stream",
     "text": [
      "Warning: Overfitting detector is active, thus evaluation metric is calculated on every iteration. 'metric_period' is ignored for evaluation metric.\n"
     ]
    },
    {
     "name": "stdout",
     "output_type": "stream",
     "text": [
      "20:\tlearn: 0.7519922\ttest: 0.7566607\ttest1: 0.7631579\tbest: 0.7763158 (11)\ttotal: 241ms\tremaining: 11.2s\n",
      "40:\tlearn: 0.7610104\ttest: 0.7658544\ttest1: 0.7712418\tbest: 0.7763158 (11)\ttotal: 471ms\tremaining: 11s\n",
      "60:\tlearn: 0.7638777\ttest: 0.7681416\ttest1: 0.7712418\tbest: 0.7763158 (11)\ttotal: 736ms\tremaining: 11.3s\n",
      "80:\tlearn: 0.7687601\ttest: 0.7737226\ttest1: 0.8025478\tbest: 0.8025478 (66)\ttotal: 1.02s\tremaining: 11.6s\n",
      "100:\tlearn: 0.7699001\ttest: 0.7731119\ttest1: 0.7948718\tbest: 0.8025478 (66)\ttotal: 1.29s\tremaining: 11.5s\n",
      "120:\tlearn: 0.7699015\ttest: 0.7737203\ttest1: 0.7948718\tbest: 0.8025478 (66)\ttotal: 1.61s\tremaining: 11.7s\n",
      "140:\tlearn: 0.7727856\ttest: 0.7741525\ttest1: 0.7948718\tbest: 0.8025478 (66)\ttotal: 1.94s\tremaining: 11.8s\n",
      "160:\tlearn: 0.7768937\ttest: 0.7754714\ttest1: 0.8025478\tbest: 0.8025478 (66)\ttotal: 2.19s\tremaining: 11.4s\n",
      "Stopped by overfitting detector  (100 iterations wait)\n",
      "\n",
      "bestTest = 0.8025477707\n",
      "bestIteration = 66\n",
      "\n",
      "Shrink model to first 67 iterations.\n",
      "err:  0.808641975308642\n",
      "Learning rate set to 0.094723\n",
      "0:\tlearn: 0.5433387\ttest: 0.5437049\ttest1: 0.5166667\tbest: 0.5166667 (0)\ttotal: 12.1ms\tremaining: 12.1s\n"
     ]
    },
    {
     "name": "stderr",
     "output_type": "stream",
     "text": [
      "Warning: Overfitting detector is active, thus evaluation metric is calculated on every iteration. 'metric_period' is ignored for evaluation metric.\n"
     ]
    },
    {
     "name": "stdout",
     "output_type": "stream",
     "text": [
      "20:\tlearn: 0.7598736\ttest: 0.7657089\ttest1: 0.7435897\tbest: 0.7435897 (20)\ttotal: 218ms\tremaining: 10.2s\n",
      "40:\tlearn: 0.7687225\ttest: 0.7709708\ttest1: 0.7435897\tbest: 0.7435897 (20)\ttotal: 423ms\tremaining: 9.89s\n",
      "60:\tlearn: 0.7689883\ttest: 0.7715592\ttest1: 0.7435897\tbest: 0.7468354 (56)\ttotal: 649ms\tremaining: 9.99s\n",
      "80:\tlearn: 0.7755231\ttest: 0.7707535\ttest1: 0.7402597\tbest: 0.7468354 (56)\ttotal: 867ms\tremaining: 9.83s\n",
      "100:\tlearn: 0.7790168\ttest: 0.7800468\ttest1: 0.7179487\tbest: 0.7468354 (56)\ttotal: 1.11s\tremaining: 9.89s\n",
      "120:\tlearn: 0.7802888\ttest: 0.7799252\ttest1: 0.7179487\tbest: 0.7468354 (56)\ttotal: 1.37s\tremaining: 9.97s\n",
      "140:\tlearn: 0.7824721\ttest: 0.7813375\ttest1: 0.7179487\tbest: 0.7468354 (56)\ttotal: 1.62s\tremaining: 9.89s\n",
      "Stopped by overfitting detector  (100 iterations wait)\n",
      "\n",
      "bestTest = 0.746835443\n",
      "bestIteration = 56\n",
      "\n",
      "Shrink model to first 57 iterations.\n",
      "err:  0.7530864197530864\n",
      "Learning rate set to 0.094723\n",
      "0:\tlearn: 0.5427136\ttest: 0.5430064\ttest1: 0.5563910\tbest: 0.5563910 (0)\ttotal: 13.9ms\tremaining: 13.9s\n"
     ]
    },
    {
     "name": "stderr",
     "output_type": "stream",
     "text": [
      "Warning: Overfitting detector is active, thus evaluation metric is calculated on every iteration. 'metric_period' is ignored for evaluation metric.\n"
     ]
    },
    {
     "name": "stdout",
     "output_type": "stream",
     "text": [
      "20:\tlearn: 0.7528542\ttest: 0.7657143\ttest1: 0.7721519\tbest: 0.7721519 (20)\ttotal: 251ms\tremaining: 11.7s\n",
      "40:\tlearn: 0.7633758\ttest: 0.7698932\ttest1: 0.7643312\tbest: 0.7721519 (20)\ttotal: 630ms\tremaining: 14.7s\n",
      "60:\tlearn: 0.7685493\ttest: 0.7727990\ttest1: 0.7594937\tbest: 0.7721519 (20)\ttotal: 1s\tremaining: 15.5s\n",
      "80:\tlearn: 0.7698626\ttest: 0.7731599\ttest1: 0.7643312\tbest: 0.7721519 (20)\ttotal: 1.3s\tremaining: 14.7s\n",
      "100:\tlearn: 0.7736326\ttest: 0.7737944\ttest1: 0.7594937\tbest: 0.7721519 (20)\ttotal: 1.61s\tremaining: 14.3s\n",
      "120:\tlearn: 0.7750909\ttest: 0.7742549\ttest1: 0.7594937\tbest: 0.7721519 (20)\ttotal: 2s\tremaining: 14.5s\n",
      "Stopped by overfitting detector  (100 iterations wait)\n",
      "\n",
      "bestTest = 0.7721518987\n",
      "bestIteration = 20\n",
      "\n",
      "Shrink model to first 21 iterations.\n",
      "err:  0.7777777777777778\n",
      "Learning rate set to 0.094723\n",
      "0:\tlearn: 0.5441767\ttest: 0.5441383\ttest1: 0.5147059\tbest: 0.5147059 (0)\ttotal: 18ms\tremaining: 18s\n"
     ]
    },
    {
     "name": "stderr",
     "output_type": "stream",
     "text": [
      "Warning: Overfitting detector is active, thus evaluation metric is calculated on every iteration. 'metric_period' is ignored for evaluation metric.\n"
     ]
    },
    {
     "name": "stdout",
     "output_type": "stream",
     "text": [
      "20:\tlearn: 0.7580850\ttest: 0.7564800\ttest1: 0.7542857\tbest: 0.7586207 (16)\ttotal: 236ms\tremaining: 11s\n",
      "40:\tlearn: 0.7650535\ttest: 0.7709887\ttest1: 0.7664671\tbest: 0.7664671 (23)\ttotal: 461ms\tremaining: 10.8s\n",
      "60:\tlearn: 0.7685200\ttest: 0.7727201\ttest1: 0.7664671\tbest: 0.7664671 (23)\ttotal: 731ms\tremaining: 11.2s\n",
      "80:\tlearn: 0.7708433\ttest: 0.7739791\ttest1: 0.7664671\tbest: 0.7664671 (23)\ttotal: 1.03s\tremaining: 11.7s\n",
      "100:\tlearn: 0.7731599\ttest: 0.7757423\ttest1: 0.7664671\tbest: 0.7664671 (23)\ttotal: 1.38s\tremaining: 12.3s\n",
      "120:\tlearn: 0.7765672\ttest: 0.7800093\ttest1: 0.7602339\tbest: 0.7692308 (108)\ttotal: 1.79s\tremaining: 13s\n",
      "140:\tlearn: 0.7798266\ttest: 0.7819502\ttest1: 0.7630058\tbest: 0.7692308 (108)\ttotal: 2.16s\tremaining: 13.2s\n",
      "160:\tlearn: 0.7817579\ttest: 0.7822581\ttest1: 0.7630058\tbest: 0.7692308 (108)\ttotal: 2.53s\tremaining: 13.2s\n",
      "180:\tlearn: 0.7834726\ttest: 0.7825143\ttest1: 0.7630058\tbest: 0.7692308 (108)\ttotal: 2.84s\tremaining: 12.9s\n",
      "200:\tlearn: 0.7848938\ttest: 0.7822581\ttest1: 0.7630058\tbest: 0.7692308 (108)\ttotal: 3.24s\tremaining: 12.9s\n",
      "Stopped by overfitting detector  (100 iterations wait)\n",
      "\n",
      "bestTest = 0.7692307692\n",
      "bestIteration = 108\n",
      "\n",
      "Shrink model to first 109 iterations.\n",
      "err:  0.7592592592592593\n",
      "Learning rate set to 0.094723\n",
      "0:\tlearn: 0.5431207\ttest: 0.5441059\ttest1: 0.5123967\tbest: 0.5123967 (0)\ttotal: 12.1ms\tremaining: 12.1s\n"
     ]
    },
    {
     "name": "stderr",
     "output_type": "stream",
     "text": [
      "Warning: Overfitting detector is active, thus evaluation metric is calculated on every iteration. 'metric_period' is ignored for evaluation metric.\n"
     ]
    },
    {
     "name": "stdout",
     "output_type": "stream",
     "text": [
      "20:\tlearn: 0.7606609\ttest: 0.7647619\ttest1: 0.7284768\tbest: 0.7368421 (13)\ttotal: 238ms\tremaining: 11.1s\n",
      "40:\tlearn: 0.7701981\ttest: 0.7669173\ttest1: 0.7368421\tbest: 0.7368421 (13)\ttotal: 546ms\tremaining: 12.8s\n",
      "60:\tlearn: 0.7742646\ttest: 0.7700893\ttest1: 0.7450980\tbest: 0.7450980 (51)\ttotal: 890ms\tremaining: 13.7s\n",
      "80:\tlearn: 0.7766410\ttest: 0.7712377\ttest1: 0.7450980\tbest: 0.7450980 (51)\ttotal: 1.15s\tremaining: 13s\n",
      "100:\tlearn: 0.7786524\ttest: 0.7726550\ttest1: 0.7450980\tbest: 0.7450980 (51)\ttotal: 1.47s\tremaining: 13.1s\n",
      "120:\tlearn: 0.7804033\ttest: 0.7738965\ttest1: 0.7402597\tbest: 0.7450980 (51)\ttotal: 1.69s\tremaining: 12.3s\n",
      "140:\tlearn: 0.7815694\ttest: 0.7761619\ttest1: 0.7402597\tbest: 0.7450980 (51)\ttotal: 2.01s\tremaining: 12.3s\n",
      "Stopped by overfitting detector  (100 iterations wait)\n",
      "\n",
      "bestTest = 0.7450980392\n",
      "bestIteration = 51\n",
      "\n",
      "Shrink model to first 52 iterations.\n",
      "err:  0.7592592592592593\n",
      "Learning rate set to 0.094723\n",
      "0:\tlearn: 0.5380117\ttest: 0.5423865\ttest1: 0.5692308\tbest: 0.5692308 (0)\ttotal: 11.8ms\tremaining: 11.8s\n"
     ]
    },
    {
     "name": "stderr",
     "output_type": "stream",
     "text": [
      "Warning: Overfitting detector is active, thus evaluation metric is calculated on every iteration. 'metric_period' is ignored for evaluation metric.\n"
     ]
    },
    {
     "name": "stdout",
     "output_type": "stream",
     "text": [
      "20:\tlearn: 0.7581761\ttest: 0.7656225\ttest1: 0.8242424\tbest: 0.8313253 (15)\ttotal: 224ms\tremaining: 10.4s\n",
      "40:\tlearn: 0.7637232\ttest: 0.7664000\ttest1: 0.8447205\tbest: 0.8447205 (26)\ttotal: 446ms\tremaining: 10.4s\n",
      "60:\tlearn: 0.7670274\ttest: 0.7693043\ttest1: 0.8447205\tbest: 0.8447205 (26)\ttotal: 719ms\tremaining: 11.1s\n",
      "80:\tlearn: 0.7687172\ttest: 0.7695977\ttest1: 0.8447205\tbest: 0.8447205 (26)\ttotal: 972ms\tremaining: 11s\n",
      "100:\tlearn: 0.7700382\ttest: 0.7722301\ttest1: 0.8518519\tbest: 0.8518519 (88)\ttotal: 1.16s\tremaining: 10.3s\n",
      "120:\tlearn: 0.7734772\ttest: 0.7760727\ttest1: 0.8363636\tbest: 0.8518519 (88)\ttotal: 1.45s\tremaining: 10.5s\n",
      "140:\tlearn: 0.7773728\ttest: 0.7770840\ttest1: 0.8363636\tbest: 0.8518519 (88)\ttotal: 1.76s\tremaining: 10.7s\n",
      "160:\tlearn: 0.7793071\ttest: 0.7783144\ttest1: 0.8363636\tbest: 0.8518519 (88)\ttotal: 2.09s\tremaining: 10.9s\n",
      "180:\tlearn: 0.7822785\ttest: 0.7771019\ttest1: 0.8363636\tbest: 0.8518519 (88)\ttotal: 2.38s\tremaining: 10.8s\n",
      "Stopped by overfitting detector  (100 iterations wait)\n",
      "\n",
      "bestTest = 0.8518518519\n",
      "bestIteration = 88\n",
      "\n",
      "Shrink model to first 89 iterations.\n",
      "err:  0.8518518518518519\n",
      "Learning rate set to 0.094723\n",
      "0:\tlearn: 0.5442886\ttest: 0.5445068\ttest1: 0.4958678\tbest: 0.4958678 (0)\ttotal: 12.5ms\tremaining: 12.5s\n"
     ]
    },
    {
     "name": "stderr",
     "output_type": "stream",
     "text": [
      "Warning: Overfitting detector is active, thus evaluation metric is calculated on every iteration. 'metric_period' is ignored for evaluation metric.\n"
     ]
    },
    {
     "name": "stdout",
     "output_type": "stream",
     "text": [
      "20:\tlearn: 0.7587413\ttest: 0.7668557\ttest1: 0.7515924\tbest: 0.7594937 (16)\ttotal: 194ms\tremaining: 9.05s\n",
      "40:\tlearn: 0.7657886\ttest: 0.7731119\ttest1: 0.7577640\tbest: 0.7594937 (16)\ttotal: 383ms\tremaining: 8.95s\n",
      "60:\tlearn: 0.7689606\ttest: 0.7734894\ttest1: 0.7701863\tbest: 0.7701863 (59)\ttotal: 648ms\tremaining: 9.97s\n",
      "80:\tlearn: 0.7721700\ttest: 0.7732448\ttest1: 0.7701863\tbest: 0.7701863 (59)\ttotal: 905ms\tremaining: 10.3s\n",
      "100:\tlearn: 0.7754130\ttest: 0.7782283\ttest1: 0.7710843\tbest: 0.7777778 (82)\ttotal: 1.11s\tremaining: 9.86s\n",
      "120:\tlearn: 0.7771774\ttest: 0.7778124\ttest1: 0.7710843\tbest: 0.7777778 (82)\ttotal: 1.38s\tremaining: 10.1s\n",
      "140:\tlearn: 0.7788202\ttest: 0.7791115\ttest1: 0.7710843\tbest: 0.7777778 (82)\ttotal: 1.67s\tremaining: 10.2s\n",
      "160:\tlearn: 0.7817517\ttest: 0.7794232\ttest1: 0.7710843\tbest: 0.7777778 (82)\ttotal: 2.04s\tremaining: 10.6s\n",
      "180:\tlearn: 0.7843572\ttest: 0.7794920\ttest1: 0.7710843\tbest: 0.7777778 (82)\ttotal: 2.4s\tremaining: 10.9s\n",
      "Stopped by overfitting detector  (100 iterations wait)\n",
      "\n",
      "bestTest = 0.7777777778\n",
      "bestIteration = 82\n",
      "\n",
      "Shrink model to first 83 iterations.\n",
      "err:  0.7777777777777778\n",
      "Learning rate set to 0.094723\n",
      "0:\tlearn: 0.5441029\ttest: 0.5442860\ttest1: 0.5076923\tbest: 0.5076923 (0)\ttotal: 16ms\tremaining: 16s\n"
     ]
    },
    {
     "name": "stderr",
     "output_type": "stream",
     "text": [
      "Warning: Overfitting detector is active, thus evaluation metric is calculated on every iteration. 'metric_period' is ignored for evaluation metric.\n"
     ]
    },
    {
     "name": "stdout",
     "output_type": "stream",
     "text": [
      "20:\tlearn: 0.7575709\ttest: 0.7682349\ttest1: 0.7500000\tbest: 0.7530864 (11)\ttotal: 204ms\tremaining: 9.51s\n",
      "40:\tlearn: 0.7674234\ttest: 0.7751377\ttest1: 0.7625000\tbest: 0.7625000 (39)\ttotal: 412ms\tremaining: 9.64s\n",
      "60:\tlearn: 0.7681044\ttest: 0.7754011\ttest1: 0.7672956\tbest: 0.7672956 (43)\ttotal: 625ms\tremaining: 9.63s\n",
      "80:\tlearn: 0.7684934\ttest: 0.7765706\ttest1: 0.7594937\tbest: 0.7672956 (43)\ttotal: 860ms\tremaining: 9.76s\n",
      "100:\tlearn: 0.7715428\ttest: 0.7766410\ttest1: 0.7594937\tbest: 0.7672956 (43)\ttotal: 1.08s\tremaining: 9.6s\n",
      "120:\tlearn: 0.7737506\ttest: 0.7781784\ttest1: 0.7672956\tbest: 0.7672956 (43)\ttotal: 1.32s\tremaining: 9.63s\n",
      "140:\tlearn: 0.7782906\ttest: 0.7784225\ttest1: 0.7594937\tbest: 0.7672956 (43)\ttotal: 1.59s\tremaining: 9.72s\n",
      "Stopped by overfitting detector  (100 iterations wait)\n",
      "\n",
      "bestTest = 0.7672955975\n",
      "bestIteration = 43\n",
      "\n",
      "Shrink model to first 44 iterations.\n",
      "err:  0.7716049382716049\n"
     ]
    }
   ],
   "source": [
    "from sklearn.metrics import accuracy_score,confusion_matrix,roc_auc_score, mean_absolute_error, mean_squared_error\n",
    "errcb=[]\n",
    "y_pred_totcb=[]\n",
    "from sklearn.model_selection import KFold,StratifiedKFold, TimeSeriesSplit, GroupKFold\n",
    "fold=StratifiedKFold(n_splits=40,shuffle=True, random_state=101)#101\n",
    "i=1\n",
    "for train_index, test_index in fold.split(X,y):\n",
    "    X_train, X_test = X.iloc[train_index], X.iloc[test_index],\n",
    "    y_train, y_test = y[train_index], y[test_index]\n",
    "    m=model#LGBMRegressor(**params)\n",
    "    #LGBMRegressor(**params)\n",
    "    m.fit(X_train,y_train,eval_set=[(X_train,y_train),(X_test, y_test)],cat_features=categorical_features_indices, early_stopping_rounds=100)\n",
    "    preds=m.predict(X_test)\n",
    "    print(\"err: \",accuracy_score(y_test,preds))\n",
    "    errcb.append(accuracy_score(y_test,preds))\n",
    "    p = m.predict(test)\n",
    "    y_pred_totcb.append(p)"
   ]
  },
  {
   "cell_type": "code",
   "execution_count": 19,
   "metadata": {},
   "outputs": [
    {
     "data": {
      "text/plain": [
       "0.7767720820101862"
      ]
     },
     "execution_count": 19,
     "metadata": {},
     "output_type": "execute_result"
    }
   ],
   "source": [
    "np.mean(errcb)"
   ]
  },
  {
   "cell_type": "code",
   "execution_count": 20,
   "metadata": {},
   "outputs": [],
   "source": [
    "#model.fit(X, y,cat_features=categorical_features_indices, early_stopping_rounds=100)"
   ]
  },
  {
   "cell_type": "code",
   "execution_count": 21,
   "metadata": {},
   "outputs": [],
   "source": [
    "#preds = model.predict(test)"
   ]
  },
  {
   "cell_type": "code",
   "execution_count": 22,
   "metadata": {},
   "outputs": [],
   "source": [
    "#pd.DataFrame({'ID':test_id, 'Won_Championship':preds.astype(int)}).to_csv('win27.csv', index=False)"
   ]
  },
  {
   "cell_type": "code",
   "execution_count": 23,
   "metadata": {},
   "outputs": [],
   "source": [
    "preds = np.mean(y_pred_totcb, 0)"
   ]
  },
  {
   "cell_type": "code",
   "execution_count": 24,
   "metadata": {},
   "outputs": [],
   "source": [
    "pred = pd.DataFrame(preds, columns=['Won_Championship'])"
   ]
  },
  {
   "cell_type": "code",
   "execution_count": 25,
   "metadata": {},
   "outputs": [
    {
     "data": {
      "text/plain": [
       "0.000    1578\n",
       "1.000    1505\n",
       "0.950      71\n",
       "0.925      41\n",
       "0.025      27\n",
       "0.225      25\n",
       "0.475      24\n",
       "0.525      22\n",
       "0.150      22\n",
       "0.350      18\n",
       "0.975      17\n",
       "0.600      15\n",
       "0.800      13\n",
       "0.500      13\n",
       "0.900      12\n",
       "0.250      12\n",
       "0.050      11\n",
       "0.125      11\n",
       "0.275       8\n",
       "0.825       7\n",
       "0.300       6\n",
       "0.775       5\n",
       "0.075       4\n",
       "0.675       3\n",
       "0.575       3\n",
       "0.625       3\n",
       "0.375       3\n",
       "0.700       3\n",
       "0.325       3\n",
       "0.100       3\n",
       "0.175       2\n",
       "0.850       2\n",
       "0.750       2\n",
       "0.200       2\n",
       "0.875       2\n",
       "0.725       1\n",
       "0.450       1\n",
       "Name: Won_Championship, dtype: int64"
      ]
     },
     "execution_count": 25,
     "metadata": {},
     "output_type": "execute_result"
    }
   ],
   "source": [
    "pred['Won_Championship'].value_counts()"
   ]
  },
  {
   "cell_type": "code",
   "execution_count": 26,
   "metadata": {},
   "outputs": [],
   "source": [
    "def thresh(x):\n",
    "    if x <= 0.2:#0.2\n",
    "        return 0\n",
    "    else:\n",
    "        return 1"
   ]
  },
  {
   "cell_type": "code",
   "execution_count": 27,
   "metadata": {},
   "outputs": [],
   "source": [
    "pred['Won_Championship'] = pred['Won_Championship'].apply(thresh)"
   ]
  },
  {
   "cell_type": "code",
   "execution_count": 28,
   "metadata": {},
   "outputs": [
    {
     "data": {
      "text/plain": [
       "1    1844\n",
       "0    1656\n",
       "Name: Won_Championship, dtype: int64"
      ]
     },
     "execution_count": 28,
     "metadata": {},
     "output_type": "execute_result"
    }
   ],
   "source": [
    "pred['Won_Championship'].value_counts()"
   ]
  },
  {
   "cell_type": "code",
   "execution_count": 29,
   "metadata": {},
   "outputs": [],
   "source": [
    "pd.DataFrame({'ID':test_id, 'Won_Championship':pred['Won_Championship'].astype(int)}).to_csv('winc.csv', index=False)"
   ]
  },
  {
   "cell_type": "code",
   "execution_count": null,
   "metadata": {},
   "outputs": [],
   "source": [
    "LGBMClassifier(num_leaves= 5, max_depth=5, \n",
    "                         random_state=314,\n",
    "                         metric='None', \n",
    "                         n_jobs=4, class_weight='balanced',\n",
    "                         n_estimators=3000,\n",
    "                         #colsample_bytree=0.9,\n",
    "                         subsample=0.9,\n",
    "                         learning_rate=0.015)"
   ]
  }
 ],
 "metadata": {
  "kernelspec": {
   "display_name": "Python 3",
   "language": "python",
   "name": "python3"
  },
  "language_info": {
   "codemirror_mode": {
    "name": "ipython",
    "version": 3
   },
   "file_extension": ".py",
   "mimetype": "text/x-python",
   "name": "python",
   "nbconvert_exporter": "python",
   "pygments_lexer": "ipython3",
   "version": "3.7.4"
  }
 },
 "nbformat": 4,
 "nbformat_minor": 2
}
