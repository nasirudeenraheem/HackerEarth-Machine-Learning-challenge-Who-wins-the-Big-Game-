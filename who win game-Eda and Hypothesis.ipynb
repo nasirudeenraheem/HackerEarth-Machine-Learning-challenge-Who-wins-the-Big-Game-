{
 "cells": [
  {
   "cell_type": "code",
   "execution_count": 2,
   "metadata": {},
   "outputs": [],
   "source": [
    "import pandas as pd\n",
    "import numpy as np\n",
    "import os, random, math, glob\n",
    "from IPython.display import Image as IM\n",
    "from IPython.display import clear_output\n",
    "from matplotlib import pyplot as plt\n",
    "%matplotlib inline\n",
    "plt.rcParams['figure.figsize'] = [16, 10]"
   ]
  },
  {
   "cell_type": "code",
   "execution_count": 3,
   "metadata": {},
   "outputs": [],
   "source": [
    "train = pd.read_csv('train.csv')\n",
    "test = pd.read_csv('test.csv')\n",
    "sub = pd.read_csv('sample_submission.csv')"
   ]
  },
  {
   "cell_type": "code",
   "execution_count": 4,
   "metadata": {},
   "outputs": [
    {
     "data": {
      "text/html": [
       "<div>\n",
       "<style scoped>\n",
       "    .dataframe tbody tr th:only-of-type {\n",
       "        vertical-align: middle;\n",
       "    }\n",
       "\n",
       "    .dataframe tbody tr th {\n",
       "        vertical-align: top;\n",
       "    }\n",
       "\n",
       "    .dataframe thead th {\n",
       "        text-align: right;\n",
       "    }\n",
       "</style>\n",
       "<table border=\"1\" class=\"dataframe\">\n",
       "  <thead>\n",
       "    <tr style=\"text-align: right;\">\n",
       "      <th></th>\n",
       "      <th>Won_Championship</th>\n",
       "      <th>Previous_SB_Wins</th>\n",
       "      <th>Number_Of_Wins_This_Season</th>\n",
       "      <th>Number_Of_First_Round_Draft_Picks</th>\n",
       "      <th>Team_Value</th>\n",
       "      <th>Playing_Style</th>\n",
       "      <th>Average_Player_Age</th>\n",
       "      <th>Number_Of_Injured_Players</th>\n",
       "      <th>Coach_Experience_Level</th>\n",
       "      <th>ID</th>\n",
       "    </tr>\n",
       "  </thead>\n",
       "  <tbody>\n",
       "    <tr>\n",
       "      <td>0</td>\n",
       "      <td>0</td>\n",
       "      <td>3</td>\n",
       "      <td>13</td>\n",
       "      <td>2</td>\n",
       "      <td>Less_Than_Four_Billion</td>\n",
       "      <td>Balanced</td>\n",
       "      <td>27</td>\n",
       "      <td>five</td>\n",
       "      <td>Intermediate</td>\n",
       "      <td>6056</td>\n",
       "    </tr>\n",
       "    <tr>\n",
       "      <td>1</td>\n",
       "      <td>0</td>\n",
       "      <td>2</td>\n",
       "      <td>14</td>\n",
       "      <td>2</td>\n",
       "      <td>Less_Than_Four_Billion</td>\n",
       "      <td>Aggressive_Offense</td>\n",
       "      <td>26</td>\n",
       "      <td>five</td>\n",
       "      <td>Intermediate</td>\n",
       "      <td>9702</td>\n",
       "    </tr>\n",
       "    <tr>\n",
       "      <td>2</td>\n",
       "      <td>1</td>\n",
       "      <td>2</td>\n",
       "      <td>13</td>\n",
       "      <td>1</td>\n",
       "      <td>Less_Than_Four_Billion</td>\n",
       "      <td>Aggressive_Defense</td>\n",
       "      <td>27</td>\n",
       "      <td>four</td>\n",
       "      <td>Intermediate</td>\n",
       "      <td>1745</td>\n",
       "    </tr>\n",
       "    <tr>\n",
       "      <td>3</td>\n",
       "      <td>0</td>\n",
       "      <td>2</td>\n",
       "      <td>12</td>\n",
       "      <td>2</td>\n",
       "      <td>Above_Four_Billion</td>\n",
       "      <td>Balanced</td>\n",
       "      <td>27</td>\n",
       "      <td>six</td>\n",
       "      <td>Intermediate</td>\n",
       "      <td>4757</td>\n",
       "    </tr>\n",
       "    <tr>\n",
       "      <td>4</td>\n",
       "      <td>0</td>\n",
       "      <td>1</td>\n",
       "      <td>15</td>\n",
       "      <td>2</td>\n",
       "      <td>Less_Than_Four_Billion</td>\n",
       "      <td>Balanced</td>\n",
       "      <td>26</td>\n",
       "      <td>five</td>\n",
       "      <td>Intermediate</td>\n",
       "      <td>7242</td>\n",
       "    </tr>\n",
       "  </tbody>\n",
       "</table>\n",
       "</div>"
      ],
      "text/plain": [
       "   Won_Championship  Previous_SB_Wins  Number_Of_Wins_This_Season  \\\n",
       "0                 0                 3                          13   \n",
       "1                 0                 2                          14   \n",
       "2                 1                 2                          13   \n",
       "3                 0                 2                          12   \n",
       "4                 0                 1                          15   \n",
       "\n",
       "   Number_Of_First_Round_Draft_Picks              Team_Value  \\\n",
       "0                                  2  Less_Than_Four_Billion   \n",
       "1                                  2  Less_Than_Four_Billion   \n",
       "2                                  1  Less_Than_Four_Billion   \n",
       "3                                  2      Above_Four_Billion   \n",
       "4                                  2  Less_Than_Four_Billion   \n",
       "\n",
       "        Playing_Style  Average_Player_Age Number_Of_Injured_Players  \\\n",
       "0            Balanced                  27                      five   \n",
       "1  Aggressive_Offense                  26                      five   \n",
       "2  Aggressive_Defense                  27                      four   \n",
       "3            Balanced                  27                       six   \n",
       "4            Balanced                  26                      five   \n",
       "\n",
       "  Coach_Experience_Level    ID  \n",
       "0           Intermediate  6056  \n",
       "1           Intermediate  9702  \n",
       "2           Intermediate  1745  \n",
       "3           Intermediate  4757  \n",
       "4           Intermediate  7242  "
      ]
     },
     "execution_count": 4,
     "metadata": {},
     "output_type": "execute_result"
    }
   ],
   "source": [
    "train.head()"
   ]
  },
  {
   "cell_type": "code",
   "execution_count": 5,
   "metadata": {},
   "outputs": [
    {
     "data": {
      "text/plain": [
       "1    3255\n",
       "0    3245\n",
       "Name: Won_Championship, dtype: int64"
      ]
     },
     "execution_count": 5,
     "metadata": {},
     "output_type": "execute_result"
    }
   ],
   "source": [
    "train['Won_Championship'].value_counts()"
   ]
  },
  {
   "cell_type": "code",
   "execution_count": 8,
   "metadata": {},
   "outputs": [
    {
     "data": {
      "text/html": [
       "<div>\n",
       "<style scoped>\n",
       "    .dataframe tbody tr th:only-of-type {\n",
       "        vertical-align: middle;\n",
       "    }\n",
       "\n",
       "    .dataframe tbody tr th {\n",
       "        vertical-align: top;\n",
       "    }\n",
       "\n",
       "    .dataframe thead th {\n",
       "        text-align: right;\n",
       "    }\n",
       "</style>\n",
       "<table border=\"1\" class=\"dataframe\">\n",
       "  <thead>\n",
       "    <tr style=\"text-align: right;\">\n",
       "      <th>Coach_Experience_Level</th>\n",
       "      <th>Advanced</th>\n",
       "      <th>Beginner</th>\n",
       "      <th>Intermediate</th>\n",
       "    </tr>\n",
       "    <tr>\n",
       "      <th>Won_Championship</th>\n",
       "      <th></th>\n",
       "      <th></th>\n",
       "      <th></th>\n",
       "    </tr>\n",
       "  </thead>\n",
       "  <tbody>\n",
       "    <tr>\n",
       "      <td>0</td>\n",
       "      <td>76</td>\n",
       "      <td>542</td>\n",
       "      <td>2627</td>\n",
       "    </tr>\n",
       "    <tr>\n",
       "      <td>1</td>\n",
       "      <td>596</td>\n",
       "      <td>132</td>\n",
       "      <td>2527</td>\n",
       "    </tr>\n",
       "  </tbody>\n",
       "</table>\n",
       "</div>"
      ],
      "text/plain": [
       "Coach_Experience_Level  Advanced  Beginner  Intermediate\n",
       "Won_Championship                                        \n",
       "0                             76       542          2627\n",
       "1                            596       132          2527"
      ]
     },
     "execution_count": 8,
     "metadata": {},
     "output_type": "execute_result"
    }
   ],
   "source": [
    "pd.crosstab(train['Won_Championship'], train['Coach_Experience_Level'])"
   ]
  },
  {
   "cell_type": "code",
   "execution_count": 9,
   "metadata": {},
   "outputs": [
    {
     "data": {
      "text/html": [
       "<div>\n",
       "<style scoped>\n",
       "    .dataframe tbody tr th:only-of-type {\n",
       "        vertical-align: middle;\n",
       "    }\n",
       "\n",
       "    .dataframe tbody tr th {\n",
       "        vertical-align: top;\n",
       "    }\n",
       "\n",
       "    .dataframe thead th {\n",
       "        text-align: right;\n",
       "    }\n",
       "</style>\n",
       "<table border=\"1\" class=\"dataframe\">\n",
       "  <thead>\n",
       "    <tr style=\"text-align: right;\">\n",
       "      <th>Coach_Experience_Level</th>\n",
       "      <th>Advanced</th>\n",
       "      <th>Beginner</th>\n",
       "      <th>Intermediate</th>\n",
       "    </tr>\n",
       "    <tr>\n",
       "      <th>Team_Value</th>\n",
       "      <th></th>\n",
       "      <th></th>\n",
       "      <th></th>\n",
       "    </tr>\n",
       "  </thead>\n",
       "  <tbody>\n",
       "    <tr>\n",
       "      <td>Above_Four_Billion</td>\n",
       "      <td>79</td>\n",
       "      <td>69</td>\n",
       "      <td>569</td>\n",
       "    </tr>\n",
       "    <tr>\n",
       "      <td>Less_Than_Four_Billion</td>\n",
       "      <td>525</td>\n",
       "      <td>538</td>\n",
       "      <td>4067</td>\n",
       "    </tr>\n",
       "    <tr>\n",
       "      <td>Less_Than_Three_Billion</td>\n",
       "      <td>68</td>\n",
       "      <td>67</td>\n",
       "      <td>518</td>\n",
       "    </tr>\n",
       "  </tbody>\n",
       "</table>\n",
       "</div>"
      ],
      "text/plain": [
       "Coach_Experience_Level   Advanced  Beginner  Intermediate\n",
       "Team_Value                                               \n",
       "Above_Four_Billion             79        69           569\n",
       "Less_Than_Four_Billion        525       538          4067\n",
       "Less_Than_Three_Billion        68        67           518"
      ]
     },
     "execution_count": 9,
     "metadata": {},
     "output_type": "execute_result"
    }
   ],
   "source": [
    "pd.crosstab(train['Team_Value'], train['Coach_Experience_Level'])"
   ]
  },
  {
   "cell_type": "code",
   "execution_count": 10,
   "metadata": {},
   "outputs": [
    {
     "data": {
      "text/html": [
       "<div>\n",
       "<style scoped>\n",
       "    .dataframe tbody tr th:only-of-type {\n",
       "        vertical-align: middle;\n",
       "    }\n",
       "\n",
       "    .dataframe tbody tr th {\n",
       "        vertical-align: top;\n",
       "    }\n",
       "\n",
       "    .dataframe thead th {\n",
       "        text-align: right;\n",
       "    }\n",
       "</style>\n",
       "<table border=\"1\" class=\"dataframe\">\n",
       "  <thead>\n",
       "    <tr style=\"text-align: right;\">\n",
       "      <th>Won_Championship</th>\n",
       "      <th>0</th>\n",
       "      <th>1</th>\n",
       "    </tr>\n",
       "    <tr>\n",
       "      <th>Team_Value</th>\n",
       "      <th></th>\n",
       "      <th></th>\n",
       "    </tr>\n",
       "  </thead>\n",
       "  <tbody>\n",
       "    <tr>\n",
       "      <td>Above_Four_Billion</td>\n",
       "      <td>369</td>\n",
       "      <td>348</td>\n",
       "    </tr>\n",
       "    <tr>\n",
       "      <td>Less_Than_Four_Billion</td>\n",
       "      <td>2545</td>\n",
       "      <td>2585</td>\n",
       "    </tr>\n",
       "    <tr>\n",
       "      <td>Less_Than_Three_Billion</td>\n",
       "      <td>331</td>\n",
       "      <td>322</td>\n",
       "    </tr>\n",
       "  </tbody>\n",
       "</table>\n",
       "</div>"
      ],
      "text/plain": [
       "Won_Championship            0     1\n",
       "Team_Value                         \n",
       "Above_Four_Billion        369   348\n",
       "Less_Than_Four_Billion   2545  2585\n",
       "Less_Than_Three_Billion   331   322"
      ]
     },
     "execution_count": 10,
     "metadata": {},
     "output_type": "execute_result"
    }
   ],
   "source": [
    "pd.crosstab(train['Team_Value'], train['Won_Championship'])"
   ]
  },
  {
   "cell_type": "code",
   "execution_count": 13,
   "metadata": {},
   "outputs": [
    {
     "data": {
      "text/html": [
       "<div>\n",
       "<style scoped>\n",
       "    .dataframe tbody tr th:only-of-type {\n",
       "        vertical-align: middle;\n",
       "    }\n",
       "\n",
       "    .dataframe tbody tr th {\n",
       "        vertical-align: top;\n",
       "    }\n",
       "\n",
       "    .dataframe thead th {\n",
       "        text-align: right;\n",
       "    }\n",
       "</style>\n",
       "<table border=\"1\" class=\"dataframe\">\n",
       "  <thead>\n",
       "    <tr style=\"text-align: right;\">\n",
       "      <th>Won_Championship</th>\n",
       "      <th>0</th>\n",
       "      <th>1</th>\n",
       "    </tr>\n",
       "    <tr>\n",
       "      <th>Playing_Style</th>\n",
       "      <th></th>\n",
       "      <th></th>\n",
       "    </tr>\n",
       "  </thead>\n",
       "  <tbody>\n",
       "    <tr>\n",
       "      <td>Aggressive_Defense</td>\n",
       "      <td>1602</td>\n",
       "      <td>1602</td>\n",
       "    </tr>\n",
       "    <tr>\n",
       "      <td>Aggressive_Offense</td>\n",
       "      <td>117</td>\n",
       "      <td>106</td>\n",
       "    </tr>\n",
       "    <tr>\n",
       "      <td>Balanced</td>\n",
       "      <td>1444</td>\n",
       "      <td>1464</td>\n",
       "    </tr>\n",
       "    <tr>\n",
       "      <td>Relaxed</td>\n",
       "      <td>82</td>\n",
       "      <td>83</td>\n",
       "    </tr>\n",
       "  </tbody>\n",
       "</table>\n",
       "</div>"
      ],
      "text/plain": [
       "Won_Championship       0     1\n",
       "Playing_Style                 \n",
       "Aggressive_Defense  1602  1602\n",
       "Aggressive_Offense   117   106\n",
       "Balanced            1444  1464\n",
       "Relaxed               82    83"
      ]
     },
     "execution_count": 13,
     "metadata": {},
     "output_type": "execute_result"
    }
   ],
   "source": [
    "pd.crosstab(train['Playing_Style'], train['Won_Championship'])"
   ]
  },
  {
   "cell_type": "code",
   "execution_count": 14,
   "metadata": {},
   "outputs": [
    {
     "data": {
      "text/plain": [
       "14    2269\n",
       "13    1636\n",
       "15    1481\n",
       "12     542\n",
       "16     421\n",
       "11      82\n",
       "17      56\n",
       "10       7\n",
       "18       6\n",
       "Name: Number_Of_Wins_This_Season, dtype: int64"
      ]
     },
     "execution_count": 14,
     "metadata": {},
     "output_type": "execute_result"
    }
   ],
   "source": [
    "train['Number_Of_Wins_This_Season'].value_counts()"
   ]
  },
  {
   "cell_type": "code",
   "execution_count": 15,
   "metadata": {},
   "outputs": [
    {
     "data": {
      "text/html": [
       "<div>\n",
       "<style scoped>\n",
       "    .dataframe tbody tr th:only-of-type {\n",
       "        vertical-align: middle;\n",
       "    }\n",
       "\n",
       "    .dataframe tbody tr th {\n",
       "        vertical-align: top;\n",
       "    }\n",
       "\n",
       "    .dataframe thead th {\n",
       "        text-align: right;\n",
       "    }\n",
       "</style>\n",
       "<table border=\"1\" class=\"dataframe\">\n",
       "  <thead>\n",
       "    <tr style=\"text-align: right;\">\n",
       "      <th>Won_Championship</th>\n",
       "      <th>0</th>\n",
       "      <th>1</th>\n",
       "    </tr>\n",
       "    <tr>\n",
       "      <th>Number_Of_Wins_This_Season</th>\n",
       "      <th></th>\n",
       "      <th></th>\n",
       "    </tr>\n",
       "  </thead>\n",
       "  <tbody>\n",
       "    <tr>\n",
       "      <td>10</td>\n",
       "      <td>5</td>\n",
       "      <td>2</td>\n",
       "    </tr>\n",
       "    <tr>\n",
       "      <td>11</td>\n",
       "      <td>46</td>\n",
       "      <td>36</td>\n",
       "    </tr>\n",
       "    <tr>\n",
       "      <td>12</td>\n",
       "      <td>285</td>\n",
       "      <td>257</td>\n",
       "    </tr>\n",
       "    <tr>\n",
       "      <td>13</td>\n",
       "      <td>787</td>\n",
       "      <td>849</td>\n",
       "    </tr>\n",
       "    <tr>\n",
       "      <td>14</td>\n",
       "      <td>1115</td>\n",
       "      <td>1154</td>\n",
       "    </tr>\n",
       "    <tr>\n",
       "      <td>15</td>\n",
       "      <td>711</td>\n",
       "      <td>770</td>\n",
       "    </tr>\n",
       "    <tr>\n",
       "      <td>16</td>\n",
       "      <td>258</td>\n",
       "      <td>163</td>\n",
       "    </tr>\n",
       "    <tr>\n",
       "      <td>17</td>\n",
       "      <td>36</td>\n",
       "      <td>20</td>\n",
       "    </tr>\n",
       "    <tr>\n",
       "      <td>18</td>\n",
       "      <td>2</td>\n",
       "      <td>4</td>\n",
       "    </tr>\n",
       "  </tbody>\n",
       "</table>\n",
       "</div>"
      ],
      "text/plain": [
       "Won_Championship               0     1\n",
       "Number_Of_Wins_This_Season            \n",
       "10                             5     2\n",
       "11                            46    36\n",
       "12                           285   257\n",
       "13                           787   849\n",
       "14                          1115  1154\n",
       "15                           711   770\n",
       "16                           258   163\n",
       "17                            36    20\n",
       "18                             2     4"
      ]
     },
     "execution_count": 15,
     "metadata": {},
     "output_type": "execute_result"
    }
   ],
   "source": [
    "pd.crosstab(train['Number_Of_Wins_This_Season'], train['Won_Championship'])"
   ]
  },
  {
   "cell_type": "code",
   "execution_count": 16,
   "metadata": {},
   "outputs": [
    {
     "data": {
      "text/plain": [
       "26    3786\n",
       "27    2385\n",
       "25     262\n",
       "28      66\n",
       "24       1\n",
       "Name: Average_Player_Age, dtype: int64"
      ]
     },
     "execution_count": 16,
     "metadata": {},
     "output_type": "execute_result"
    }
   ],
   "source": [
    "train['Average_Player_Age'].value_counts()"
   ]
  },
  {
   "cell_type": "code",
   "execution_count": 17,
   "metadata": {},
   "outputs": [
    {
     "data": {
      "text/html": [
       "<div>\n",
       "<style scoped>\n",
       "    .dataframe tbody tr th:only-of-type {\n",
       "        vertical-align: middle;\n",
       "    }\n",
       "\n",
       "    .dataframe tbody tr th {\n",
       "        vertical-align: top;\n",
       "    }\n",
       "\n",
       "    .dataframe thead th {\n",
       "        text-align: right;\n",
       "    }\n",
       "</style>\n",
       "<table border=\"1\" class=\"dataframe\">\n",
       "  <thead>\n",
       "    <tr style=\"text-align: right;\">\n",
       "      <th>Won_Championship</th>\n",
       "      <th>0</th>\n",
       "      <th>1</th>\n",
       "    </tr>\n",
       "    <tr>\n",
       "      <th>Average_Player_Age</th>\n",
       "      <th></th>\n",
       "      <th></th>\n",
       "    </tr>\n",
       "  </thead>\n",
       "  <tbody>\n",
       "    <tr>\n",
       "      <td>24</td>\n",
       "      <td>1</td>\n",
       "      <td>0</td>\n",
       "    </tr>\n",
       "    <tr>\n",
       "      <td>25</td>\n",
       "      <td>176</td>\n",
       "      <td>86</td>\n",
       "    </tr>\n",
       "    <tr>\n",
       "      <td>26</td>\n",
       "      <td>1842</td>\n",
       "      <td>1944</td>\n",
       "    </tr>\n",
       "    <tr>\n",
       "      <td>27</td>\n",
       "      <td>1182</td>\n",
       "      <td>1203</td>\n",
       "    </tr>\n",
       "    <tr>\n",
       "      <td>28</td>\n",
       "      <td>44</td>\n",
       "      <td>22</td>\n",
       "    </tr>\n",
       "  </tbody>\n",
       "</table>\n",
       "</div>"
      ],
      "text/plain": [
       "Won_Championship       0     1\n",
       "Average_Player_Age            \n",
       "24                     1     0\n",
       "25                   176    86\n",
       "26                  1842  1944\n",
       "27                  1182  1203\n",
       "28                    44    22"
      ]
     },
     "execution_count": 17,
     "metadata": {},
     "output_type": "execute_result"
    }
   ],
   "source": [
    "pd.crosstab(train['Average_Player_Age'], train['Won_Championship'])"
   ]
  },
  {
   "cell_type": "code",
   "execution_count": 11,
   "metadata": {},
   "outputs": [
    {
     "data": {
      "text/plain": [
       "five     1894\n",
       "six      1799\n",
       "four     1069\n",
       "seven     972\n",
       "three     343\n",
       "eight     289\n",
       "two        78\n",
       "nine       44\n",
       "one        10\n",
       "ten         2\n",
       "Name: Number_Of_Injured_Players, dtype: int64"
      ]
     },
     "execution_count": 11,
     "metadata": {},
     "output_type": "execute_result"
    }
   ],
   "source": [
    "train['Number_Of_Injured_Players'].value_counts()"
   ]
  },
  {
   "cell_type": "code",
   "execution_count": null,
   "metadata": {},
   "outputs": [],
   "source": []
  },
  {
   "cell_type": "code",
   "execution_count": null,
   "metadata": {},
   "outputs": [],
   "source": []
  },
  {
   "cell_type": "code",
   "execution_count": 29,
   "metadata": {},
   "outputs": [],
   "source": [
    "test_id = test['ID']"
   ]
  },
  {
   "cell_type": "code",
   "execution_count": 30,
   "metadata": {},
   "outputs": [],
   "source": [
    "test = test.drop('ID', axis=1)"
   ]
  },
  {
   "cell_type": "code",
   "execution_count": 40,
   "metadata": {},
   "outputs": [],
   "source": [
    "train = train.drop('ID', axis=1)"
   ]
  },
  {
   "cell_type": "code",
   "execution_count": 31,
   "metadata": {},
   "outputs": [],
   "source": [
    "categorical_feats = [\n",
    "    f for f in train.columns if train[f].dtype == 'object'\n",
    "]\n",
    "\n",
    "categorical_feats\n",
    "for f_ in categorical_feats:\n",
    "    train[f_], _ = pd.factorize(train[f_])\n",
    "    # Set feature type as categorical\n",
    "    train[f_] = train[f_].astype('category').cat.codes"
   ]
  },
  {
   "cell_type": "code",
   "execution_count": null,
   "metadata": {},
   "outputs": [],
   "source": [
    "categorical_feats = [\n",
    "    f for f in df2.columns if df2[f].dtype == 'float64'\n",
    "]\n",
    "\n",
    "categorical_feats\n",
    "for f_ in categorical_feats:\n",
    "    #df2[f_], _ = pd.factorize(df2[f_])\n",
    "    # Set feature type as categoricalAXC\n",
    "    df2[f_] = df2[f_].map(df2[f_].value_counts().to_dict())"
   ]
  },
  {
   "cell_type": "code",
   "execution_count": 32,
   "metadata": {},
   "outputs": [],
   "source": [
    "categorical_feats = [\n",
    "    f for f in test.columns if test[f].dtype == 'object'\n",
    "]\n",
    "\n",
    "categorical_feats\n",
    "for f_ in categorical_feats:\n",
    "    test[f_], _ = pd.factorize(test[f_])\n",
    "    # Set feature type as categorical\n",
    "    test[f_] = test[f_].astype('category').cat.codes"
   ]
  },
  {
   "cell_type": "code",
   "execution_count": 33,
   "metadata": {},
   "outputs": [
    {
     "data": {
      "text/html": [
       "<div>\n",
       "<style scoped>\n",
       "    .dataframe tbody tr th:only-of-type {\n",
       "        vertical-align: middle;\n",
       "    }\n",
       "\n",
       "    .dataframe tbody tr th {\n",
       "        vertical-align: top;\n",
       "    }\n",
       "\n",
       "    .dataframe thead th {\n",
       "        text-align: right;\n",
       "    }\n",
       "</style>\n",
       "<table border=\"1\" class=\"dataframe\">\n",
       "  <thead>\n",
       "    <tr style=\"text-align: right;\">\n",
       "      <th></th>\n",
       "      <th>Won_Championship</th>\n",
       "      <th>Previous_SB_Wins</th>\n",
       "      <th>Number_Of_Wins_This_Season</th>\n",
       "      <th>Number_Of_First_Round_Draft_Picks</th>\n",
       "      <th>Team_Value</th>\n",
       "      <th>Playing_Style</th>\n",
       "      <th>Average_Player_Age</th>\n",
       "      <th>Number_Of_Injured_Players</th>\n",
       "      <th>Coach_Experience_Level</th>\n",
       "      <th>ID</th>\n",
       "    </tr>\n",
       "  </thead>\n",
       "  <tbody>\n",
       "    <tr>\n",
       "      <td>0</td>\n",
       "      <td>0</td>\n",
       "      <td>3</td>\n",
       "      <td>13</td>\n",
       "      <td>2</td>\n",
       "      <td>0</td>\n",
       "      <td>0</td>\n",
       "      <td>27</td>\n",
       "      <td>0</td>\n",
       "      <td>0</td>\n",
       "      <td>6056</td>\n",
       "    </tr>\n",
       "    <tr>\n",
       "      <td>1</td>\n",
       "      <td>0</td>\n",
       "      <td>2</td>\n",
       "      <td>14</td>\n",
       "      <td>2</td>\n",
       "      <td>0</td>\n",
       "      <td>1</td>\n",
       "      <td>26</td>\n",
       "      <td>0</td>\n",
       "      <td>0</td>\n",
       "      <td>9702</td>\n",
       "    </tr>\n",
       "    <tr>\n",
       "      <td>2</td>\n",
       "      <td>1</td>\n",
       "      <td>2</td>\n",
       "      <td>13</td>\n",
       "      <td>1</td>\n",
       "      <td>0</td>\n",
       "      <td>2</td>\n",
       "      <td>27</td>\n",
       "      <td>1</td>\n",
       "      <td>0</td>\n",
       "      <td>1745</td>\n",
       "    </tr>\n",
       "    <tr>\n",
       "      <td>3</td>\n",
       "      <td>0</td>\n",
       "      <td>2</td>\n",
       "      <td>12</td>\n",
       "      <td>2</td>\n",
       "      <td>1</td>\n",
       "      <td>0</td>\n",
       "      <td>27</td>\n",
       "      <td>2</td>\n",
       "      <td>0</td>\n",
       "      <td>4757</td>\n",
       "    </tr>\n",
       "    <tr>\n",
       "      <td>4</td>\n",
       "      <td>0</td>\n",
       "      <td>1</td>\n",
       "      <td>15</td>\n",
       "      <td>2</td>\n",
       "      <td>0</td>\n",
       "      <td>0</td>\n",
       "      <td>26</td>\n",
       "      <td>0</td>\n",
       "      <td>0</td>\n",
       "      <td>7242</td>\n",
       "    </tr>\n",
       "  </tbody>\n",
       "</table>\n",
       "</div>"
      ],
      "text/plain": [
       "   Won_Championship  Previous_SB_Wins  Number_Of_Wins_This_Season  \\\n",
       "0                 0                 3                          13   \n",
       "1                 0                 2                          14   \n",
       "2                 1                 2                          13   \n",
       "3                 0                 2                          12   \n",
       "4                 0                 1                          15   \n",
       "\n",
       "   Number_Of_First_Round_Draft_Picks  Team_Value  Playing_Style  \\\n",
       "0                                  2           0              0   \n",
       "1                                  2           0              1   \n",
       "2                                  1           0              2   \n",
       "3                                  2           1              0   \n",
       "4                                  2           0              0   \n",
       "\n",
       "   Average_Player_Age  Number_Of_Injured_Players  Coach_Experience_Level    ID  \n",
       "0                  27                          0                       0  6056  \n",
       "1                  26                          0                       0  9702  \n",
       "2                  27                          1                       0  1745  \n",
       "3                  27                          2                       0  4757  \n",
       "4                  26                          0                       0  7242  "
      ]
     },
     "execution_count": 33,
     "metadata": {},
     "output_type": "execute_result"
    }
   ],
   "source": [
    "train.head()"
   ]
  },
  {
   "cell_type": "code",
   "execution_count": 41,
   "metadata": {},
   "outputs": [],
   "source": [
    "X = train.drop('Won_Championship', axis=1)\n",
    "y = train['Won_Championship']"
   ]
  },
  {
   "cell_type": "code",
   "execution_count": 42,
   "metadata": {},
   "outputs": [],
   "source": [
    "from catboost import CatBoostClassifier"
   ]
  },
  {
   "cell_type": "code",
   "execution_count": 43,
   "metadata": {},
   "outputs": [],
   "source": [
    "from sklearn.model_selection import train_test_split, StratifiedKFold"
   ]
  },
  {
   "cell_type": "code",
   "execution_count": 44,
   "metadata": {},
   "outputs": [],
   "source": [
    "# Split the data into 30% validation and 70% training\n",
    "X_train, X_test, y_train, y_test = train_test_split(X, y, test_size=0.15, random_state=1234)"
   ]
  },
  {
   "cell_type": "code",
   "execution_count": 45,
   "metadata": {},
   "outputs": [],
   "source": [
    "model = CatBoostClassifier(#reg_lambda=5,#learning_rate=0.1,#200 best so far\n",
    "                          loss_function='Logloss', eval_metric='Accuracy',\n",
    "                           #learning_rate=0.03,\n",
    "                       metric_period=20)#5"
   ]
  },
  {
   "cell_type": "code",
   "execution_count": 72,
   "metadata": {},
   "outputs": [
    {
     "name": "stdout",
     "output_type": "stream",
     "text": [
      "Learning rate set to 0.092775\n",
      "0:\tlearn: 0.7111538\ttest: 0.7111538\ttest1: 0.6992308\tbest: 0.6992308 (0)\ttotal: 2.22ms\tremaining: 2.22s\n",
      "20:\tlearn: 0.7575000\ttest: 0.7575000\ttest1: 0.7376923\tbest: 0.7376923 (20)\ttotal: 51.9ms\tremaining: 2.42s\n",
      "40:\tlearn: 0.7657692\ttest: 0.7657692\ttest1: 0.7430769\tbest: 0.7446154 (36)\ttotal: 85.7ms\tremaining: 2s\n",
      "60:\tlearn: 0.7707692\ttest: 0.7707692\ttest1: 0.7461538\tbest: 0.7461538 (59)\ttotal: 121ms\tremaining: 1.85s\n",
      "80:\tlearn: 0.7750000\ttest: 0.7750000\ttest1: 0.7492308\tbest: 0.7492308 (74)\ttotal: 153ms\tremaining: 1.74s\n",
      "100:\tlearn: 0.7786538\ttest: 0.7786538\ttest1: 0.7523077\tbest: 0.7523077 (100)\ttotal: 184ms\tremaining: 1.64s\n"
     ]
    },
    {
     "name": "stderr",
     "output_type": "stream",
     "text": [
      "Warning: Overfitting detector is active, thus evaluation metric is calculated on every iteration. 'metric_period' is ignored for evaluation metric.\n"
     ]
    },
    {
     "name": "stdout",
     "output_type": "stream",
     "text": [
      "120:\tlearn: 0.7834615\ttest: 0.7834615\ttest1: 0.7530769\tbest: 0.7538462 (104)\ttotal: 224ms\tremaining: 1.63s\n",
      "140:\tlearn: 0.7863462\ttest: 0.7863462\ttest1: 0.7561538\tbest: 0.7561538 (134)\ttotal: 261ms\tremaining: 1.59s\n",
      "160:\tlearn: 0.7878846\ttest: 0.7878846\ttest1: 0.7607692\tbest: 0.7607692 (159)\ttotal: 293ms\tremaining: 1.52s\n",
      "180:\tlearn: 0.7909615\ttest: 0.7909615\ttest1: 0.7600000\tbest: 0.7623077 (163)\ttotal: 327ms\tremaining: 1.48s\n",
      "200:\tlearn: 0.7919231\ttest: 0.7919231\ttest1: 0.7600000\tbest: 0.7623077 (163)\ttotal: 360ms\tremaining: 1.43s\n",
      "220:\tlearn: 0.7951923\ttest: 0.7951923\ttest1: 0.7615385\tbest: 0.7623077 (163)\ttotal: 396ms\tremaining: 1.4s\n",
      "240:\tlearn: 0.7973077\ttest: 0.7973077\ttest1: 0.7607692\tbest: 0.7623077 (163)\ttotal: 431ms\tremaining: 1.36s\n",
      "260:\tlearn: 0.7996154\ttest: 0.7996154\ttest1: 0.7615385\tbest: 0.7623077 (163)\ttotal: 465ms\tremaining: 1.32s\n",
      "Stopped by overfitting detector  (100 iterations wait)\n",
      "\n",
      "bestTest = 0.7623076923\n",
      "bestIteration = 163\n",
      "\n",
      "Shrink model to first 164 iterations.\n",
      "err:  0.7591582229150429\n",
      "Learning rate set to 0.092775\n",
      "0:\tlearn: 0.6609615\ttest: 0.6609615\ttest1: 0.6876923\tbest: 0.6876923 (0)\ttotal: 2.2ms\tremaining: 2.2s\n",
      "20:\tlearn: 0.7467308\ttest: 0.7467308\ttest1: 0.7515385\tbest: 0.7523077 (14)\ttotal: 36.1ms\tremaining: 1.68s\n",
      "40:\tlearn: 0.7536538\ttest: 0.7536538\ttest1: 0.7576923\tbest: 0.7584615 (32)\ttotal: 78.3ms\tremaining: 1.83s\n"
     ]
    },
    {
     "name": "stderr",
     "output_type": "stream",
     "text": [
      "Warning: Overfitting detector is active, thus evaluation metric is calculated on every iteration. 'metric_period' is ignored for evaluation metric.\n"
     ]
    },
    {
     "name": "stdout",
     "output_type": "stream",
     "text": [
      "60:\tlearn: 0.7576923\ttest: 0.7576923\ttest1: 0.7561538\tbest: 0.7584615 (32)\ttotal: 112ms\tremaining: 1.73s\n",
      "80:\tlearn: 0.7638462\ttest: 0.7638462\ttest1: 0.7630769\tbest: 0.7646154 (75)\ttotal: 145ms\tremaining: 1.65s\n",
      "100:\tlearn: 0.7717308\ttest: 0.7717308\ttest1: 0.7707692\tbest: 0.7707692 (100)\ttotal: 179ms\tremaining: 1.59s\n",
      "120:\tlearn: 0.7784615\ttest: 0.7784615\ttest1: 0.7730769\tbest: 0.7730769 (120)\ttotal: 213ms\tremaining: 1.54s\n",
      "140:\tlearn: 0.7807692\ttest: 0.7807692\ttest1: 0.7761538\tbest: 0.7776923 (136)\ttotal: 246ms\tremaining: 1.5s\n",
      "160:\tlearn: 0.7830769\ttest: 0.7830769\ttest1: 0.7769231\tbest: 0.7776923 (136)\ttotal: 279ms\tremaining: 1.45s\n",
      "180:\tlearn: 0.7834615\ttest: 0.7834615\ttest1: 0.7776923\tbest: 0.7776923 (136)\ttotal: 312ms\tremaining: 1.41s\n",
      "200:\tlearn: 0.7850000\ttest: 0.7850000\ttest1: 0.7776923\tbest: 0.7776923 (136)\ttotal: 347ms\tremaining: 1.38s\n",
      "220:\tlearn: 0.7878846\ttest: 0.7878846\ttest1: 0.7746154\tbest: 0.7776923 (136)\ttotal: 385ms\tremaining: 1.36s\n",
      "Stopped by overfitting detector  (100 iterations wait)\n",
      "\n",
      "bestTest = 0.7776923077\n",
      "bestIteration = 136\n",
      "\n",
      "Shrink model to first 137 iterations.\n",
      "err:  0.7778631821675634\n",
      "Learning rate set to 0.092775\n",
      "0:\tlearn: 0.7109615\ttest: 0.7109615\ttest1: 0.6992308\tbest: 0.6992308 (0)\ttotal: 2.1ms\tremaining: 2.1s\n",
      "20:\tlearn: 0.7517308\ttest: 0.7517308\ttest1: 0.7392308\tbest: 0.7400000 (16)\ttotal: 35.1ms\tremaining: 1.63s\n",
      "40:\tlearn: 0.7575000\ttest: 0.7575000\ttest1: 0.7415385\tbest: 0.7415385 (31)\ttotal: 68ms\tremaining: 1.59s\n",
      "60:\tlearn: 0.7611538\ttest: 0.7611538\ttest1: 0.7415385\tbest: 0.7430769 (51)\ttotal: 102ms\tremaining: 1.56s\n"
     ]
    },
    {
     "name": "stderr",
     "output_type": "stream",
     "text": [
      "Warning: Overfitting detector is active, thus evaluation metric is calculated on every iteration. 'metric_period' is ignored for evaluation metric.\n"
     ]
    },
    {
     "name": "stdout",
     "output_type": "stream",
     "text": [
      "80:\tlearn: 0.7698077\ttest: 0.7698077\ttest1: 0.7438462\tbest: 0.7438462 (78)\ttotal: 139ms\tremaining: 1.57s\n",
      "100:\tlearn: 0.7755769\ttest: 0.7755769\ttest1: 0.7469231\tbest: 0.7469231 (97)\ttotal: 173ms\tremaining: 1.54s\n",
      "120:\tlearn: 0.7840385\ttest: 0.7840385\ttest1: 0.7476923\tbest: 0.7507692 (106)\ttotal: 209ms\tremaining: 1.52s\n",
      "140:\tlearn: 0.7859615\ttest: 0.7859615\ttest1: 0.7507692\tbest: 0.7523077 (136)\ttotal: 248ms\tremaining: 1.51s\n",
      "160:\tlearn: 0.7867308\ttest: 0.7867308\ttest1: 0.7515385\tbest: 0.7523077 (136)\ttotal: 283ms\tremaining: 1.48s\n",
      "180:\tlearn: 0.7900000\ttest: 0.7900000\ttest1: 0.7492308\tbest: 0.7523077 (136)\ttotal: 320ms\tremaining: 1.45s\n",
      "200:\tlearn: 0.7923077\ttest: 0.7923077\ttest1: 0.7523077\tbest: 0.7538462 (197)\ttotal: 365ms\tremaining: 1.45s\n",
      "220:\tlearn: 0.7951923\ttest: 0.7951923\ttest1: 0.7546154\tbest: 0.7569231 (209)\ttotal: 407ms\tremaining: 1.43s\n",
      "240:\tlearn: 0.7955769\ttest: 0.7955769\ttest1: 0.7592308\tbest: 0.7592308 (238)\ttotal: 442ms\tremaining: 1.39s\n",
      "260:\tlearn: 0.7973077\ttest: 0.7973077\ttest1: 0.7569231\tbest: 0.7592308 (238)\ttotal: 475ms\tremaining: 1.34s\n",
      "280:\tlearn: 0.8005769\ttest: 0.8005769\ttest1: 0.7538462\tbest: 0.7592308 (238)\ttotal: 507ms\tremaining: 1.3s\n",
      "300:\tlearn: 0.8015385\ttest: 0.8015385\ttest1: 0.7530769\tbest: 0.7592308 (238)\ttotal: 548ms\tremaining: 1.27s\n",
      "320:\tlearn: 0.8023077\ttest: 0.8023077\ttest1: 0.7515385\tbest: 0.7592308 (238)\ttotal: 581ms\tremaining: 1.23s\n",
      "Stopped by overfitting detector  (100 iterations wait)\n",
      "\n",
      "bestTest = 0.7592307692\n",
      "bestIteration = 238\n",
      "\n",
      "Shrink model to first 239 iterations.\n",
      "err:  0.761977186311787\n",
      "Learning rate set to 0.092775\n",
      "0:\tlearn: 0.7098077\ttest: 0.7098077\ttest1: 0.7053846\tbest: 0.7053846 (0)\ttotal: 2.43ms\tremaining: 2.43s\n",
      "20:\tlearn: 0.7486538\ttest: 0.7486538\ttest1: 0.7469231\tbest: 0.7469231 (20)\ttotal: 38.9ms\tremaining: 1.81s\n",
      "40:\tlearn: 0.7542308\ttest: 0.7542308\ttest1: 0.7500000\tbest: 0.7507692 (25)\ttotal: 74ms\tremaining: 1.73s\n",
      "60:\tlearn: 0.7575000\ttest: 0.7575000\ttest1: 0.7484615\tbest: 0.7507692 (25)\ttotal: 109ms\tremaining: 1.68s\n"
     ]
    },
    {
     "name": "stderr",
     "output_type": "stream",
     "text": [
      "Warning: Overfitting detector is active, thus evaluation metric is calculated on every iteration. 'metric_period' is ignored for evaluation metric.\n"
     ]
    },
    {
     "name": "stdout",
     "output_type": "stream",
     "text": [
      "80:\tlearn: 0.7644231\ttest: 0.7644231\ttest1: 0.7523077\tbest: 0.7523077 (79)\ttotal: 151ms\tremaining: 1.71s\n",
      "100:\tlearn: 0.7700000\ttest: 0.7700000\ttest1: 0.7553846\tbest: 0.7576923 (83)\ttotal: 186ms\tremaining: 1.65s\n",
      "120:\tlearn: 0.7753846\ttest: 0.7753846\ttest1: 0.7600000\tbest: 0.7600000 (112)\ttotal: 220ms\tremaining: 1.59s\n",
      "140:\tlearn: 0.7794231\ttest: 0.7794231\ttest1: 0.7646154\tbest: 0.7646154 (134)\ttotal: 252ms\tremaining: 1.54s\n",
      "160:\tlearn: 0.7805769\ttest: 0.7805769\ttest1: 0.7623077\tbest: 0.7646154 (134)\ttotal: 285ms\tremaining: 1.49s\n",
      "180:\tlearn: 0.7851923\ttest: 0.7851923\ttest1: 0.7669231\tbest: 0.7669231 (171)\ttotal: 318ms\tremaining: 1.44s\n",
      "200:\tlearn: 0.7882692\ttest: 0.7882692\ttest1: 0.7661538\tbest: 0.7669231 (171)\ttotal: 352ms\tremaining: 1.4s\n",
      "220:\tlearn: 0.7898077\ttest: 0.7898077\ttest1: 0.7669231\tbest: 0.7669231 (171)\ttotal: 388ms\tremaining: 1.37s\n",
      "240:\tlearn: 0.7921154\ttest: 0.7921154\ttest1: 0.7653846\tbest: 0.7669231 (171)\ttotal: 426ms\tremaining: 1.34s\n",
      "260:\tlearn: 0.7944231\ttest: 0.7944231\ttest1: 0.7646154\tbest: 0.7669231 (171)\ttotal: 463ms\tremaining: 1.31s\n",
      "Stopped by overfitting detector  (100 iterations wait)\n",
      "\n",
      "bestTest = 0.7669230769\n",
      "bestIteration = 171\n",
      "\n",
      "Shrink model to first 172 iterations.\n",
      "err:  0.7663839629915189\n",
      "Learning rate set to 0.092775\n",
      "0:\tlearn: 0.7080769\ttest: 0.7080769\ttest1: 0.7130769\tbest: 0.7130769 (0)\ttotal: 2.83ms\tremaining: 2.83s\n",
      "20:\tlearn: 0.7515385\ttest: 0.7515385\ttest1: 0.7507692\tbest: 0.7538462 (17)\ttotal: 40.3ms\tremaining: 1.88s\n",
      "40:\tlearn: 0.7586538\ttest: 0.7586538\ttest1: 0.7538462\tbest: 0.7569231 (34)\ttotal: 72.6ms\tremaining: 1.7s\n"
     ]
    },
    {
     "name": "stderr",
     "output_type": "stream",
     "text": [
      "Warning: Overfitting detector is active, thus evaluation metric is calculated on every iteration. 'metric_period' is ignored for evaluation metric.\n"
     ]
    },
    {
     "name": "stdout",
     "output_type": "stream",
     "text": [
      "60:\tlearn: 0.7640385\ttest: 0.7640385\ttest1: 0.7546154\tbest: 0.7576923 (49)\ttotal: 107ms\tremaining: 1.65s\n",
      "80:\tlearn: 0.7686538\ttest: 0.7686538\ttest1: 0.7500000\tbest: 0.7576923 (49)\ttotal: 146ms\tremaining: 1.65s\n",
      "100:\tlearn: 0.7721154\ttest: 0.7721154\ttest1: 0.7523077\tbest: 0.7576923 (49)\ttotal: 181ms\tremaining: 1.61s\n",
      "120:\tlearn: 0.7776923\ttest: 0.7776923\ttest1: 0.7538462\tbest: 0.7576923 (49)\ttotal: 217ms\tremaining: 1.58s\n",
      "140:\tlearn: 0.7830769\ttest: 0.7830769\ttest1: 0.7523077\tbest: 0.7576923 (49)\ttotal: 251ms\tremaining: 1.53s\n",
      "160:\tlearn: 0.7867308\ttest: 0.7867308\ttest1: 0.7530769\tbest: 0.7584615 (145)\ttotal: 285ms\tremaining: 1.48s\n",
      "180:\tlearn: 0.7878846\ttest: 0.7878846\ttest1: 0.7600000\tbest: 0.7600000 (180)\ttotal: 321ms\tremaining: 1.45s\n",
      "200:\tlearn: 0.7928846\ttest: 0.7928846\ttest1: 0.7607692\tbest: 0.7638462 (183)\ttotal: 353ms\tremaining: 1.4s\n",
      "220:\tlearn: 0.7950000\ttest: 0.7950000\ttest1: 0.7607692\tbest: 0.7638462 (183)\ttotal: 385ms\tremaining: 1.36s\n",
      "240:\tlearn: 0.7955769\ttest: 0.7955769\ttest1: 0.7623077\tbest: 0.7638462 (183)\ttotal: 417ms\tremaining: 1.31s\n",
      "260:\tlearn: 0.7973077\ttest: 0.7973077\ttest1: 0.7600000\tbest: 0.7638462 (183)\ttotal: 450ms\tremaining: 1.27s\n",
      "280:\tlearn: 0.7984615\ttest: 0.7984615\ttest1: 0.7623077\tbest: 0.7638462 (183)\ttotal: 483ms\tremaining: 1.24s\n",
      "Stopped by overfitting detector  (100 iterations wait)\n",
      "\n",
      "bestTest = 0.7638461538\n",
      "bestIteration = 183\n",
      "\n",
      "Shrink model to first 184 iterations.\n",
      "err:  0.7647509578544062\n"
     ]
    }
   ],
   "source": [
    "from sklearn.metrics import f1_score,confusion_matrix,roc_auc_score, mean_absolute_error, mean_squared_error, f1_score\n",
    "errcb=[]\n",
    "y_pred_totcb=[]\n",
    "from sklearn.model_selection import KFold,StratifiedKFold, TimeSeriesSplit, GroupKFold\n",
    "fold=StratifiedKFold(n_splits=5,shuffle=True, random_state=42)\n",
    "i=1\n",
    "for train_index, test_index in fold.split(X,y):\n",
    "    X_train, X_test = X.iloc[train_index], X.iloc[test_index],\n",
    "    y_train, y_test = y[train_index], y[test_index]\n",
    "    m=model#LGBMRegressor(**params)\n",
    "    #LGBMRegressor(**params)\n",
    "    m.fit(X_train,y_train,eval_set=[(X_train,y_train),(X_test, y_test)], early_stopping_rounds=100)\n",
    "    preds=m.predict(X_test)\n",
    "    print(\"err: \",f1_score(y_test,preds))\n",
    "    errcb.append(f1_score(y_test,preds))\n",
    "    p = m.predict(test)\n",
    "    y_pred_totcb.append(p)"
   ]
  },
  {
   "cell_type": "code",
   "execution_count": 73,
   "metadata": {},
   "outputs": [
    {
     "data": {
      "text/plain": [
       "0.7660267024480636"
      ]
     },
     "execution_count": 73,
     "metadata": {},
     "output_type": "execute_result"
    }
   ],
   "source": [
    "np.mean(errcb)"
   ]
  },
  {
   "cell_type": "code",
   "execution_count": 77,
   "metadata": {},
   "outputs": [],
   "source": [
    "from sklearn.ensemble import RandomForestClassifier"
   ]
  },
  {
   "cell_type": "code",
   "execution_count": 79,
   "metadata": {},
   "outputs": [],
   "source": [
    "rf = RandomForestClassifier()"
   ]
  },
  {
   "cell_type": "code",
   "execution_count": 80,
   "metadata": {},
   "outputs": [
    {
     "name": "stderr",
     "output_type": "stream",
     "text": [
      "C:\\Users\\nraheem\\AppData\\Local\\Continuum\\anaconda3\\lib\\site-packages\\sklearn\\ensemble\\forest.py:245: FutureWarning: The default value of n_estimators will change from 10 in version 0.20 to 100 in 0.22.\n",
      "  \"10 in version 0.20 to 100 in 0.22.\", FutureWarning)\n"
     ]
    },
    {
     "data": {
      "text/plain": [
       "RandomForestClassifier(bootstrap=True, class_weight=None, criterion='gini',\n",
       "                       max_depth=None, max_features='auto', max_leaf_nodes=None,\n",
       "                       min_impurity_decrease=0.0, min_impurity_split=None,\n",
       "                       min_samples_leaf=1, min_samples_split=2,\n",
       "                       min_weight_fraction_leaf=0.0, n_estimators=10,\n",
       "                       n_jobs=None, oob_score=False, random_state=None,\n",
       "                       verbose=0, warm_start=False)"
      ]
     },
     "execution_count": 80,
     "metadata": {},
     "output_type": "execute_result"
    }
   ],
   "source": [
    "rf.fit(X,y)"
   ]
  },
  {
   "cell_type": "code",
   "execution_count": 74,
   "metadata": {},
   "outputs": [
    {
     "name": "stdout",
     "output_type": "stream",
     "text": [
      "Learning rate set to 0.094975\n",
      "0:\tlearn: 0.7090769\ttest: 0.7090769\tbest: 0.7090769 (0)\ttotal: 2.47ms\tremaining: 2.46s\n",
      "20:\tlearn: 0.7532308\ttest: 0.7532308\tbest: 0.7532308 (20)\ttotal: 42.1ms\tremaining: 1.96s\n",
      "40:\tlearn: 0.7606154\ttest: 0.7606154\tbest: 0.7618462 (38)\ttotal: 83.5ms\tremaining: 1.95s\n",
      "60:\tlearn: 0.7661538\ttest: 0.7661538\tbest: 0.7661538 (60)\ttotal: 124ms\tremaining: 1.92s\n",
      "80:\tlearn: 0.7712308\ttest: 0.7712308\tbest: 0.7713846 (79)\ttotal: 163ms\tremaining: 1.85s\n"
     ]
    },
    {
     "name": "stderr",
     "output_type": "stream",
     "text": [
      "Warning: Overfitting detector is active, thus evaluation metric is calculated on every iteration. 'metric_period' is ignored for evaluation metric.\n"
     ]
    },
    {
     "name": "stdout",
     "output_type": "stream",
     "text": [
      "100:\tlearn: 0.7730769\ttest: 0.7730769\tbest: 0.7730769 (97)\ttotal: 206ms\tremaining: 1.83s\n",
      "120:\tlearn: 0.7783077\ttest: 0.7783077\tbest: 0.7783077 (114)\ttotal: 245ms\tremaining: 1.78s\n",
      "140:\tlearn: 0.7801538\ttest: 0.7801538\tbest: 0.7804615 (138)\ttotal: 284ms\tremaining: 1.73s\n",
      "160:\tlearn: 0.7835385\ttest: 0.7835385\tbest: 0.7835385 (160)\ttotal: 324ms\tremaining: 1.69s\n",
      "180:\tlearn: 0.7861538\ttest: 0.7861538\tbest: 0.7861538 (179)\ttotal: 362ms\tremaining: 1.64s\n",
      "200:\tlearn: 0.7873846\ttest: 0.7873846\tbest: 0.7883077 (199)\ttotal: 402ms\tremaining: 1.6s\n",
      "220:\tlearn: 0.7901538\ttest: 0.7901538\tbest: 0.7901538 (220)\ttotal: 441ms\tremaining: 1.55s\n",
      "240:\tlearn: 0.7907692\ttest: 0.7907692\tbest: 0.7909231 (236)\ttotal: 481ms\tremaining: 1.51s\n",
      "260:\tlearn: 0.7915385\ttest: 0.7915385\tbest: 0.7915385 (257)\ttotal: 523ms\tremaining: 1.48s\n",
      "280:\tlearn: 0.7936923\ttest: 0.7936923\tbest: 0.7936923 (279)\ttotal: 563ms\tremaining: 1.44s\n",
      "300:\tlearn: 0.7950769\ttest: 0.7950769\tbest: 0.7952308 (294)\ttotal: 604ms\tremaining: 1.4s\n",
      "320:\tlearn: 0.7956923\ttest: 0.7956923\tbest: 0.7956923 (317)\ttotal: 648ms\tremaining: 1.37s\n",
      "340:\tlearn: 0.7970769\ttest: 0.7970769\tbest: 0.7970769 (340)\ttotal: 691ms\tremaining: 1.33s\n",
      "360:\tlearn: 0.7978462\ttest: 0.7978462\tbest: 0.7981538 (359)\ttotal: 731ms\tremaining: 1.29s\n",
      "380:\tlearn: 0.7986154\ttest: 0.7986154\tbest: 0.7986154 (378)\ttotal: 781ms\tremaining: 1.27s\n",
      "400:\tlearn: 0.7990769\ttest: 0.7990769\tbest: 0.7992308 (393)\ttotal: 822ms\tremaining: 1.23s\n",
      "420:\tlearn: 0.8001538\ttest: 0.8001538\tbest: 0.8003077 (410)\ttotal: 860ms\tremaining: 1.18s\n",
      "440:\tlearn: 0.8006154\ttest: 0.8006154\tbest: 0.8006154 (437)\ttotal: 898ms\tremaining: 1.14s\n",
      "460:\tlearn: 0.8004615\ttest: 0.8004615\tbest: 0.8009231 (446)\ttotal: 936ms\tremaining: 1.09s\n",
      "480:\tlearn: 0.8004615\ttest: 0.8004615\tbest: 0.8010769 (468)\ttotal: 982ms\tremaining: 1.06s\n",
      "500:\tlearn: 0.8015385\ttest: 0.8015385\tbest: 0.8015385 (496)\ttotal: 1.02s\tremaining: 1.02s\n",
      "520:\tlearn: 0.8026154\ttest: 0.8026154\tbest: 0.8026154 (519)\ttotal: 1.06s\tremaining: 974ms\n",
      "540:\tlearn: 0.8027692\ttest: 0.8027692\tbest: 0.8027692 (539)\ttotal: 1.11s\tremaining: 944ms\n",
      "560:\tlearn: 0.8036923\ttest: 0.8036923\tbest: 0.8036923 (558)\ttotal: 1.15s\tremaining: 901ms\n",
      "580:\tlearn: 0.8041538\ttest: 0.8041538\tbest: 0.8041538 (577)\ttotal: 1.19s\tremaining: 861ms\n",
      "600:\tlearn: 0.8044615\ttest: 0.8044615\tbest: 0.8047692 (595)\ttotal: 1.24s\tremaining: 822ms\n",
      "620:\tlearn: 0.8049231\ttest: 0.8049231\tbest: 0.8049231 (619)\ttotal: 1.28s\tremaining: 780ms\n",
      "640:\tlearn: 0.8050769\ttest: 0.8050769\tbest: 0.8050769 (640)\ttotal: 1.32s\tremaining: 739ms\n",
      "660:\tlearn: 0.8052308\ttest: 0.8052308\tbest: 0.8055385 (657)\ttotal: 1.36s\tremaining: 697ms\n",
      "680:\tlearn: 0.8056923\ttest: 0.8056923\tbest: 0.8061538 (675)\ttotal: 1.4s\tremaining: 658ms\n",
      "700:\tlearn: 0.8058462\ttest: 0.8058462\tbest: 0.8061538 (675)\ttotal: 1.44s\tremaining: 616ms\n",
      "720:\tlearn: 0.8063077\ttest: 0.8063077\tbest: 0.8063077 (719)\ttotal: 1.49s\tremaining: 575ms\n",
      "740:\tlearn: 0.8061538\ttest: 0.8061538\tbest: 0.8063077 (719)\ttotal: 1.52s\tremaining: 533ms\n",
      "760:\tlearn: 0.8072308\ttest: 0.8072308\tbest: 0.8072308 (758)\ttotal: 1.56s\tremaining: 491ms\n",
      "780:\tlearn: 0.8072308\ttest: 0.8072308\tbest: 0.8073846 (776)\ttotal: 1.6s\tremaining: 450ms\n",
      "800:\tlearn: 0.8073846\ttest: 0.8073846\tbest: 0.8073846 (776)\ttotal: 1.64s\tremaining: 408ms\n",
      "820:\tlearn: 0.8080000\ttest: 0.8080000\tbest: 0.8080000 (820)\ttotal: 1.68s\tremaining: 366ms\n",
      "840:\tlearn: 0.8083077\ttest: 0.8083077\tbest: 0.8083077 (839)\ttotal: 1.72s\tremaining: 325ms\n",
      "860:\tlearn: 0.8076923\ttest: 0.8076923\tbest: 0.8084615 (856)\ttotal: 1.76s\tremaining: 284ms\n",
      "880:\tlearn: 0.8083077\ttest: 0.8083077\tbest: 0.8084615 (856)\ttotal: 1.79s\tremaining: 243ms\n",
      "900:\tlearn: 0.8080000\ttest: 0.8080000\tbest: 0.8084615 (856)\ttotal: 1.84s\tremaining: 202ms\n",
      "920:\tlearn: 0.8090769\ttest: 0.8090769\tbest: 0.8090769 (916)\ttotal: 1.88s\tremaining: 161ms\n",
      "940:\tlearn: 0.8090769\ttest: 0.8090769\tbest: 0.8090769 (916)\ttotal: 1.92s\tremaining: 120ms\n",
      "960:\tlearn: 0.8096923\ttest: 0.8096923\tbest: 0.8096923 (953)\ttotal: 1.95s\tremaining: 79.3ms\n",
      "980:\tlearn: 0.8104615\ttest: 0.8104615\tbest: 0.8106154 (965)\ttotal: 1.99s\tremaining: 38.6ms\n",
      "999:\tlearn: 0.8110769\ttest: 0.8110769\tbest: 0.8112308 (989)\ttotal: 2.03s\tremaining: 0us\n",
      "\n",
      "bestTest = 0.8112307692\n",
      "bestIteration = 989\n",
      "\n",
      "Shrink model to first 990 iterations.\n"
     ]
    },
    {
     "data": {
      "text/plain": [
       "<catboost.core.CatBoostClassifier at 0x21599eccc88>"
      ]
     },
     "execution_count": 74,
     "metadata": {},
     "output_type": "execute_result"
    }
   ],
   "source": []
  },
  {
   "cell_type": "code",
   "execution_count": 81,
   "metadata": {},
   "outputs": [],
   "source": [
    "preds = rf.predict(test)"
   ]
  },
  {
   "cell_type": "code",
   "execution_count": 82,
   "metadata": {},
   "outputs": [],
   "source": [
    "pd.DataFrame({'ID':test_id, 'Won_Championship':preds}).to_csv('win4.csv', index=False)"
   ]
  },
  {
   "cell_type": "code",
   "execution_count": 65,
   "metadata": {},
   "outputs": [],
   "source": [
    "preds = np.mean(y_pred_totcb, 0)"
   ]
  },
  {
   "cell_type": "code",
   "execution_count": 66,
   "metadata": {},
   "outputs": [],
   "source": [
    "pred = pd.DataFrame(preds, columns=['Won_Championship'])"
   ]
  },
  {
   "cell_type": "code",
   "execution_count": 67,
   "metadata": {},
   "outputs": [
    {
     "data": {
      "text/plain": [
       "0.0    1612\n",
       "1.0    1119\n",
       "0.2     247\n",
       "0.8     223\n",
       "0.4     150\n",
       "0.6     149\n",
       "Name: Won_Championship, dtype: int64"
      ]
     },
     "execution_count": 67,
     "metadata": {},
     "output_type": "execute_result"
    }
   ],
   "source": [
    "pred['Won_Championship'].value_counts()"
   ]
  },
  {
   "cell_type": "code",
   "execution_count": 68,
   "metadata": {},
   "outputs": [],
   "source": [
    "def thresh(x):\n",
    "    if x <= 0.2:\n",
    "        return 0\n",
    "    else:\n",
    "        return 1"
   ]
  },
  {
   "cell_type": "code",
   "execution_count": 69,
   "metadata": {},
   "outputs": [],
   "source": [
    "pred['Won_Championship'] = pred['Won_Championship'].apply(thresh)"
   ]
  },
  {
   "cell_type": "code",
   "execution_count": 70,
   "metadata": {},
   "outputs": [
    {
     "data": {
      "text/plain": [
       "0    1859\n",
       "1    1641\n",
       "Name: Won_Championship, dtype: int64"
      ]
     },
     "execution_count": 70,
     "metadata": {},
     "output_type": "execute_result"
    }
   ],
   "source": [
    "pred['Won_Championship'].value_counts()"
   ]
  },
  {
   "cell_type": "code",
   "execution_count": 71,
   "metadata": {},
   "outputs": [],
   "source": [
    "pd.DataFrame({'ID':test_id, 'Won_Championship':pred['Won_Championship']}).to_csv('win2.csv', index=False)"
   ]
  },
  {
   "cell_type": "code",
   "execution_count": null,
   "metadata": {},
   "outputs": [],
   "source": []
  }
 ],
 "metadata": {
  "kernelspec": {
   "display_name": "Python 3",
   "language": "python",
   "name": "python3"
  },
  "language_info": {
   "codemirror_mode": {
    "name": "ipython",
    "version": 3
   },
   "file_extension": ".py",
   "mimetype": "text/x-python",
   "name": "python",
   "nbconvert_exporter": "python",
   "pygments_lexer": "ipython3",
   "version": "3.7.4"
  }
 },
 "nbformat": 4,
 "nbformat_minor": 2
}
